{
 "cells": [
  {
   "cell_type": "markdown",
   "metadata": {},
   "source": [
    "# Artificial Intelligence Nanodegree\n",
    "\n",
    "## Convolutional Neural Networks\n",
    "\n",
    "## Project: Write an Algorithm for a Dog Identification App \n",
    "\n",
    "---\n",
    "\n",
    "In this notebook, some template code has already been provided for you, and you will need to implement additional functionality to successfully complete this project. You will not need to modify the included code beyond what is requested. Sections that begin with **'(IMPLEMENTATION)'** in the header indicate that the following block of code will require additional functionality which you must provide. Instructions will be provided for each section, and the specifics of the implementation are marked in the code block with a 'TODO' statement. Please be sure to read the instructions carefully! \n",
    "\n",
    "> **Note**: Once you have completed all of the code implementations, you need to finalize your work by exporting the iPython Notebook as an HTML document. Before exporting the notebook to html, all of the code cells need to have been run so that reviewers can see the final implementation and output. You can then export the notebook by using the menu above and navigating to  \\n\",\n",
    "    \"**File -> Download as -> HTML (.html)**. Include the finished document along with this notebook as your submission.\n",
    "\n",
    "In addition to implementing code, there will be questions that you must answer which relate to the project and your implementation. Each section where you will answer a question is preceded by a **'Question X'** header. Carefully read each question and provide thorough answers in the following text boxes that begin with **'Answer:'**. Your project submission will be evaluated based on your answers to each of the questions and the implementation you provide.\n",
    "\n",
    ">**Note:** Code and Markdown cells can be executed using the **Shift + Enter** keyboard shortcut.  Markdown cells can be edited by double-clicking the cell to enter edit mode.\n",
    "\n",
    "The rubric contains _optional_ \"Stand Out Suggestions\" for enhancing the project beyond the minimum requirements. If you decide to pursue the \"Stand Out Suggestions\", you should include the code in this IPython notebook.\n",
    "\n",
    "\n",
    "\n",
    "---\n",
    "### Why We're Here \n",
    "\n",
    "In this notebook, you will make the first steps towards developing an algorithm that could be used as part of a mobile or web app.  At the end of this project, your code will accept any user-supplied image as input.  If a dog is detected in the image, it will provide an estimate of the dog's breed.  If a human is detected, it will provide an estimate of the dog breed that is most resembling.  The image below displays potential sample output of your finished project (... but we expect that each student's algorithm will behave differently!). \n",
    "\n",
    "![Sample Dog Output](images/sample_dog_output.png)\n",
    "\n",
    "In this real-world setting, you will need to piece together a series of models to perform different tasks; for instance, the algorithm that detects humans in an image will be different from the CNN that infers dog breed.  There are many points of possible failure, and no perfect algorithm exists.  Your imperfect solution will nonetheless create a fun user experience!\n",
    "\n",
    "### The Road Ahead\n",
    "\n",
    "We break the notebook into separate steps.  Feel free to use the links below to navigate the notebook.\n",
    "\n",
    "* [Step 0](#step0): Import Datasets\n",
    "* [Step 1](#step1): Detect Humans\n",
    "* [Step 2](#step2): Detect Dogs\n",
    "* [Step 3](#step3): Create a CNN to Classify Dog Breeds (from Scratch)\n",
    "* [Step 4](#step4): Use a CNN to Classify Dog Breeds (using Transfer Learning)\n",
    "* [Step 5](#step5): Create a CNN to Classify Dog Breeds (using Transfer Learning)\n",
    "* [Step 6](#step6): Write your Algorithm\n",
    "* [Step 7](#step7): Test Your Algorithm\n",
    "\n",
    "---\n",
    "<a id='step0'></a>\n",
    "## Step 0: Import Datasets\n",
    "\n",
    "### Import Dog Dataset\n",
    "\n",
    "In the code cell below, we import a dataset of dog images.  We populate a few variables through the use of the `load_files` function from the scikit-learn library:\n",
    "- `train_files`, `valid_files`, `test_files` - numpy arrays containing file paths to images\n",
    "- `train_targets`, `valid_targets`, `test_targets` - numpy arrays containing onehot-encoded classification labels \n",
    "- `dog_names` - list of string-valued dog breed names for translating labels"
   ]
  },
  {
   "cell_type": "code",
   "execution_count": 274,
   "metadata": {
    "collapsed": true
   },
   "outputs": [],
   "source": [
    "import os\n",
    "os.chdir(\"C:\\\\Users\\\\srujanat\\\\Desktop\\\\CS109\\\\dog-project-master\")"
   ]
  },
  {
   "cell_type": "code",
   "execution_count": 275,
   "metadata": {},
   "outputs": [
    {
     "name": "stdout",
     "output_type": "stream",
     "text": [
      "There are 133 total dog categories.\n",
      "There are 8351 total dog images.\n",
      "\n",
      "There are 6680 training dog images.\n",
      "There are 835 validation dog images.\n",
      "There are 836 test dog images.\n"
     ]
    }
   ],
   "source": [
    "from sklearn.datasets import load_files       \n",
    "from keras.utils import np_utils\n",
    "import numpy as np\n",
    "from glob import glob\n",
    "\n",
    "# define function to load train, test, and validation datasets\n",
    "def load_dataset(path):\n",
    "    data = load_files(path)\n",
    "    dog_files = np.array(data['filenames'])\n",
    "    dog_targets = np_utils.to_categorical(np.array(data['target']), 133)\n",
    "    return dog_files, dog_targets\n",
    "\n",
    "# load train, test, and validation datasets\n",
    "train_files, train_targets = load_dataset('dogImages/train')\n",
    "valid_files, valid_targets = load_dataset('dogImages/valid')\n",
    "test_files, test_targets = load_dataset('dogImages/test')\n",
    "\n",
    "# load list of dog names\n",
    "dog_names = [item[20:-1] for item in sorted(glob(\"dogImages/train/*/\"))]\n",
    "\n",
    "# print statistics about the dataset\n",
    "print('There are %d total dog categories.' % len(dog_names))\n",
    "print('There are %s total dog images.\\n' % len(np.hstack([train_files, valid_files, test_files])))\n",
    "print('There are %d training dog images.' % len(train_files))\n",
    "print('There are %d validation dog images.' % len(valid_files))\n",
    "print('There are %d test dog images.'% len(test_files))"
   ]
  },
  {
   "cell_type": "markdown",
   "metadata": {},
   "source": [
    "### Import Human Dataset\n",
    "\n",
    "In the code cell below, we import a dataset of human images, where the file paths are stored in the numpy array `human_files`."
   ]
  },
  {
   "cell_type": "code",
   "execution_count": 276,
   "metadata": {},
   "outputs": [
    {
     "name": "stdout",
     "output_type": "stream",
     "text": [
      "There are 13233 total human images.\n"
     ]
    }
   ],
   "source": [
    "import random\n",
    "random.seed(8675309)\n",
    "\n",
    "# load filenames in shuffled human dataset\n",
    "human_files = np.array(glob(\"lfw/*/*\"))\n",
    "random.shuffle(human_files)\n",
    "\n",
    "# print statistics about the dataset\n",
    "print('There are %d total human images.' % len(human_files))"
   ]
  },
  {
   "cell_type": "markdown",
   "metadata": {},
   "source": [
    "---\n",
    "<a id='step1'></a>\n",
    "## Step 1: Detect Humans\n",
    "\n",
    "We use OpenCV's implementation of [Haar feature-based cascade classifiers](http://docs.opencv.org/trunk/d7/d8b/tutorial_py_face_detection.html) to detect human faces in images.  OpenCV provides many pre-trained face detectors, stored as XML files on [github](https://github.com/opencv/opencv/tree/master/data/haarcascades).  We have downloaded one of these detectors and stored it in the `haarcascades` directory.\n",
    "\n",
    "In the next code cell, we demonstrate how to use this detector to find human faces in a sample image."
   ]
  },
  {
   "cell_type": "code",
   "execution_count": 277,
   "metadata": {},
   "outputs": [
    {
     "name": "stdout",
     "output_type": "stream",
     "text": [
      "Number of faces detected: 1\n"
     ]
    },
    {
     "data": {
      "image/png": "[encoded data removed]",
      "text/plain": [
       "<matplotlib.figure.Figure at 0x419bcfc4e0>"
      ]
     },
     "metadata": {},
     "output_type": "display_data"
    }
   ],
   "source": [
    "import cv2                \n",
    "import matplotlib.pyplot as plt                        \n",
    "%matplotlib inline                               \n",
    "\n",
    "# extract pre-trained face detector\n",
    "face_cascade = cv2.CascadeClassifier('haarcascades/haarcascade_frontalface_alt.xml')\n",
    "\n",
    "# load color (BGR) image\n",
    "img = cv2.imread(human_files[3])\n",
    "# convert BGR image to grayscale\n",
    "gray = cv2.cvtColor(img, cv2.COLOR_BGR2GRAY)\n",
    "\n",
    "# find faces in image\n",
    "faces = face_cascade.detectMultiScale(gray)\n",
    "\n",
    "# print number of faces detected in the image\n",
    "print('Number of faces detected:', len(faces))\n",
    "\n",
    "# get bounding box for each detected face\n",
    "for (x,y,w,h) in faces:\n",
    "    # add bounding box to color image\n",
    "    cv2.rectangle(img,(x,y),(x+w,y+h),(255,0,0),2)\n",
    "    \n",
    "# convert BGR image to RGB for plotting\n",
    "cv_rgb = cv2.cvtColor(img, cv2.COLOR_BGR2RGB)\n",
    "\n",
    "# display the image, along with bounding box\n",
    "plt.imshow(cv_rgb)\n",
    "plt.show()\n"
   ]
  },
  {
   "cell_type": "markdown",
   "metadata": {},
   "source": [
    "Before using any of the face detectors, it is standard procedure to convert the images to grayscale.  The `detectMultiScale` function executes the classifier stored in `face_cascade` and takes the grayscale image as a parameter.  \n",
    "\n",
    "In the above code, `faces` is a numpy array of detected faces, where each row corresponds to a detected face.  Each detected face is a 1D array with four entries that specifies the bounding box of the detected face.  The first two entries in the array (extracted in the above code as `x` and `y`) specify the horizontal and vertical positions of the top left corner of the bounding box.  The last two entries in the array (extracted here as `w` and `h`) specify the width and height of the box.\n",
    "\n",
    "### Write a Human Face Detector\n",
    "\n",
    "We can use this procedure to write a function that returns `True` if a human face is detected in an image and `False` otherwise.  This function, aptly named `face_detector`, takes a string-valued file path to an image as input and appears in the code block below."
   ]
  },
  {
   "cell_type": "code",
   "execution_count": 278,
   "metadata": {
    "collapsed": true
   },
   "outputs": [],
   "source": [
    "# returns \"True\" if face is detected in image stored at img_path\n",
    "def face_detector(img_path):\n",
    "    img = cv2.imread(img_path)\n",
    "    gray = cv2.cvtColor(img, cv2.COLOR_BGR2GRAY)\n",
    "    faces = face_cascade.detectMultiScale(gray)\n",
    "    return len(faces) > 0"
   ]
  },
  {
   "cell_type": "markdown",
   "metadata": {},
   "source": [
    "### (IMPLEMENTATION) Assess the Human Face Detector\n",
    "\n",
    "__Question 1:__ Use the code cell below to test the performance of the `face_detector` function.  \n",
    "- What percentage of the first 100 images in `human_files` have a detected human face?  \n",
    "- What percentage of the first 100 images in `dog_files` have a detected human face? \n",
    "\n",
    "Ideally, we would like 100% of human images with a detected face and 0% of dog images with a detected face.  You will see that our algorithm falls short of this goal, but still gives acceptable performance.  We extract the file paths for the first 100 images from each of the datasets and store them in the numpy arrays `human_files_short` and `dog_files_short`.\n",
    "\n",
    "__Answer:__ \n",
    "99% of human faces were detected and 12% of dog faces were detected as human face"
   ]
  },
  {
   "cell_type": "code",
   "execution_count": 279,
   "metadata": {},
   "outputs": [
    {
     "name": "stdout",
     "output_type": "stream",
     "text": [
      "99.0\n",
      "12.0\n"
     ]
    }
   ],
   "source": [
    "human_files_short = human_files[:100]\n",
    "dog_files_short = train_files[:100]\n",
    "# Do NOT modify the code above this line.\n",
    "\n",
    "\n",
    "## TODO: Test the performance of the face_detector algorithm \n",
    "## on the images in human_files_short and dog_files_short.\n",
    "\n",
    "def performance(files):\n",
    "    tot=0\n",
    "    for i in files:\n",
    "        if face_detector(i):\n",
    "            tot +=1\n",
    "    return 100*(tot/len(files))\n",
    "\n",
    "print (performance(human_files_short))\n",
    "print(performance(dog_files_short))"
   ]
  },
  {
   "cell_type": "markdown",
   "metadata": {},
   "source": [
    "__Question 2:__ This algorithmic choice necessitates that we communicate to the user that we accept human images only when they provide a clear view of a face (otherwise, we risk having unneccessarily frustrated users!). In your opinion, is this a reasonable expectation to pose on the user? If not, can you think of a way to detect humans in images that does not necessitate an image with a clearly presented face?\n",
    "\n",
    "__Answer:__ Majority of the time we will not be able to have images with clear face. So I don't think it is reasonable expectation. For images that are not clear we can train the model with augmented data where same image is rotated in different directions/angles.\n",
    "\n",
    "We suggest the face detector from OpenCV as a potential way to detect human images in your algorithm, but you are free to explore other approaches, especially approaches that make use of deep learning :).  Please use the code cell below to design and test your own face detection algorithm.  If you decide to pursue this _optional_ task, report performance on each of the datasets."
   ]
  },
  {
   "cell_type": "code",
   "execution_count": 1,
   "metadata": {},
   "outputs": [],
   "source": [
    "## (Optional) TODO: Report the performance of another  \n",
    "## face detection algorithm on the LFW dataset\n",
    "### Feel free to use as many code cells as needed.\n"
   ]
  },
  {
   "cell_type": "markdown",
   "metadata": {},
   "source": [
    "---\n",
    "<a id='step2'></a>\n",
    "## Step 2: Detect Dogs\n",
    "\n",
    "In this section, we use a pre-trained [ResNet-50](http://ethereon.github.io/netscope/#/gist/db945b393d40bfa26006) model to detect dogs in images.  Our first line of code downloads the ResNet-50 model, along with weights that have been trained on [ImageNet](http://www.image-net.org/), a very large, very popular dataset used for image classification and other vision tasks.  ImageNet contains over 10 million URLs, each linking to an image containing an object from one of [1000 categories](https://gist.github.com/yrevar/942d3a0ac09ec9e5eb3a).  Given an image, this pre-trained ResNet-50 model returns a prediction (derived from the available categories in ImageNet) for the object that is contained in the image."
   ]
  },
  {
   "cell_type": "code",
   "execution_count": 281,
   "metadata": {
    "collapsed": true
   },
   "outputs": [],
   "source": [
    "from keras.applications.resnet50 import ResNet50\n",
    "\n",
    "# define ResNet50 model\n",
    "ResNet50_model = ResNet50(weights='imagenet')"
   ]
  },
  {
   "cell_type": "markdown",
   "metadata": {},
   "source": [
    "### Pre-process the Data\n",
    "\n",
    "When using TensorFlow as backend, Keras CNNs require a 4D array (which we'll also refer to as a 4D tensor) as input, with shape\n",
    "\n",
    "$$\n",
    "(\\text{nb_samples}, \\text{rows}, \\text{columns}, \\text{channels}),\n",
    "$$\n",
    "\n",
    "where `nb_samples` corresponds to the total number of images (or samples), and `rows`, `columns`, and `channels` correspond to the number of rows, columns, and channels for each image, respectively.  \n",
    "\n",
    "The `path_to_tensor` function below takes a string-valued file path to a color image as input and returns a 4D tensor suitable for supplying to a Keras CNN.  The function first loads the image and resizes it to a square image that is $224 \\times 224$ pixels.  Next, the image is converted to an array, which is then resized to a 4D tensor.  In this case, since we are working with color images, each image has three channels.  Likewise, since we are processing a single image (or sample), the returned tensor will always have shape\n",
    "\n",
    "$$\n",
    "(1, 224, 224, 3).\n",
    "$$\n",
    "\n",
    "The `paths_to_tensor` function takes a numpy array of string-valued image paths as input and returns a 4D tensor with shape \n",
    "\n",
    "$$\n",
    "(\\text{nb_samples}, 224, 224, 3).\n",
    "$$\n",
    "\n",
    "Here, `nb_samples` is the number of samples, or number of images, in the supplied array of image paths.  It is best to think of `nb_samples` as the number of 3D tensors (where each 3D tensor corresponds to a different image) in your dataset!"
   ]
  },
  {
   "cell_type": "code",
   "execution_count": 282,
   "metadata": {
    "collapsed": true
   },
   "outputs": [],
   "source": [
    "from keras.preprocessing import image                  \n",
    "from tqdm import tqdm\n",
    "\n",
    "def path_to_tensor(img_path):\n",
    "    # loads RGB image as PIL.Image.Image type\n",
    "    img = image.load_img(img_path, target_size=(224, 224))\n",
    "    # convert PIL.Image.Image type to 3D tensor with shape (224, 224, 3)\n",
    "    x = image.img_to_array(img)\n",
    "    # convert 3D tensor to 4D tensor with shape (1, 224, 224, 3) and return 4D tensor\n",
    "    return np.expand_dims(x, axis=0)\n",
    "\n",
    "def paths_to_tensor(img_paths):\n",
    "    list_of_tensors = [path_to_tensor(img_path) for img_path in tqdm(img_paths)]\n",
    "    return np.vstack(list_of_tensors)"
   ]
  },
  {
   "cell_type": "markdown",
   "metadata": {},
   "source": [
    "### Making Predictions with ResNet-50\n",
    "\n",
    "Getting the 4D tensor ready for ResNet-50, and for any other pre-trained model in Keras, requires some additional processing.  First, the RGB image is converted to BGR by reordering the channels.  All pre-trained models have the additional normalization step that the mean pixel (expressed in RGB as $[103.939, 116.779, 123.68]$ and calculated from all pixels in all images in ImageNet) must be subtracted from every pixel in each image.  This is implemented in the imported function `preprocess_input`.  If you're curious, you can check the code for `preprocess_input` [here](https://github.com/fchollet/keras/blob/master/keras/applications/imagenet_utils.py).\n",
    "\n",
    "Now that we have a way to format our image for supplying to ResNet-50, we are now ready to use the model to extract the predictions.  This is accomplished with the `predict` method, which returns an array whose $i$-th entry is the model's predicted probability that the image belongs to the $i$-th ImageNet category.  This is implemented in the `ResNet50_predict_labels` function below.\n",
    "\n",
    "By taking the argmax of the predicted probability vector, we obtain an integer corresponding to the model's predicted object class, which we can identify with an object category through the use of this [dictionary](https://gist.github.com/yrevar/942d3a0ac09ec9e5eb3a). "
   ]
  },
  {
   "cell_type": "code",
   "execution_count": 283,
   "metadata": {
    "collapsed": true
   },
   "outputs": [],
   "source": [
    "from keras.applications.resnet50 import preprocess_input, decode_predictions\n",
    "\n",
    "def ResNet50_predict_labels(img_path):\n",
    "    # returns prediction vector for image located at img_path\n",
    "    img = preprocess_input(path_to_tensor(img_path))\n",
    "    return np.argmax(ResNet50_model.predict(img))"
   ]
  },
  {
   "cell_type": "markdown",
   "metadata": {},
   "source": [
    "### Write a Dog Detector\n",
    "\n",
    "While looking at the [dictionary](https://gist.github.com/yrevar/942d3a0ac09ec9e5eb3a), you will notice that the categories corresponding to dogs appear in an uninterrupted sequence and correspond to dictionary keys 151-268, inclusive, to include all categories from `'Chihuahua'` to `'Mexican hairless'`.  Thus, in order to check to see if an image is predicted to contain a dog by the pre-trained ResNet-50 model, we need only check if the `ResNet50_predict_labels` function above returns a value between 151 and 268 (inclusive).\n",
    "\n",
    "We use these ideas to complete the `dog_detector` function below, which returns `True` if a dog is detected in an image (and `False` if not)."
   ]
  },
  {
   "cell_type": "code",
   "execution_count": 284,
   "metadata": {
    "collapsed": true
   },
   "outputs": [],
   "source": [
    "### returns \"True\" if a dog is detected in the image stored at img_path\n",
    "def dog_detector(img_path):\n",
    "    prediction = ResNet50_predict_labels(img_path)\n",
    "    return ((prediction <= 268) & (prediction >= 151)) "
   ]
  },
  {
   "cell_type": "markdown",
   "metadata": {},
   "source": [
    "### (IMPLEMENTATION) Assess the Dog Detector\n",
    "\n",
    "__Question 3:__ Use the code cell below to test the performance of your `dog_detector` function.  \n",
    "- What percentage of the images in `human_files_short` have a detected dog?  \n",
    "- What percentage of the images in `dog_files_short` have a detected dog?\n",
    "\n",
    "__Answer:__ \n",
    "1.0% of human images are detected as dog faces and 100.0% of dog images are detected as dog faces"
   ]
  },
  {
   "cell_type": "code",
   "execution_count": null,
   "metadata": {},
   "outputs": [
    {
     "name": "stdout",
     "output_type": "stream",
     "text": [
      "1.0\n",
      "100.0\n"
     ]
    }
   ],
   "source": [
    "### TODO: Test the performance of the dog_detector function\n",
    "### on the images in human_files_short and dog_files_short.\n",
    "\n",
    "def performance(files):\n",
    "    tot=0\n",
    "    for i in files:\n",
    "        if dog_detector(i):\n",
    "            tot +=1\n",
    "    return 100*(tot/len(files))\n",
    "\n",
    "print (performance(human_files_short))\n",
    "print(performance(dog_files_short))"
   ]
  },
  {
   "cell_type": "markdown",
   "metadata": {},
   "source": [
    "---\n",
    "<a id='step3'></a>\n",
    "## Step 3: Create a CNN to Classify Dog Breeds (from Scratch)\n",
    "\n",
    "Now that we have functions for detecting humans and dogs in images, we need a way to predict breed from images.  In this step, you will create a CNN that classifies dog breeds.  You must create your CNN _from scratch_ (so, you can't use transfer learning _yet_!), and you must attain a test accuracy of at least 1%.  In Step 5 of this notebook, you will have the opportunity to use transfer learning to create a CNN that attains greatly improved accuracy.\n",
    "\n",
    "Be careful with adding too many trainable layers!  More parameters means longer training, which means you are more likely to need a GPU to accelerate the training process.  Thankfully, Keras provides a handy estimate of the time that each epoch is likely to take; you can extrapolate this estimate to figure out how long it will take for your algorithm to train. \n",
    "\n",
    "We mention that the task of assigning breed to dogs from images is considered exceptionally challenging.  To see why, consider that *even a human* would have great difficulty in distinguishing between a Brittany and a Welsh Springer Spaniel.  \n",
    "\n",
    "Brittany | Welsh Springer Spaniel\n",
    "- | - \n",
    "<img src=\"images/Brittany_02625.jpg\" width=\"100\"> | <img src=\"images/Welsh_springer_spaniel_08203.jpg\" width=\"200\">\n",
    "\n",
    "It is not difficult to find other dog breed pairs with minimal inter-class variation (for instance, Curly-Coated Retrievers and American Water Spaniels).  \n",
    "\n",
    "Curly-Coated Retriever | American Water Spaniel\n",
    "- | -\n",
    "<img src=\"images/Curly-coated_retriever_03896.jpg\" width=\"200\"> | <img src=\"images/American_water_spaniel_00648.jpg\" width=\"200\">\n",
    "\n",
    "\n",
    "Likewise, recall that labradors come in yellow, chocolate, and black.  Your vision-based algorithm will have to conquer this high intra-class variation to determine how to classify all of these different shades as the same breed.  \n",
    "\n",
    "Yellow Labrador | Chocolate Labrador | Black Labrador\n",
    "- | -\n",
    "<img src=\"images/Labrador_retriever_06457.jpg\" width=\"150\"> | <img src=\"images/Labrador_retriever_06455.jpg\" width=\"240\"> | <img src=\"images/Labrador_retriever_06449.jpg\" width=\"220\">\n",
    "\n",
    "We also mention that random chance presents an exceptionally low bar: setting aside the fact that the classes are slightly imabalanced, a random guess will provide a correct answer roughly 1 in 133 times, which corresponds to an accuracy of less than 1%.  \n",
    "\n",
    "Remember that the practice is far ahead of the theory in deep learning.  Experiment with many different architectures, and trust your intuition.  And, of course, have fun! \n",
    "\n",
    "### Pre-process the Data\n",
    "\n",
    "We rescale the images by dividing every pixel in every image by 255."
   ]
  },
  {
   "cell_type": "code",
   "execution_count": 287,
   "metadata": {},
   "outputs": [
    {
     "name": "stderr",
     "output_type": "stream",
     "text": [
      "100%|██████████████████████████████████████████████████████████████████████████████| 6680/6680 [03:47<00:00, 29.40it/s]\n",
      "100%|████████████████████████████████████████████████████████████████████████████████| 835/835 [01:55<00:00,  7.25it/s]\n",
      "100%|████████████████████████████████████████████████████████████████████████████████| 836/836 [01:29<00:00,  9.36it/s]\n"
     ]
    }
   ],
   "source": [
    "from PIL import ImageFile                            \n",
    "ImageFile.LOAD_TRUNCATED_IMAGES = True                 \n",
    "\n",
    "# pre-process the data for Keras\n",
    "train_tensors = paths_to_tensor(train_files).astype('float32')/255\n",
    "valid_tensors = paths_to_tensor(valid_files).astype('float32')/255\n",
    "test_tensors = paths_to_tensor(test_files).astype('float32')/255"
   ]
  },
  {
   "cell_type": "markdown",
   "metadata": {},
   "source": [
    "### (IMPLEMENTATION) Model Architecture\n",
    "\n",
    "Create a CNN to classify dog breed.  At the end of your code cell block, summarize the layers of your model by executing the line:\n",
    "    \n",
    "        model.summary()\n",
    "\n",
    "We have imported some Python modules to get you started, but feel free to import as many modules as you need.  If you end up getting stuck, here's a hint that specifies a model that trains relatively fast on CPU and attains >1% test accuracy in 5 epochs:\n",
    "\n",
    "![Sample CNN](images/sample_cnn.png)\n",
    "           \n",
    "__Question 4:__ Outline the steps you took to get to your final CNN architecture and your reasoning at each step.  If you chose to use the hinted architecture above, describe why you think that CNN architecture should work well for the image classification task.\n",
    "\n",
    "__Answer:__ \n",
    "I started with filters (16, 32, 64, 128), relu activation, padding=same. The test accuracy was really low (around 4%). So I added second layers for each filters type and started with 32 filters. However, total parameters were really huge so I added max pooling 2D and batch normalization to increase speed. To increase performace and avoid local minimums, I added dropout layers. Finally I Flattened the array and used fully connected layer. Softmax activation was used with 133 nodes in the final output as there are 133 types of unique dog breeds in dataset."
   ]
  },
  {
   "cell_type": "code",
   "execution_count": 296,
   "metadata": {},
   "outputs": [
    {
     "name": "stdout",
     "output_type": "stream",
     "text": [
      "_________________________________________________________________\n",
      "Layer (type)                 Output Shape              Param #   \n",
      "=================================================================\n",
      "conv2d_245 (Conv2D)          (None, 224, 224, 32)      416       \n",
      "_________________________________________________________________\n",
      "max_pooling2d_234 (MaxPoolin (None, 112, 112, 32)      0         \n",
      "_________________________________________________________________\n",
      "conv2d_246 (Conv2D)          (None, 112, 112, 32)      4128      \n",
      "_________________________________________________________________\n",
      "max_pooling2d_235 (MaxPoolin (None, 56, 56, 32)        0         \n",
      "_________________________________________________________________\n",
      "batch_normalization_52 (Batc (None, 56, 56, 32)        128       \n",
      "_________________________________________________________________\n",
      "conv2d_247 (Conv2D)          (None, 56, 56, 64)        8256      \n",
      "_________________________________________________________________\n",
      "max_pooling2d_236 (MaxPoolin (None, 28, 28, 64)        0         \n",
      "_________________________________________________________________\n",
      "conv2d_248 (Conv2D)          (None, 28, 28, 64)        16448     \n",
      "_________________________________________________________________\n",
      "max_pooling2d_237 (MaxPoolin (None, 14, 14, 64)        0         \n",
      "_________________________________________________________________\n",
      "dropout_118 (Dropout)        (None, 14, 14, 64)        0         \n",
      "_________________________________________________________________\n",
      "conv2d_249 (Conv2D)          (None, 14, 14, 128)       32896     \n",
      "_________________________________________________________________\n",
      "max_pooling2d_238 (MaxPoolin (None, 7, 7, 128)         0         \n",
      "_________________________________________________________________\n",
      "conv2d_250 (Conv2D)          (None, 7, 7, 128)         65664     \n",
      "_________________________________________________________________\n",
      "max_pooling2d_239 (MaxPoolin (None, 3, 3, 128)         0         \n",
      "_________________________________________________________________\n",
      "dropout_119 (Dropout)        (None, 3, 3, 128)         0         \n",
      "_________________________________________________________________\n",
      "flatten_33 (Flatten)         (None, 1152)              0         \n",
      "_________________________________________________________________\n",
      "dense_75 (Dense)             (None, 512)               590336    \n",
      "_________________________________________________________________\n",
      "dropout_120 (Dropout)        (None, 512)               0         \n",
      "_________________________________________________________________\n",
      "dense_76 (Dense)             (None, 133)               68229     \n",
      "=================================================================\n",
      "Total params: 786,501\n",
      "Trainable params: 786,437\n",
      "Non-trainable params: 64\n",
      "_________________________________________________________________\n"
     ]
    }
   ],
   "source": [
    "from keras.layers import Conv2D, MaxPooling2D, GlobalAveragePooling2D\n",
    "from keras.layers import Dropout, Flatten, Dense, BatchNormalization\n",
    "from keras.models import Sequential\n",
    "\n",
    "model = Sequential()\n",
    "model.add(Conv2D(32, 2, activation='relu', padding = 'same', input_shape=(224, 224, 3)))\n",
    "model.add(MaxPooling2D(pool_size=(2, 2)))\n",
    "model.add(Conv2D(32, 2, activation='relu', padding = 'same'))\n",
    "model.add(MaxPooling2D(pool_size=(2, 2)))\n",
    "model.add(BatchNormalization())\n",
    "\n",
    "model.add(Conv2D(64, 2, activation='relu', padding = 'same'))\n",
    "model.add(MaxPooling2D(pool_size=(2, 2)))\n",
    "model.add(Conv2D(64, 2, activation='relu', padding = 'same'))\n",
    "model.add(MaxPooling2D(pool_size=(2, 2)))\n",
    "model.add(Dropout(0.2))\n",
    "\n",
    "model.add(Conv2D(128, 2, activation='relu', padding = 'same'))\n",
    "model.add(MaxPooling2D(pool_size=(2, 2)))\n",
    "model.add(Conv2D(128, 2, activation='relu', padding = 'same'))\n",
    "model.add(MaxPooling2D(pool_size=(2, 2)))\n",
    "model.add(Dropout(0.2))\n",
    "\n",
    "model.add(Flatten())\n",
    "model.add(Dense(512, activation = 'relu'))\n",
    "model.add(Dropout(0.4))\n",
    "model.add(Dense(133, activation = 'softmax'))\n",
    "\n",
    "\n",
    "### TODO: Define your architecture.\n",
    "\n",
    "model.summary()"
   ]
  },
  {
   "cell_type": "markdown",
   "metadata": {},
   "source": [
    "### Compile the Model"
   ]
  },
  {
   "cell_type": "code",
   "execution_count": 297,
   "metadata": {
    "collapsed": true
   },
   "outputs": [],
   "source": [
    "model.compile(optimizer='rmsprop', loss='categorical_crossentropy', metrics=['accuracy'])"
   ]
  },
  {
   "cell_type": "markdown",
   "metadata": {},
   "source": [
    "### (IMPLEMENTATION) Train the Model\n",
    "\n",
    "Train your model in the code cell below.  Use model checkpointing to save the model that attains the best validation loss.\n",
    "\n",
    "You are welcome to [augment the training data](https://blog.keras.io/building-powerful-image-classification-models-using-very-little-data.html), but this is not a requirement. "
   ]
  },
  {
   "cell_type": "code",
   "execution_count": 301,
   "metadata": {},
   "outputs": [
    {
     "name": "stdout",
     "output_type": "stream",
     "text": [
      "Epoch 1/10\n",
      "133/133 [==============================] - ETA: 5:18 - loss: 3.5144 - acc: 0.180 - ETA: 4:37 - loss: 3.7495 - acc: 0.110 - ETA: 4:26 - loss: 3.7041 - acc: 0.113 - ETA: 4:19 - loss: 3.7272 - acc: 0.110 - ETA: 4:12 - loss: 3.7118 - acc: 0.112 - ETA: 4:06 - loss: 3.6836 - acc: 0.106 - ETA: 4:04 - loss: 3.6305 - acc: 0.114 - ETA: 4:01 - loss: 3.6414 - acc: 0.115 - ETA: 4:00 - loss: 3.6509 - acc: 0.122 - ETA: 3:56 - loss: 3.6520 - acc: 0.128 - ETA: 3:53 - loss: 3.7188 - acc: 0.123 - ETA: 3:50 - loss: 3.7284 - acc: 0.125 - ETA: 3:47 - loss: 3.7316 - acc: 0.126 - ETA: 3:38 - loss: 3.7187 - acc: 0.126 - ETA: 3:36 - loss: 3.7103 - acc: 0.131 - ETA: 3:34 - loss: 3.7183 - acc: 0.129 - ETA: 3:32 - loss: 3.7330 - acc: 0.125 - ETA: 3:30 - loss: 3.7362 - acc: 0.127 - ETA: 3:28 - loss: 3.7561 - acc: 0.123 - ETA: 3:26 - loss: 3.7505 - acc: 0.124 - ETA: 3:24 - loss: 3.7472 - acc: 0.122 - ETA: 3:23 - loss: 3.7532 - acc: 0.122 - ETA: 3:20 - loss: 3.7642 - acc: 0.119 - ETA: 3:18 - loss: 3.7653 - acc: 0.120 - ETA: 3:16 - loss: 3.7598 - acc: 0.122 - ETA: 3:15 - loss: 3.7610 - acc: 0.120 - ETA: 3:13 - loss: 3.7604 - acc: 0.119 - ETA: 3:11 - loss: 3.7576 - acc: 0.116 - ETA: 3:09 - loss: 3.7614 - acc: 0.118 - ETA: 3:07 - loss: 3.7619 - acc: 0.118 - ETA: 3:05 - loss: 3.7662 - acc: 0.117 - ETA: 3:03 - loss: 3.7663 - acc: 0.117 - ETA: 3:01 - loss: 3.7726 - acc: 0.116 - ETA: 2:59 - loss: 3.7735 - acc: 0.121 - ETA: 2:57 - loss: 3.7657 - acc: 0.122 - ETA: 2:55 - loss: 3.7584 - acc: 0.122 - ETA: 2:54 - loss: 3.7630 - acc: 0.119 - ETA: 2:52 - loss: 3.7546 - acc: 0.123 - ETA: 2:50 - loss: 3.7569 - acc: 0.121 - ETA: 2:48 - loss: 3.7563 - acc: 0.121 - ETA: 2:46 - loss: 3.7551 - acc: 0.119 - ETA: 2:44 - loss: 3.7608 - acc: 0.119 - ETA: 2:42 - loss: 3.7733 - acc: 0.119 - ETA: 2:41 - loss: 3.7684 - acc: 0.120 - ETA: 2:39 - loss: 3.7615 - acc: 0.120 - ETA: 2:37 - loss: 3.7588 - acc: 0.121 - ETA: 2:35 - loss: 3.7656 - acc: 0.120 - ETA: 2:33 - loss: 3.7659 - acc: 0.120 - ETA: 2:31 - loss: 3.7639 - acc: 0.120 - ETA: 2:29 - loss: 3.7669 - acc: 0.119 - ETA: 2:27 - loss: 3.7669 - acc: 0.119 - ETA: 2:26 - loss: 3.7676 - acc: 0.119 - ETA: 2:24 - loss: 3.7710 - acc: 0.119 - ETA: 2:22 - loss: 3.7742 - acc: 0.118 - ETA: 2:20 - loss: 3.7696 - acc: 0.118 - ETA: 2:18 - loss: 3.7656 - acc: 0.119 - ETA: 2:16 - loss: 3.7602 - acc: 0.119 - ETA: 2:15 - loss: 3.7596 - acc: 0.120 - ETA: 2:13 - loss: 3.7594 - acc: 0.119 - ETA: 2:11 - loss: 3.7603 - acc: 0.118 - ETA: 2:09 - loss: 3.7577 - acc: 0.118 - ETA: 2:07 - loss: 3.7567 - acc: 0.117 - ETA: 2:05 - loss: 3.7534 - acc: 0.117 - ETA: 2:04 - loss: 3.7490 - acc: 0.118 - ETA: 2:02 - loss: 3.7515 - acc: 0.117 - ETA: 2:00 - loss: 3.7496 - acc: 0.116 - ETA: 1:58 - loss: 3.7516 - acc: 0.115 - ETA: 1:56 - loss: 3.7535 - acc: 0.115 - ETA: 1:54 - loss: 3.7543 - acc: 0.114 - ETA: 1:53 - loss: 3.7591 - acc: 0.113 - ETA: 1:51 - loss: 3.7615 - acc: 0.112 - ETA: 1:49 - loss: 3.7588 - acc: 0.112 - ETA: 1:47 - loss: 3.7593 - acc: 0.112 - ETA: 1:45 - loss: 3.7608 - acc: 0.112 - ETA: 1:44 - loss: 3.7572 - acc: 0.112 - ETA: 1:42 - loss: 3.7576 - acc: 0.112 - ETA: 1:40 - loss: 3.7575 - acc: 0.112 - ETA: 1:38 - loss: 3.7572 - acc: 0.111 - ETA: 1:36 - loss: 3.7540 - acc: 0.112 - ETA: 1:35 - loss: 3.7532 - acc: 0.113 - ETA: 1:33 - loss: 3.7543 - acc: 0.113 - ETA: 1:31 - loss: 3.7557 - acc: 0.112 - ETA: 1:29 - loss: 3.7535 - acc: 0.112 - ETA: 1:27 - loss: 3.7532 - acc: 0.111 - ETA: 1:26 - loss: 3.7538 - acc: 0.111 - ETA: 1:24 - loss: 3.7491 - acc: 0.113 - ETA: 1:22 - loss: 3.7471 - acc: 0.114 - ETA: 1:20 - loss: 3.7463 - acc: 0.113 - ETA: 1:18 - loss: 3.7453 - acc: 0.114 - ETA: 1:17 - loss: 3.7442 - acc: 0.115 - ETA: 1:15 - loss: 3.7427 - acc: 0.115 - ETA: 1:13 - loss: 3.7458 - acc: 0.115 - ETA: 1:11 - loss: 3.7460 - acc: 0.114 - ETA: 1:09 - loss: 3.7470 - acc: 0.114 - ETA: 1:08 - loss: 3.7473 - acc: 0.114 - ETA: 1:06 - loss: 3.7445 - acc: 0.115 - ETA: 1:04 - loss: 3.7453 - acc: 0.115 - ETA: 1:02 - loss: 3.7463 - acc: 0.115 - ETA: 1:00 - loss: 3.7501 - acc: 0.114 - ETA: 59s - loss: 3.7506 - acc: 0.114 - ETA: 57s - loss: 3.7533 - acc: 0.11 - ETA: 55s - loss: 3.7517 - acc: 0.11 - ETA: 53s - loss: 3.7513 - acc: 0.11 - ETA: 51s - loss: 3.7529 - acc: 0.11 - ETA: 50s - loss: 3.7565 - acc: 0.11 - ETA: 48s - loss: 3.7596 - acc: 0.11 - ETA: 46s - loss: 3.7575 - acc: 0.11 - ETA: 44s - loss: 3.7591 - acc: 0.11 - ETA: 42s - loss: 3.7565 - acc: 0.11 - ETA: 41s - loss: 3.7605 - acc: 0.11 - ETA: 39s - loss: 3.7604 - acc: 0.11 - ETA: 37s - loss: 3.7605 - acc: 0.11 - ETA: 35s - loss: 3.7595 - acc: 0.11 - ETA: 33s - loss: 3.7602 - acc: 0.11 - ETA: 32s - loss: 3.7602 - acc: 0.11 - ETA: 30s - loss: 3.7612 - acc: 0.11 - ETA: 28s - loss: 3.7617 - acc: 0.11 - ETA: 26s - loss: 3.7621 - acc: 0.11 - ETA: 25s - loss: 3.7645 - acc: 0.11 - ETA: 23s - loss: 3.7650 - acc: 0.11 - ETA: 21s - loss: 3.7685 - acc: 0.11 - ETA: 19s - loss: 3.7671 - acc: 0.11 - ETA: 17s - loss: 3.7657 - acc: 0.11 - ETA: 16s - loss: 3.7615 - acc: 0.11 - ETA: 14s - loss: 3.7616 - acc: 0.11 - ETA: 12s - loss: 3.7623 - acc: 0.11 - ETA: 10s - loss: 3.7604 - acc: 0.11 - ETA: 8s - loss: 3.7577 - acc: 0.1129 - ETA: 7s - loss: 3.7600 - acc: 0.113 - ETA: 5s - loss: 3.7604 - acc: 0.112 - ETA: 3s - loss: 3.7575 - acc: 0.112 - ETA: 1s - loss: 3.7551 - acc: 0.113 - 246s 2s/step - loss: 3.7568 - acc: 0.1127 - val_loss: 3.9109 - val_acc: 0.0994\n",
      "\n",
      "Epoch 00001: val_loss improved from inf to 3.91095, saving model to saved_models/weights.best.from_scratch.hdf5\n",
      "Epoch 2/10\n",
      "133/133 [==============================] - ETA: 3:50 - loss: 3.6707 - acc: 0.160 - ETA: 3:51 - loss: 3.5996 - acc: 0.160 - ETA: 3:50 - loss: 3.7038 - acc: 0.133 - ETA: 3:49 - loss: 3.6306 - acc: 0.145 - ETA: 3:46 - loss: 3.6190 - acc: 0.128 - ETA: 3:45 - loss: 3.6469 - acc: 0.120 - ETA: 3:44 - loss: 3.6600 - acc: 0.128 - ETA: 3:42 - loss: 3.6279 - acc: 0.127 - ETA: 3:41 - loss: 3.6186 - acc: 0.126 - ETA: 3:39 - loss: 3.6418 - acc: 0.130 - ETA: 3:37 - loss: 3.6281 - acc: 0.127 - ETA: 3:36 - loss: 3.6396 - acc: 0.123 - ETA: 3:34 - loss: 3.6203 - acc: 0.132 - ETA: 3:32 - loss: 3.6123 - acc: 0.135 - ETA: 3:30 - loss: 3.6128 - acc: 0.134 - ETA: 3:29 - loss: 3.6268 - acc: 0.132 - ETA: 3:27 - loss: 3.6531 - acc: 0.128 - ETA: 3:25 - loss: 3.6607 - acc: 0.126 - ETA: 3:23 - loss: 3.6613 - acc: 0.126 - ETA: 3:22 - loss: 3.6547 - acc: 0.124 - ETA: 3:20 - loss: 3.6599 - acc: 0.124 - ETA: 3:18 - loss: 3.6647 - acc: 0.126 - ETA: 3:17 - loss: 3.6578 - acc: 0.127 - ETA: 3:15 - loss: 3.6470 - acc: 0.131 - ETA: 3:13 - loss: 3.6626 - acc: 0.129 - ETA: 3:11 - loss: 3.6661 - acc: 0.127 - ETA: 3:09 - loss: 3.6676 - acc: 0.124 - ETA: 3:08 - loss: 3.6746 - acc: 0.121 - ETA: 3:06 - loss: 3.6698 - acc: 0.121 - ETA: 3:04 - loss: 3.6749 - acc: 0.120 - ETA: 3:02 - loss: 3.6798 - acc: 0.121 - ETA: 3:00 - loss: 3.6812 - acc: 0.121 - ETA: 2:59 - loss: 3.6851 - acc: 0.121 - ETA: 2:57 - loss: 3.6845 - acc: 0.121 - ETA: 2:55 - loss: 3.6856 - acc: 0.121 - ETA: 2:53 - loss: 3.6831 - acc: 0.121 - ETA: 2:51 - loss: 3.6787 - acc: 0.122 - ETA: 2:49 - loss: 3.6820 - acc: 0.121 - ETA: 2:47 - loss: 3.6765 - acc: 0.120 - ETA: 2:46 - loss: 3.6728 - acc: 0.122 - ETA: 2:44 - loss: 3.6710 - acc: 0.123 - ETA: 2:42 - loss: 3.6758 - acc: 0.121 - ETA: 2:40 - loss: 3.6744 - acc: 0.122 - ETA: 2:39 - loss: 3.6744 - acc: 0.122 - ETA: 2:37 - loss: 3.6724 - acc: 0.122 - ETA: 2:35 - loss: 3.6737 - acc: 0.121 - ETA: 2:34 - loss: 3.6776 - acc: 0.120 - ETA: 2:32 - loss: 3.6821 - acc: 0.120 - ETA: 2:30 - loss: 3.6802 - acc: 0.121 - ETA: 2:28 - loss: 3.6831 - acc: 0.120 - ETA: 2:26 - loss: 3.6797 - acc: 0.120 - ETA: 2:25 - loss: 3.6769 - acc: 0.120 - ETA: 2:23 - loss: 3.6750 - acc: 0.121 - ETA: 2:21 - loss: 3.6726 - acc: 0.120 - ETA: 2:18 - loss: 3.6769 - acc: 0.119 - ETA: 2:17 - loss: 3.6787 - acc: 0.118 - ETA: 2:15 - loss: 3.6814 - acc: 0.117 - ETA: 2:13 - loss: 3.6846 - acc: 0.117 - ETA: 2:11 - loss: 3.6932 - acc: 0.116 - ETA: 2:09 - loss: 3.6918 - acc: 0.117 - ETA: 2:08 - loss: 3.6890 - acc: 0.117 - ETA: 2:06 - loss: 3.6873 - acc: 0.118 - ETA: 2:04 - loss: 3.6892 - acc: 0.116 - ETA: 2:02 - loss: 3.6938 - acc: 0.116 - ETA: 2:01 - loss: 3.6919 - acc: 0.118 - ETA: 1:59 - loss: 3.6932 - acc: 0.117 - ETA: 1:57 - loss: 3.6952 - acc: 0.116 - ETA: 1:55 - loss: 3.6916 - acc: 0.117 - ETA: 1:53 - loss: 3.6907 - acc: 0.118 - ETA: 1:52 - loss: 3.6920 - acc: 0.118 - ETA: 1:50 - loss: 3.6918 - acc: 0.118 - ETA: 1:48 - loss: 3.6948 - acc: 0.118 - ETA: 1:46 - loss: 3.6939 - acc: 0.118 - ETA: 1:44 - loss: 3.6903 - acc: 0.118 - ETA: 1:43 - loss: 3.6942 - acc: 0.118 - ETA: 1:41 - loss: 3.6957 - acc: 0.117 - ETA: 1:39 - loss: 3.6998 - acc: 0.118 - ETA: 1:37 - loss: 3.7017 - acc: 0.117 - ETA: 1:36 - loss: 3.6997 - acc: 0.117 - ETA: 1:34 - loss: 3.7004 - acc: 0.117 - ETA: 1:32 - loss: 3.6982 - acc: 0.117 - ETA: 1:30 - loss: 3.6916 - acc: 0.118 - ETA: 1:28 - loss: 3.6906 - acc: 0.118 - ETA: 1:27 - loss: 3.6882 - acc: 0.117 - ETA: 1:25 - loss: 3.6918 - acc: 0.117 - ETA: 1:23 - loss: 3.6910 - acc: 0.117 - ETA: 1:21 - loss: 3.6923 - acc: 0.116 - ETA: 1:20 - loss: 3.6887 - acc: 0.117 - ETA: 1:18 - loss: 3.6868 - acc: 0.117 - ETA: 1:16 - loss: 3.6858 - acc: 0.117 - ETA: 1:14 - loss: 3.6860 - acc: 0.117 - ETA: 1:12 - loss: 3.6906 - acc: 0.117 - ETA: 1:11 - loss: 3.6912 - acc: 0.117 - ETA: 1:09 - loss: 3.6920 - acc: 0.117 - ETA: 1:07 - loss: 3.6936 - acc: 0.117 - ETA: 1:05 - loss: 3.6953 - acc: 0.117 - ETA: 1:04 - loss: 3.6947 - acc: 0.117 - ETA: 1:02 - loss: 3.6931 - acc: 0.117 - ETA: 1:00 - loss: 3.6933 - acc: 0.117 - ETA: 58s - loss: 3.6942 - acc: 0.117 - ETA: 56s - loss: 3.6965 - acc: 0.11 - ETA: 55s - loss: 3.6931 - acc: 0.11 - ETA: 53s - loss: 3.6926 - acc: 0.11 - ETA: 51s - loss: 3.6905 - acc: 0.11 - ETA: 49s - loss: 3.6881 - acc: 0.11 - ETA: 48s - loss: 3.6912 - acc: 0.11 - ETA: 46s - loss: 3.6929 - acc: 0.11 - ETA: 44s - loss: 3.6959 - acc: 0.11 - ETA: 42s - loss: 3.6959 - acc: 0.11 - ETA: 40s - loss: 3.6940 - acc: 0.11 - ETA: 39s - loss: 3.6947 - acc: 0.11 - ETA: 37s - loss: 3.6966 - acc: 0.11 - ETA: 35s - loss: 3.6972 - acc: 0.11 - ETA: 33s - loss: 3.6970 - acc: 0.11 - ETA: 32s - loss: 3.6959 - acc: 0.11 - ETA: 30s - loss: 3.6982 - acc: 0.11 - ETA: 28s - loss: 3.6987 - acc: 0.11 - ETA: 26s - loss: 3.6978 - acc: 0.11 - ETA: 24s - loss: 3.6951 - acc: 0.11 - ETA: 23s - loss: 3.6928 - acc: 0.11 - ETA: 21s - loss: 3.6942 - acc: 0.11 - ETA: 19s - loss: 3.6928 - acc: 0.11 - ETA: 17s - loss: 3.6954 - acc: 0.11 - ETA: 16s - loss: 3.6982 - acc: 0.11 - ETA: 14s - loss: 3.6978 - acc: 0.11 - ETA: 12s - loss: 3.6994 - acc: 0.11 - ETA: 10s - loss: 3.6986 - acc: 0.11 - ETA: 8s - loss: 3.6955 - acc: 0.1171 - ETA: 7s - loss: 3.6961 - acc: 0.116 - ETA: 5s - loss: 3.6942 - acc: 0.117 - ETA: 3s - loss: 3.6915 - acc: 0.117 - ETA: 1s - loss: 3.6964 - acc: 0.117 - 245s 2s/step - loss: 3.6981 - acc: 0.1176 - val_loss: 3.7135 - val_acc: 0.1234\n",
      "\n",
      "Epoch 00002: val_loss improved from 3.91095 to 3.71346, saving model to saved_models/weights.best.from_scratch.hdf5\n",
      "Epoch 3/10\n"
     ]
    },
    {
     "name": "stdout",
     "output_type": "stream",
     "text": [
      "133/133 [==============================] - ETA: 3:52 - loss: 3.6280 - acc: 0.140 - ETA: 3:52 - loss: 3.6497 - acc: 0.130 - ETA: 3:51 - loss: 3.6027 - acc: 0.140 - ETA: 3:49 - loss: 3.5821 - acc: 0.155 - ETA: 3:49 - loss: 3.6565 - acc: 0.136 - ETA: 3:47 - loss: 3.6717 - acc: 0.126 - ETA: 3:45 - loss: 3.6727 - acc: 0.131 - ETA: 3:43 - loss: 3.6172 - acc: 0.145 - ETA: 3:41 - loss: 3.6672 - acc: 0.148 - ETA: 3:39 - loss: 3.6395 - acc: 0.156 - ETA: 3:37 - loss: 3.6196 - acc: 0.149 - ETA: 3:35 - loss: 3.6008 - acc: 0.155 - ETA: 3:33 - loss: 3.5898 - acc: 0.152 - ETA: 3:31 - loss: 3.5634 - acc: 0.154 - ETA: 3:30 - loss: 3.5513 - acc: 0.160 - ETA: 3:28 - loss: 3.5636 - acc: 0.158 - ETA: 3:26 - loss: 3.5399 - acc: 0.158 - ETA: 3:24 - loss: 3.5431 - acc: 0.155 - ETA: 3:23 - loss: 3.5380 - acc: 0.153 - ETA: 3:21 - loss: 3.5420 - acc: 0.153 - ETA: 3:19 - loss: 3.5373 - acc: 0.154 - ETA: 3:17 - loss: 3.5356 - acc: 0.154 - ETA: 3:16 - loss: 3.5245 - acc: 0.154 - ETA: 3:14 - loss: 3.5224 - acc: 0.158 - ETA: 3:12 - loss: 3.5226 - acc: 0.156 - ETA: 3:11 - loss: 3.5240 - acc: 0.153 - ETA: 3:09 - loss: 3.5319 - acc: 0.152 - ETA: 3:07 - loss: 3.5320 - acc: 0.152 - ETA: 3:05 - loss: 3.5488 - acc: 0.150 - ETA: 3:03 - loss: 3.5494 - acc: 0.148 - ETA: 3:02 - loss: 3.5567 - acc: 0.147 - ETA: 2:58 - loss: 3.5628 - acc: 0.145 - ETA: 2:56 - loss: 3.5697 - acc: 0.144 - ETA: 2:54 - loss: 3.5715 - acc: 0.144 - ETA: 2:52 - loss: 3.5710 - acc: 0.142 - ETA: 2:51 - loss: 3.5665 - acc: 0.144 - ETA: 2:49 - loss: 3.5661 - acc: 0.145 - ETA: 2:47 - loss: 3.5769 - acc: 0.144 - ETA: 2:45 - loss: 3.5651 - acc: 0.146 - ETA: 2:44 - loss: 3.5682 - acc: 0.144 - ETA: 2:42 - loss: 3.5707 - acc: 0.143 - ETA: 2:40 - loss: 3.5735 - acc: 0.143 - ETA: 2:38 - loss: 3.5697 - acc: 0.145 - ETA: 2:37 - loss: 3.5677 - acc: 0.145 - ETA: 2:35 - loss: 3.5690 - acc: 0.144 - ETA: 2:33 - loss: 3.5728 - acc: 0.143 - ETA: 2:31 - loss: 3.5733 - acc: 0.143 - ETA: 2:30 - loss: 3.5769 - acc: 0.142 - ETA: 2:28 - loss: 3.5850 - acc: 0.142 - ETA: 2:26 - loss: 3.5907 - acc: 0.142 - ETA: 2:24 - loss: 3.5932 - acc: 0.142 - ETA: 2:23 - loss: 3.5941 - acc: 0.141 - ETA: 2:21 - loss: 3.5970 - acc: 0.140 - ETA: 2:19 - loss: 3.6038 - acc: 0.139 - ETA: 2:17 - loss: 3.6062 - acc: 0.138 - ETA: 2:16 - loss: 3.6111 - acc: 0.136 - ETA: 2:14 - loss: 3.6137 - acc: 0.137 - ETA: 2:12 - loss: 3.6129 - acc: 0.136 - ETA: 2:10 - loss: 3.6194 - acc: 0.135 - ETA: 2:09 - loss: 3.6200 - acc: 0.136 - ETA: 2:07 - loss: 3.6224 - acc: 0.135 - ETA: 2:05 - loss: 3.6181 - acc: 0.135 - ETA: 2:03 - loss: 3.6179 - acc: 0.134 - ETA: 2:02 - loss: 3.6173 - acc: 0.134 - ETA: 2:00 - loss: 3.6180 - acc: 0.134 - ETA: 1:58 - loss: 3.6184 - acc: 0.133 - ETA: 1:56 - loss: 3.6208 - acc: 0.132 - ETA: 1:55 - loss: 3.6264 - acc: 0.131 - ETA: 1:53 - loss: 3.6256 - acc: 0.131 - ETA: 1:51 - loss: 3.6280 - acc: 0.130 - ETA: 1:49 - loss: 3.6306 - acc: 0.130 - ETA: 1:48 - loss: 3.6308 - acc: 0.130 - ETA: 1:46 - loss: 3.6305 - acc: 0.129 - ETA: 1:44 - loss: 3.6291 - acc: 0.129 - ETA: 1:42 - loss: 3.6327 - acc: 0.129 - ETA: 1:40 - loss: 3.6350 - acc: 0.129 - ETA: 1:39 - loss: 3.6375 - acc: 0.130 - ETA: 1:37 - loss: 3.6378 - acc: 0.131 - ETA: 1:37 - loss: 3.6347 - acc: 0.131 - ETA: 1:35 - loss: 3.6348 - acc: 0.131 - ETA: 1:33 - loss: 3.6363 - acc: 0.131 - ETA: 1:31 - loss: 3.6344 - acc: 0.132 - ETA: 1:29 - loss: 3.6375 - acc: 0.131 - ETA: 1:28 - loss: 3.6393 - acc: 0.130 - ETA: 1:26 - loss: 3.6392 - acc: 0.130 - ETA: 1:24 - loss: 3.6400 - acc: 0.131 - ETA: 1:22 - loss: 3.6388 - acc: 0.131 - ETA: 1:20 - loss: 3.6366 - acc: 0.131 - ETA: 1:19 - loss: 3.6385 - acc: 0.131 - ETA: 1:17 - loss: 3.6409 - acc: 0.130 - ETA: 1:15 - loss: 3.6442 - acc: 0.130 - ETA: 1:13 - loss: 3.6463 - acc: 0.129 - ETA: 1:11 - loss: 3.6472 - acc: 0.129 - ETA: 1:10 - loss: 3.6468 - acc: 0.128 - ETA: 1:08 - loss: 3.6461 - acc: 0.128 - ETA: 1:06 - loss: 3.6434 - acc: 0.129 - ETA: 1:04 - loss: 3.6398 - acc: 0.130 - ETA: 1:02 - loss: 3.6382 - acc: 0.130 - ETA: 1:01 - loss: 3.6413 - acc: 0.130 - ETA: 59s - loss: 3.6441 - acc: 0.130 - ETA: 57s - loss: 3.6421 - acc: 0.13 - ETA: 55s - loss: 3.6415 - acc: 0.13 - ETA: 53s - loss: 3.6465 - acc: 0.12 - ETA: 52s - loss: 3.6482 - acc: 0.12 - ETA: 50s - loss: 3.6446 - acc: 0.13 - ETA: 48s - loss: 3.6445 - acc: 0.13 - ETA: 46s - loss: 3.6415 - acc: 0.13 - ETA: 44s - loss: 3.6441 - acc: 0.13 - ETA: 43s - loss: 3.6424 - acc: 0.13 - ETA: 41s - loss: 3.6407 - acc: 0.13 - ETA: 39s - loss: 3.6410 - acc: 0.13 - ETA: 37s - loss: 3.6403 - acc: 0.13 - ETA: 35s - loss: 3.6411 - acc: 0.13 - ETA: 34s - loss: 3.6394 - acc: 0.13 - ETA: 32s - loss: 3.6416 - acc: 0.13 - ETA: 30s - loss: 3.6418 - acc: 0.13 - ETA: 28s - loss: 3.6441 - acc: 0.12 - ETA: 26s - loss: 3.6441 - acc: 0.12 - ETA: 25s - loss: 3.6450 - acc: 0.12 - ETA: 23s - loss: 3.6470 - acc: 0.12 - ETA: 21s - loss: 3.6426 - acc: 0.12 - ETA: 19s - loss: 3.6440 - acc: 0.12 - ETA: 17s - loss: 3.6461 - acc: 0.12 - ETA: 16s - loss: 3.6419 - acc: 0.12 - ETA: 14s - loss: 3.6443 - acc: 0.12 - ETA: 12s - loss: 3.6450 - acc: 0.12 - ETA: 10s - loss: 3.6455 - acc: 0.12 - ETA: 8s - loss: 3.6444 - acc: 0.1275 - ETA: 7s - loss: 3.6422 - acc: 0.127 - ETA: 5s - loss: 3.6435 - acc: 0.128 - ETA: 3s - loss: 3.6458 - acc: 0.128 - ETA: 1s - loss: 3.6449 - acc: 0.128 - 248s 2s/step - loss: 3.6447 - acc: 0.1289 - val_loss: 3.9142 - val_acc: 0.0982\n",
      "\n",
      "Epoch 00003: val_loss did not improve\n",
      "Epoch 4/10\n",
      "133/133 [==============================] - ETA: 3:42 - loss: 3.9810 - acc: 0.060 - ETA: 3:41 - loss: 3.7852 - acc: 0.100 - ETA: 3:43 - loss: 3.7519 - acc: 0.126 - ETA: 3:44 - loss: 3.7351 - acc: 0.130 - ETA: 3:43 - loss: 3.6879 - acc: 0.132 - ETA: 3:43 - loss: 3.6329 - acc: 0.130 - ETA: 3:42 - loss: 3.5627 - acc: 0.140 - ETA: 3:41 - loss: 3.5871 - acc: 0.130 - ETA: 3:40 - loss: 3.5932 - acc: 0.133 - ETA: 3:38 - loss: 3.6449 - acc: 0.130 - ETA: 3:37 - loss: 3.6241 - acc: 0.123 - ETA: 3:35 - loss: 3.6055 - acc: 0.118 - ETA: 3:33 - loss: 3.5933 - acc: 0.116 - ETA: 3:32 - loss: 3.5624 - acc: 0.124 - ETA: 3:31 - loss: 3.5414 - acc: 0.126 - ETA: 3:29 - loss: 3.5364 - acc: 0.125 - ETA: 3:28 - loss: 3.5494 - acc: 0.124 - ETA: 3:26 - loss: 3.5535 - acc: 0.130 - ETA: 3:24 - loss: 3.5591 - acc: 0.126 - ETA: 3:23 - loss: 3.5707 - acc: 0.122 - ETA: 3:21 - loss: 3.5787 - acc: 0.120 - ETA: 3:20 - loss: 3.5824 - acc: 0.123 - ETA: 3:18 - loss: 3.5851 - acc: 0.121 - ETA: 3:16 - loss: 3.5904 - acc: 0.120 - ETA: 3:14 - loss: 3.5963 - acc: 0.121 - ETA: 3:12 - loss: 3.5933 - acc: 0.123 - ETA: 3:11 - loss: 3.5814 - acc: 0.125 - ETA: 3:09 - loss: 3.5751 - acc: 0.125 - ETA: 3:07 - loss: 3.5728 - acc: 0.126 - ETA: 3:05 - loss: 3.5703 - acc: 0.127 - ETA: 3:03 - loss: 3.5766 - acc: 0.125 - ETA: 3:02 - loss: 3.5778 - acc: 0.125 - ETA: 3:00 - loss: 3.5852 - acc: 0.125 - ETA: 2:58 - loss: 3.5922 - acc: 0.125 - ETA: 2:55 - loss: 3.5927 - acc: 0.127 - ETA: 2:53 - loss: 3.5918 - acc: 0.127 - ETA: 2:51 - loss: 3.5974 - acc: 0.126 - ETA: 2:49 - loss: 3.6047 - acc: 0.124 - ETA: 2:48 - loss: 3.5975 - acc: 0.126 - ETA: 2:46 - loss: 3.5968 - acc: 0.127 - ETA: 2:44 - loss: 3.5945 - acc: 0.126 - ETA: 2:42 - loss: 3.6029 - acc: 0.126 - ETA: 2:41 - loss: 3.6010 - acc: 0.125 - ETA: 2:39 - loss: 3.6032 - acc: 0.126 - ETA: 2:37 - loss: 3.6116 - acc: 0.126 - ETA: 2:35 - loss: 3.6182 - acc: 0.126 - ETA: 2:34 - loss: 3.6205 - acc: 0.126 - ETA: 2:32 - loss: 3.6268 - acc: 0.125 - ETA: 2:30 - loss: 3.6277 - acc: 0.124 - ETA: 2:28 - loss: 3.6229 - acc: 0.124 - ETA: 2:27 - loss: 3.6181 - acc: 0.124 - ETA: 2:25 - loss: 3.6200 - acc: 0.125 - ETA: 2:23 - loss: 3.6221 - acc: 0.124 - ETA: 2:21 - loss: 3.6198 - acc: 0.124 - ETA: 2:19 - loss: 3.6163 - acc: 0.125 - ETA: 2:18 - loss: 3.6134 - acc: 0.126 - ETA: 2:16 - loss: 3.6088 - acc: 0.126 - ETA: 2:14 - loss: 3.6111 - acc: 0.124 - ETA: 2:12 - loss: 3.6146 - acc: 0.125 - ETA: 2:10 - loss: 3.6180 - acc: 0.123 - ETA: 2:09 - loss: 3.6197 - acc: 0.123 - ETA: 2:07 - loss: 3.6232 - acc: 0.123 - ETA: 2:05 - loss: 3.6212 - acc: 0.124 - ETA: 2:03 - loss: 3.6227 - acc: 0.123 - ETA: 2:02 - loss: 3.6236 - acc: 0.124 - ETA: 2:00 - loss: 3.6261 - acc: 0.123 - ETA: 1:58 - loss: 3.6292 - acc: 0.123 - ETA: 1:56 - loss: 3.6323 - acc: 0.122 - ETA: 1:54 - loss: 3.6325 - acc: 0.122 - ETA: 1:53 - loss: 3.6374 - acc: 0.122 - ETA: 1:51 - loss: 3.6361 - acc: 0.123 - ETA: 1:49 - loss: 3.6320 - acc: 0.123 - ETA: 1:47 - loss: 3.6313 - acc: 0.124 - ETA: 1:45 - loss: 3.6305 - acc: 0.124 - ETA: 1:44 - loss: 3.6316 - acc: 0.123 - ETA: 1:42 - loss: 3.6263 - acc: 0.123 - ETA: 1:40 - loss: 3.6241 - acc: 0.123 - ETA: 1:38 - loss: 3.6232 - acc: 0.123 - ETA: 1:36 - loss: 3.6234 - acc: 0.122 - ETA: 1:35 - loss: 3.6229 - acc: 0.121 - ETA: 1:33 - loss: 3.6200 - acc: 0.121 - ETA: 1:31 - loss: 3.6226 - acc: 0.122 - ETA: 1:29 - loss: 3.6265 - acc: 0.121 - ETA: 1:28 - loss: 3.6264 - acc: 0.121 - ETA: 1:26 - loss: 3.6267 - acc: 0.122 - ETA: 1:24 - loss: 3.6261 - acc: 0.122 - ETA: 1:22 - loss: 3.6237 - acc: 0.122 - ETA: 1:20 - loss: 3.6275 - acc: 0.122 - ETA: 1:19 - loss: 3.6287 - acc: 0.122 - ETA: 1:17 - loss: 3.6270 - acc: 0.122 - ETA: 1:15 - loss: 3.6241 - acc: 0.123 - ETA: 1:13 - loss: 3.6223 - acc: 0.123 - ETA: 1:11 - loss: 3.6240 - acc: 0.123 - ETA: 1:10 - loss: 3.6228 - acc: 0.123 - ETA: 1:08 - loss: 3.6258 - acc: 0.123 - ETA: 1:06 - loss: 3.6225 - acc: 0.123 - ETA: 1:04 - loss: 3.6197 - acc: 0.124 - ETA: 1:02 - loss: 3.6207 - acc: 0.123 - ETA: 1:01 - loss: 3.6250 - acc: 0.123 - ETA: 59s - loss: 3.6221 - acc: 0.124 - ETA: 57s - loss: 3.6199 - acc: 0.12 - ETA: 55s - loss: 3.6208 - acc: 0.12 - ETA: 53s - loss: 3.6208 - acc: 0.12 - ETA: 52s - loss: 3.6262 - acc: 0.12 - ETA: 50s - loss: 3.6286 - acc: 0.12 - ETA: 48s - loss: 3.6316 - acc: 0.12 - ETA: 46s - loss: 3.6322 - acc: 0.12 - ETA: 44s - loss: 3.6327 - acc: 0.12 - ETA: 43s - loss: 3.6344 - acc: 0.12 - ETA: 41s - loss: 3.6320 - acc: 0.12 - ETA: 39s - loss: 3.6319 - acc: 0.12 - ETA: 37s - loss: 3.6298 - acc: 0.12 - ETA: 35s - loss: 3.6283 - acc: 0.12 - ETA: 34s - loss: 3.6282 - acc: 0.12 - ETA: 32s - loss: 3.6260 - acc: 0.12 - ETA: 30s - loss: 3.6255 - acc: 0.12 - ETA: 28s - loss: 3.6272 - acc: 0.12 - ETA: 27s - loss: 3.6246 - acc: 0.12 - ETA: 25s - loss: 3.6233 - acc: 0.12 - ETA: 23s - loss: 3.6213 - acc: 0.12 - ETA: 21s - loss: 3.6206 - acc: 0.12 - ETA: 19s - loss: 3.6190 - acc: 0.12 - ETA: 18s - loss: 3.6210 - acc: 0.12 - ETA: 16s - loss: 3.6219 - acc: 0.12 - ETA: 14s - loss: 3.6249 - acc: 0.12 - ETA: 12s - loss: 3.6230 - acc: 0.12 - ETA: 10s - loss: 3.6230 - acc: 0.12 - ETA: 8s - loss: 3.6230 - acc: 0.1266 - ETA: 7s - loss: 3.6245 - acc: 0.126 - ETA: 5s - loss: 3.6271 - acc: 0.126 - ETA: 3s - loss: 3.6254 - acc: 0.126 - ETA: 1s - loss: 3.6260 - acc: 0.126 - 249s 2s/step - loss: 3.6291 - acc: 0.1266 - val_loss: 3.8781 - val_acc: 0.0934\n",
      "\n",
      "Epoch 00004: val_loss did not improve\n",
      "Epoch 5/10\n"
     ]
    },
    {
     "name": "stdout",
     "output_type": "stream",
     "text": [
      "133/133 [==============================] - ETA: 3:43 - loss: 3.7028 - acc: 0.080 - ETA: 3:45 - loss: 3.7801 - acc: 0.060 - ETA: 3:43 - loss: 3.7311 - acc: 0.100 - ETA: 3:44 - loss: 3.7180 - acc: 0.125 - ETA: 3:46 - loss: 3.6381 - acc: 0.136 - ETA: 3:44 - loss: 3.6324 - acc: 0.126 - ETA: 3:43 - loss: 3.5816 - acc: 0.134 - ETA: 3:41 - loss: 3.5376 - acc: 0.140 - ETA: 3:40 - loss: 3.5582 - acc: 0.142 - ETA: 3:38 - loss: 3.5367 - acc: 0.146 - ETA: 3:37 - loss: 3.5639 - acc: 0.140 - ETA: 3:36 - loss: 3.5818 - acc: 0.136 - ETA: 3:34 - loss: 3.5869 - acc: 0.141 - ETA: 3:33 - loss: 3.5905 - acc: 0.148 - ETA: 3:32 - loss: 3.5676 - acc: 0.148 - ETA: 3:30 - loss: 3.5725 - acc: 0.148 - ETA: 3:28 - loss: 3.5636 - acc: 0.149 - ETA: 3:26 - loss: 3.5712 - acc: 0.148 - ETA: 3:25 - loss: 3.5568 - acc: 0.150 - ETA: 3:23 - loss: 3.5467 - acc: 0.153 - ETA: 3:21 - loss: 3.5439 - acc: 0.150 - ETA: 3:19 - loss: 3.5548 - acc: 0.149 - ETA: 3:17 - loss: 3.5604 - acc: 0.147 - ETA: 3:15 - loss: 3.5383 - acc: 0.147 - ETA: 3:14 - loss: 3.5532 - acc: 0.145 - ETA: 3:12 - loss: 3.5500 - acc: 0.146 - ETA: 3:10 - loss: 3.5552 - acc: 0.145 - ETA: 3:08 - loss: 3.5501 - acc: 0.147 - ETA: 3:07 - loss: 3.5602 - acc: 0.143 - ETA: 3:05 - loss: 3.5636 - acc: 0.141 - ETA: 3:03 - loss: 3.5572 - acc: 0.143 - ETA: 3:01 - loss: 3.5515 - acc: 0.143 - ETA: 2:59 - loss: 3.5504 - acc: 0.143 - ETA: 2:58 - loss: 3.5617 - acc: 0.140 - ETA: 2:56 - loss: 3.5675 - acc: 0.138 - ETA: 2:54 - loss: 3.5668 - acc: 0.138 - ETA: 2:52 - loss: 3.5742 - acc: 0.136 - ETA: 2:51 - loss: 3.5732 - acc: 0.137 - ETA: 2:49 - loss: 3.5725 - acc: 0.137 - ETA: 2:47 - loss: 3.5722 - acc: 0.138 - ETA: 2:45 - loss: 3.5751 - acc: 0.137 - ETA: 2:43 - loss: 3.5748 - acc: 0.135 - ETA: 2:41 - loss: 3.5656 - acc: 0.138 - ETA: 2:39 - loss: 3.5654 - acc: 0.138 - ETA: 2:38 - loss: 3.5618 - acc: 0.138 - ETA: 2:36 - loss: 3.5631 - acc: 0.139 - ETA: 2:34 - loss: 3.5752 - acc: 0.137 - ETA: 2:32 - loss: 3.5743 - acc: 0.137 - ETA: 2:30 - loss: 3.5772 - acc: 0.137 - ETA: 2:28 - loss: 3.5767 - acc: 0.138 - ETA: 2:27 - loss: 3.5757 - acc: 0.137 - ETA: 2:25 - loss: 3.5732 - acc: 0.138 - ETA: 2:23 - loss: 3.5646 - acc: 0.139 - ETA: 2:21 - loss: 3.5671 - acc: 0.139 - ETA: 2:19 - loss: 3.5659 - acc: 0.138 - ETA: 2:18 - loss: 3.5698 - acc: 0.137 - ETA: 2:16 - loss: 3.5715 - acc: 0.137 - ETA: 2:14 - loss: 3.5689 - acc: 0.137 - ETA: 2:12 - loss: 3.5752 - acc: 0.136 - ETA: 2:11 - loss: 3.5748 - acc: 0.136 - ETA: 2:09 - loss: 3.5757 - acc: 0.135 - ETA: 2:07 - loss: 3.5780 - acc: 0.135 - ETA: 2:05 - loss: 3.5822 - acc: 0.135 - ETA: 2:03 - loss: 3.5823 - acc: 0.136 - ETA: 2:02 - loss: 3.5783 - acc: 0.136 - ETA: 2:00 - loss: 3.5802 - acc: 0.136 - ETA: 1:58 - loss: 3.5816 - acc: 0.136 - ETA: 1:56 - loss: 3.5808 - acc: 0.137 - ETA: 1:54 - loss: 3.5801 - acc: 0.137 - ETA: 1:53 - loss: 3.5790 - acc: 0.137 - ETA: 1:51 - loss: 3.5841 - acc: 0.138 - ETA: 1:49 - loss: 3.5861 - acc: 0.138 - ETA: 1:47 - loss: 3.5872 - acc: 0.139 - ETA: 1:45 - loss: 3.5814 - acc: 0.140 - ETA: 1:44 - loss: 3.5838 - acc: 0.139 - ETA: 1:42 - loss: 3.5832 - acc: 0.139 - ETA: 1:40 - loss: 3.5817 - acc: 0.139 - ETA: 1:38 - loss: 3.5812 - acc: 0.139 - ETA: 1:36 - loss: 3.5784 - acc: 0.139 - ETA: 1:35 - loss: 3.5814 - acc: 0.138 - ETA: 1:33 - loss: 3.5809 - acc: 0.137 - ETA: 1:31 - loss: 3.5810 - acc: 0.137 - ETA: 1:29 - loss: 3.5816 - acc: 0.137 - ETA: 1:27 - loss: 3.5835 - acc: 0.136 - ETA: 1:25 - loss: 3.5816 - acc: 0.137 - ETA: 1:24 - loss: 3.5811 - acc: 0.138 - ETA: 1:22 - loss: 3.5774 - acc: 0.137 - ETA: 1:20 - loss: 3.5764 - acc: 0.138 - ETA: 1:18 - loss: 3.5757 - acc: 0.138 - ETA: 1:17 - loss: 3.5717 - acc: 0.139 - ETA: 1:15 - loss: 3.5672 - acc: 0.139 - ETA: 1:13 - loss: 3.5677 - acc: 0.138 - ETA: 1:11 - loss: 3.5664 - acc: 0.139 - ETA: 1:09 - loss: 3.5690 - acc: 0.138 - ETA: 1:08 - loss: 3.5697 - acc: 0.138 - ETA: 1:06 - loss: 3.5712 - acc: 0.138 - ETA: 1:04 - loss: 3.5731 - acc: 0.138 - ETA: 1:02 - loss: 3.5730 - acc: 0.138 - ETA: 1:00 - loss: 3.5751 - acc: 0.137 - ETA: 59s - loss: 3.5748 - acc: 0.138 - ETA: 57s - loss: 3.5763 - acc: 0.13 - ETA: 55s - loss: 3.5742 - acc: 0.13 - ETA: 53s - loss: 3.5754 - acc: 0.13 - ETA: 51s - loss: 3.5751 - acc: 0.13 - ETA: 50s - loss: 3.5758 - acc: 0.13 - ETA: 48s - loss: 3.5773 - acc: 0.13 - ETA: 46s - loss: 3.5757 - acc: 0.13 - ETA: 44s - loss: 3.5733 - acc: 0.13 - ETA: 42s - loss: 3.5703 - acc: 0.13 - ETA: 41s - loss: 3.5694 - acc: 0.14 - ETA: 39s - loss: 3.5715 - acc: 0.13 - ETA: 37s - loss: 3.5713 - acc: 0.14 - ETA: 35s - loss: 3.5695 - acc: 0.14 - ETA: 33s - loss: 3.5651 - acc: 0.14 - ETA: 32s - loss: 3.5665 - acc: 0.14 - ETA: 30s - loss: 3.5632 - acc: 0.14 - ETA: 28s - loss: 3.5618 - acc: 0.14 - ETA: 26s - loss: 3.5620 - acc: 0.14 - ETA: 25s - loss: 3.5621 - acc: 0.14 - ETA: 23s - loss: 3.5602 - acc: 0.14 - ETA: 21s - loss: 3.5589 - acc: 0.14 - ETA: 19s - loss: 3.5635 - acc: 0.14 - ETA: 17s - loss: 3.5631 - acc: 0.14 - ETA: 16s - loss: 3.5636 - acc: 0.14 - ETA: 14s - loss: 3.5631 - acc: 0.14 - ETA: 12s - loss: 3.5606 - acc: 0.14 - ETA: 10s - loss: 3.5583 - acc: 0.14 - ETA: 8s - loss: 3.5555 - acc: 0.1428 - ETA: 7s - loss: 3.5539 - acc: 0.142 - ETA: 5s - loss: 3.5542 - acc: 0.143 - ETA: 3s - loss: 3.5547 - acc: 0.142 - ETA: 1s - loss: 3.5543 - acc: 0.143 - 248s 2s/step - loss: 3.5545 - acc: 0.1433 - val_loss: 4.3455 - val_acc: 0.0719\n",
      "\n",
      "Epoch 00005: val_loss did not improve\n",
      "Epoch 6/10\n",
      "133/133 [==============================] - ETA: 3:42 - loss: 3.7572 - acc: 0.100 - ETA: 2:58 - loss: 3.8501 - acc: 0.133 - ETA: 3:11 - loss: 3.7734 - acc: 0.148 - ETA: 3:18 - loss: 3.7765 - acc: 0.141 - ETA: 3:23 - loss: 3.6925 - acc: 0.141 - ETA: 3:26 - loss: 3.6633 - acc: 0.144 - ETA: 3:28 - loss: 3.6037 - acc: 0.163 - ETA: 3:29 - loss: 3.5787 - acc: 0.160 - ETA: 3:19 - loss: 3.5787 - acc: 0.165 - ETA: 3:20 - loss: 3.5733 - acc: 0.164 - ETA: 3:20 - loss: 3.5587 - acc: 0.167 - ETA: 3:20 - loss: 3.5763 - acc: 0.163 - ETA: 3:20 - loss: 3.6015 - acc: 0.159 - ETA: 3:19 - loss: 3.5802 - acc: 0.161 - ETA: 3:19 - loss: 3.5781 - acc: 0.160 - ETA: 3:18 - loss: 3.5601 - acc: 0.164 - ETA: 3:17 - loss: 3.5447 - acc: 0.166 - ETA: 3:16 - loss: 3.5406 - acc: 0.162 - ETA: 3:14 - loss: 3.5380 - acc: 0.155 - ETA: 3:13 - loss: 3.5273 - acc: 0.157 - ETA: 3:12 - loss: 3.5235 - acc: 0.154 - ETA: 3:11 - loss: 3.5145 - acc: 0.155 - ETA: 3:09 - loss: 3.5142 - acc: 0.155 - ETA: 3:08 - loss: 3.5119 - acc: 0.156 - ETA: 3:07 - loss: 3.5285 - acc: 0.157 - ETA: 3:05 - loss: 3.5298 - acc: 0.157 - ETA: 3:04 - loss: 3.5480 - acc: 0.153 - ETA: 3:02 - loss: 3.5479 - acc: 0.153 - ETA: 3:00 - loss: 3.5475 - acc: 0.151 - ETA: 2:59 - loss: 3.5522 - acc: 0.151 - ETA: 2:57 - loss: 3.5624 - acc: 0.152 - ETA: 2:56 - loss: 3.5500 - acc: 0.154 - ETA: 2:55 - loss: 3.5488 - acc: 0.153 - ETA: 2:53 - loss: 3.5492 - acc: 0.152 - ETA: 2:52 - loss: 3.5431 - acc: 0.151 - ETA: 2:50 - loss: 3.5414 - acc: 0.153 - ETA: 2:48 - loss: 3.5405 - acc: 0.151 - ETA: 2:47 - loss: 3.5436 - acc: 0.150 - ETA: 2:45 - loss: 3.5450 - acc: 0.151 - ETA: 2:43 - loss: 3.5485 - acc: 0.149 - ETA: 2:42 - loss: 3.5495 - acc: 0.148 - ETA: 2:40 - loss: 3.5541 - acc: 0.148 - ETA: 2:38 - loss: 3.5530 - acc: 0.147 - ETA: 2:36 - loss: 3.5540 - acc: 0.147 - ETA: 2:35 - loss: 3.5585 - acc: 0.147 - ETA: 2:33 - loss: 3.5533 - acc: 0.147 - ETA: 2:31 - loss: 3.5488 - acc: 0.147 - ETA: 2:29 - loss: 3.5494 - acc: 0.146 - ETA: 2:28 - loss: 3.5516 - acc: 0.145 - ETA: 2:26 - loss: 3.5544 - acc: 0.144 - ETA: 2:24 - loss: 3.5592 - acc: 0.144 - ETA: 2:23 - loss: 3.5642 - acc: 0.142 - ETA: 2:21 - loss: 3.5650 - acc: 0.142 - ETA: 2:19 - loss: 3.5573 - acc: 0.143 - ETA: 2:17 - loss: 3.5585 - acc: 0.142 - ETA: 2:15 - loss: 3.5563 - acc: 0.142 - ETA: 2:14 - loss: 3.5558 - acc: 0.143 - ETA: 2:12 - loss: 3.5526 - acc: 0.144 - ETA: 2:10 - loss: 3.5457 - acc: 0.147 - ETA: 2:08 - loss: 3.5418 - acc: 0.147 - ETA: 2:07 - loss: 3.5377 - acc: 0.147 - ETA: 2:05 - loss: 3.5368 - acc: 0.148 - ETA: 2:03 - loss: 3.5426 - acc: 0.149 - ETA: 2:01 - loss: 3.5394 - acc: 0.149 - ETA: 2:00 - loss: 3.5413 - acc: 0.149 - ETA: 1:58 - loss: 3.5431 - acc: 0.148 - ETA: 1:56 - loss: 3.5434 - acc: 0.149 - ETA: 1:54 - loss: 3.5490 - acc: 0.149 - ETA: 1:53 - loss: 3.5494 - acc: 0.149 - ETA: 1:51 - loss: 3.5448 - acc: 0.151 - ETA: 1:49 - loss: 3.5371 - acc: 0.151 - ETA: 1:47 - loss: 3.5388 - acc: 0.152 - ETA: 1:46 - loss: 3.5445 - acc: 0.150 - ETA: 1:44 - loss: 3.5390 - acc: 0.152 - ETA: 1:42 - loss: 3.5375 - acc: 0.152 - ETA: 1:40 - loss: 3.5408 - acc: 0.151 - ETA: 1:39 - loss: 3.5391 - acc: 0.152 - ETA: 1:37 - loss: 3.5396 - acc: 0.152 - ETA: 1:35 - loss: 3.5418 - acc: 0.152 - ETA: 1:33 - loss: 3.5459 - acc: 0.151 - ETA: 1:32 - loss: 3.5459 - acc: 0.151 - ETA: 1:30 - loss: 3.5460 - acc: 0.151 - ETA: 1:28 - loss: 3.5480 - acc: 0.150 - ETA: 1:26 - loss: 3.5504 - acc: 0.149 - ETA: 1:25 - loss: 3.5530 - acc: 0.148 - ETA: 1:23 - loss: 3.5520 - acc: 0.148 - ETA: 1:21 - loss: 3.5509 - acc: 0.147 - ETA: 1:19 - loss: 3.5532 - acc: 0.146 - ETA: 1:18 - loss: 3.5510 - acc: 0.147 - ETA: 1:16 - loss: 3.5513 - acc: 0.146 - ETA: 1:14 - loss: 3.5528 - acc: 0.146 - ETA: 1:12 - loss: 3.5579 - acc: 0.145 - ETA: 1:10 - loss: 3.5602 - acc: 0.144 - ETA: 1:09 - loss: 3.5617 - acc: 0.144 - ETA: 1:07 - loss: 3.5576 - acc: 0.144 - ETA: 1:05 - loss: 3.5567 - acc: 0.143 - ETA: 1:03 - loss: 3.5589 - acc: 0.143 - ETA: 1:02 - loss: 3.5554 - acc: 0.143 - ETA: 1:00 - loss: 3.5513 - acc: 0.144 - ETA: 58s - loss: 3.5490 - acc: 0.144 - ETA: 56s - loss: 3.5488 - acc: 0.14 - ETA: 55s - loss: 3.5500 - acc: 0.14 - ETA: 53s - loss: 3.5495 - acc: 0.14 - ETA: 51s - loss: 3.5484 - acc: 0.14 - ETA: 49s - loss: 3.5488 - acc: 0.14 - ETA: 47s - loss: 3.5494 - acc: 0.14 - ETA: 46s - loss: 3.5499 - acc: 0.14 - ETA: 44s - loss: 3.5470 - acc: 0.14 - ETA: 42s - loss: 3.5505 - acc: 0.14 - ETA: 40s - loss: 3.5530 - acc: 0.14 - ETA: 39s - loss: 3.5538 - acc: 0.14 - ETA: 37s - loss: 3.5518 - acc: 0.14 - ETA: 35s - loss: 3.5506 - acc: 0.14 - ETA: 33s - loss: 3.5478 - acc: 0.14 - ETA: 31s - loss: 3.5467 - acc: 0.14 - ETA: 30s - loss: 3.5422 - acc: 0.14 - ETA: 28s - loss: 3.5410 - acc: 0.14 - ETA: 26s - loss: 3.5393 - acc: 0.14 - ETA: 24s - loss: 3.5445 - acc: 0.14 - ETA: 23s - loss: 3.5410 - acc: 0.14 - ETA: 21s - loss: 3.5408 - acc: 0.14 - ETA: 19s - loss: 3.5446 - acc: 0.14 - ETA: 17s - loss: 3.5448 - acc: 0.14 - ETA: 15s - loss: 3.5443 - acc: 0.14 - ETA: 14s - loss: 3.5447 - acc: 0.14 - ETA: 12s - loss: 3.5438 - acc: 0.14 - ETA: 10s - loss: 3.5416 - acc: 0.14 - ETA: 8s - loss: 3.5411 - acc: 0.1451 - ETA: 7s - loss: 3.5410 - acc: 0.146 - ETA: 5s - loss: 3.5419 - acc: 0.146 - ETA: 3s - loss: 3.5423 - acc: 0.146 - ETA: 1s - loss: 3.5437 - acc: 0.146 - 246s 2s/step - loss: 3.5449 - acc: 0.1462 - val_loss: 3.6559 - val_acc: 0.1293\n",
      "\n",
      "Epoch 00006: val_loss improved from 3.71346 to 3.65587, saving model to saved_models/weights.best.from_scratch.hdf5\n",
      "Epoch 7/10\n"
     ]
    },
    {
     "name": "stdout",
     "output_type": "stream",
     "text": [
      "133/133 [==============================] - ETA: 3:46 - loss: 3.3139 - acc: 0.160 - ETA: 3:39 - loss: 3.4250 - acc: 0.190 - ETA: 3:39 - loss: 3.5267 - acc: 0.180 - ETA: 3:38 - loss: 3.5377 - acc: 0.175 - ETA: 3:38 - loss: 3.5175 - acc: 0.168 - ETA: 3:38 - loss: 3.5747 - acc: 0.150 - ETA: 3:38 - loss: 3.5689 - acc: 0.148 - ETA: 3:37 - loss: 3.4884 - acc: 0.165 - ETA: 3:36 - loss: 3.4702 - acc: 0.168 - ETA: 3:35 - loss: 3.4546 - acc: 0.164 - ETA: 3:34 - loss: 3.4662 - acc: 0.174 - ETA: 3:32 - loss: 3.4173 - acc: 0.176 - ETA: 3:31 - loss: 3.4478 - acc: 0.173 - ETA: 3:29 - loss: 3.4687 - acc: 0.168 - ETA: 3:28 - loss: 3.4479 - acc: 0.172 - ETA: 3:26 - loss: 3.4704 - acc: 0.172 - ETA: 3:25 - loss: 3.4663 - acc: 0.165 - ETA: 3:23 - loss: 3.4811 - acc: 0.165 - ETA: 3:22 - loss: 3.4719 - acc: 0.170 - ETA: 3:20 - loss: 3.4583 - acc: 0.169 - ETA: 3:18 - loss: 3.4539 - acc: 0.166 - ETA: 3:17 - loss: 3.4658 - acc: 0.164 - ETA: 3:15 - loss: 3.4754 - acc: 0.160 - ETA: 3:13 - loss: 3.4825 - acc: 0.156 - ETA: 3:11 - loss: 3.4900 - acc: 0.156 - ETA: 3:10 - loss: 3.4902 - acc: 0.154 - ETA: 3:08 - loss: 3.4916 - acc: 0.154 - ETA: 3:07 - loss: 3.4900 - acc: 0.151 - ETA: 3:05 - loss: 3.4889 - acc: 0.150 - ETA: 3:03 - loss: 3.4974 - acc: 0.148 - ETA: 3:02 - loss: 3.5000 - acc: 0.147 - ETA: 3:00 - loss: 3.5049 - acc: 0.147 - ETA: 2:59 - loss: 3.5144 - acc: 0.145 - ETA: 2:57 - loss: 3.5092 - acc: 0.145 - ETA: 2:55 - loss: 3.5182 - acc: 0.146 - ETA: 2:53 - loss: 3.5158 - acc: 0.147 - ETA: 2:51 - loss: 3.5145 - acc: 0.147 - ETA: 2:49 - loss: 3.5149 - acc: 0.146 - ETA: 2:48 - loss: 3.5198 - acc: 0.145 - ETA: 2:46 - loss: 3.5181 - acc: 0.145 - ETA: 2:44 - loss: 3.5188 - acc: 0.145 - ETA: 2:42 - loss: 3.5188 - acc: 0.147 - ETA: 2:41 - loss: 3.5159 - acc: 0.147 - ETA: 2:39 - loss: 3.5118 - acc: 0.149 - ETA: 2:36 - loss: 3.5090 - acc: 0.149 - ETA: 2:34 - loss: 3.5150 - acc: 0.149 - ETA: 2:32 - loss: 3.5140 - acc: 0.150 - ETA: 2:31 - loss: 3.5116 - acc: 0.151 - ETA: 2:29 - loss: 3.5190 - acc: 0.150 - ETA: 2:27 - loss: 3.5136 - acc: 0.152 - ETA: 2:25 - loss: 3.5128 - acc: 0.155 - ETA: 2:23 - loss: 3.5193 - acc: 0.154 - ETA: 2:22 - loss: 3.5200 - acc: 0.154 - ETA: 2:20 - loss: 3.5209 - acc: 0.153 - ETA: 2:18 - loss: 3.5191 - acc: 0.152 - ETA: 2:16 - loss: 3.5153 - acc: 0.153 - ETA: 2:15 - loss: 3.5140 - acc: 0.153 - ETA: 2:13 - loss: 3.5099 - acc: 0.155 - ETA: 2:11 - loss: 3.5012 - acc: 0.157 - ETA: 2:09 - loss: 3.4984 - acc: 0.157 - ETA: 2:08 - loss: 3.5001 - acc: 0.157 - ETA: 2:06 - loss: 3.5008 - acc: 0.157 - ETA: 2:04 - loss: 3.5076 - acc: 0.156 - ETA: 2:02 - loss: 3.5128 - acc: 0.155 - ETA: 2:00 - loss: 3.5092 - acc: 0.155 - ETA: 1:59 - loss: 3.5113 - acc: 0.154 - ETA: 1:57 - loss: 3.5091 - acc: 0.155 - ETA: 1:55 - loss: 3.5093 - acc: 0.154 - ETA: 1:53 - loss: 3.5129 - acc: 0.153 - ETA: 1:51 - loss: 3.5106 - acc: 0.154 - ETA: 1:50 - loss: 3.5064 - acc: 0.154 - ETA: 1:48 - loss: 3.5116 - acc: 0.154 - ETA: 1:46 - loss: 3.5087 - acc: 0.154 - ETA: 1:44 - loss: 3.5101 - acc: 0.154 - ETA: 1:43 - loss: 3.5168 - acc: 0.155 - ETA: 1:41 - loss: 3.5191 - acc: 0.154 - ETA: 1:39 - loss: 3.5172 - acc: 0.153 - ETA: 1:37 - loss: 3.5150 - acc: 0.153 - ETA: 1:36 - loss: 3.5141 - acc: 0.153 - ETA: 1:34 - loss: 3.5177 - acc: 0.153 - ETA: 1:32 - loss: 3.5217 - acc: 0.153 - ETA: 1:30 - loss: 3.5218 - acc: 0.153 - ETA: 1:28 - loss: 3.5209 - acc: 0.154 - ETA: 1:27 - loss: 3.5223 - acc: 0.153 - ETA: 1:25 - loss: 3.5195 - acc: 0.154 - ETA: 1:23 - loss: 3.5201 - acc: 0.154 - ETA: 1:21 - loss: 3.5209 - acc: 0.155 - ETA: 1:20 - loss: 3.5194 - acc: 0.154 - ETA: 1:18 - loss: 3.5182 - acc: 0.154 - ETA: 1:16 - loss: 3.5176 - acc: 0.155 - ETA: 1:14 - loss: 3.5104 - acc: 0.155 - ETA: 1:12 - loss: 3.5145 - acc: 0.154 - ETA: 1:11 - loss: 3.5164 - acc: 0.156 - ETA: 1:09 - loss: 3.5172 - acc: 0.156 - ETA: 1:07 - loss: 3.5163 - acc: 0.156 - ETA: 1:05 - loss: 3.5201 - acc: 0.156 - ETA: 1:04 - loss: 3.5201 - acc: 0.155 - ETA: 1:02 - loss: 3.5214 - acc: 0.155 - ETA: 1:00 - loss: 3.5184 - acc: 0.156 - ETA: 58s - loss: 3.5215 - acc: 0.155 - ETA: 56s - loss: 3.5222 - acc: 0.15 - ETA: 55s - loss: 3.5229 - acc: 0.15 - ETA: 53s - loss: 3.5210 - acc: 0.15 - ETA: 51s - loss: 3.5225 - acc: 0.15 - ETA: 49s - loss: 3.5226 - acc: 0.15 - ETA: 48s - loss: 3.5270 - acc: 0.15 - ETA: 46s - loss: 3.5311 - acc: 0.15 - ETA: 44s - loss: 3.5268 - acc: 0.15 - ETA: 42s - loss: 3.5210 - acc: 0.15 - ETA: 40s - loss: 3.5181 - acc: 0.15 - ETA: 39s - loss: 3.5162 - acc: 0.15 - ETA: 37s - loss: 3.5206 - acc: 0.15 - ETA: 35s - loss: 3.5195 - acc: 0.15 - ETA: 33s - loss: 3.5204 - acc: 0.15 - ETA: 32s - loss: 3.5199 - acc: 0.15 - ETA: 30s - loss: 3.5211 - acc: 0.15 - ETA: 28s - loss: 3.5175 - acc: 0.15 - ETA: 26s - loss: 3.5167 - acc: 0.15 - ETA: 24s - loss: 3.5165 - acc: 0.15 - ETA: 23s - loss: 3.5151 - acc: 0.15 - ETA: 21s - loss: 3.5135 - acc: 0.15 - ETA: 19s - loss: 3.5184 - acc: 0.15 - ETA: 17s - loss: 3.5175 - acc: 0.15 - ETA: 16s - loss: 3.5154 - acc: 0.15 - ETA: 14s - loss: 3.5173 - acc: 0.15 - ETA: 12s - loss: 3.5191 - acc: 0.15 - ETA: 10s - loss: 3.5157 - acc: 0.15 - ETA: 8s - loss: 3.5140 - acc: 0.1535 - ETA: 7s - loss: 3.5168 - acc: 0.152 - ETA: 5s - loss: 3.5191 - acc: 0.152 - ETA: 3s - loss: 3.5208 - acc: 0.152 - ETA: 1s - loss: 3.5185 - acc: 0.152 - 246s 2s/step - loss: 3.5168 - acc: 0.1519 - val_loss: 3.5939 - val_acc: 0.1485\n",
      "\n",
      "Epoch 00007: val_loss improved from 3.65587 to 3.59394, saving model to saved_models/weights.best.from_scratch.hdf5\n",
      "Epoch 8/10\n",
      "133/133 [==============================] - ETA: 3:43 - loss: 3.4307 - acc: 0.100 - ETA: 3:43 - loss: 3.3695 - acc: 0.140 - ETA: 3:39 - loss: 3.5056 - acc: 0.120 - ETA: 3:38 - loss: 3.4306 - acc: 0.155 - ETA: 3:38 - loss: 3.4523 - acc: 0.156 - ETA: 3:36 - loss: 3.4661 - acc: 0.173 - ETA: 3:35 - loss: 3.5180 - acc: 0.180 - ETA: 3:35 - loss: 3.5243 - acc: 0.182 - ETA: 3:34 - loss: 3.5137 - acc: 0.175 - ETA: 3:33 - loss: 3.4900 - acc: 0.184 - ETA: 3:32 - loss: 3.4687 - acc: 0.178 - ETA: 3:31 - loss: 3.4565 - acc: 0.173 - ETA: 3:30 - loss: 3.4403 - acc: 0.170 - ETA: 3:29 - loss: 3.4210 - acc: 0.170 - ETA: 3:27 - loss: 3.4270 - acc: 0.172 - ETA: 3:26 - loss: 3.4567 - acc: 0.166 - ETA: 3:24 - loss: 3.4495 - acc: 0.167 - ETA: 3:23 - loss: 3.4411 - acc: 0.167 - ETA: 3:21 - loss: 3.4258 - acc: 0.166 - ETA: 3:20 - loss: 3.4188 - acc: 0.164 - ETA: 3:18 - loss: 3.4357 - acc: 0.161 - ETA: 3:16 - loss: 3.4454 - acc: 0.158 - ETA: 3:15 - loss: 3.4629 - acc: 0.156 - ETA: 3:13 - loss: 3.4785 - acc: 0.156 - ETA: 3:11 - loss: 3.4793 - acc: 0.154 - ETA: 3:10 - loss: 3.4773 - acc: 0.155 - ETA: 3:08 - loss: 3.4792 - acc: 0.155 - ETA: 3:06 - loss: 3.4816 - acc: 0.155 - ETA: 3:04 - loss: 3.4741 - acc: 0.155 - ETA: 3:03 - loss: 3.4819 - acc: 0.153 - ETA: 3:01 - loss: 3.4812 - acc: 0.155 - ETA: 2:59 - loss: 3.4819 - acc: 0.155 - ETA: 2:58 - loss: 3.4762 - acc: 0.155 - ETA: 2:56 - loss: 3.4915 - acc: 0.151 - ETA: 2:54 - loss: 3.4956 - acc: 0.153 - ETA: 2:52 - loss: 3.4885 - acc: 0.154 - ETA: 2:50 - loss: 3.4901 - acc: 0.152 - ETA: 2:49 - loss: 3.4893 - acc: 0.152 - ETA: 2:47 - loss: 3.4936 - acc: 0.151 - ETA: 2:45 - loss: 3.4950 - acc: 0.151 - ETA: 2:43 - loss: 3.4901 - acc: 0.151 - ETA: 2:41 - loss: 3.4910 - acc: 0.151 - ETA: 2:40 - loss: 3.5020 - acc: 0.149 - ETA: 2:38 - loss: 3.4967 - acc: 0.150 - ETA: 2:36 - loss: 3.4949 - acc: 0.150 - ETA: 2:34 - loss: 3.4943 - acc: 0.149 - ETA: 2:32 - loss: 3.4922 - acc: 0.150 - ETA: 2:31 - loss: 3.4909 - acc: 0.149 - ETA: 2:29 - loss: 3.4946 - acc: 0.149 - ETA: 2:27 - loss: 3.5005 - acc: 0.147 - ETA: 2:25 - loss: 3.5017 - acc: 0.146 - ETA: 2:24 - loss: 3.4981 - acc: 0.147 - ETA: 2:22 - loss: 3.4969 - acc: 0.147 - ETA: 2:20 - loss: 3.4950 - acc: 0.146 - ETA: 2:18 - loss: 3.5002 - acc: 0.146 - ETA: 2:16 - loss: 3.4996 - acc: 0.146 - ETA: 2:15 - loss: 3.4960 - acc: 0.146 - ETA: 2:13 - loss: 3.4946 - acc: 0.145 - ETA: 2:11 - loss: 3.4928 - acc: 0.145 - ETA: 2:09 - loss: 3.4885 - acc: 0.146 - ETA: 2:08 - loss: 3.4933 - acc: 0.146 - ETA: 2:06 - loss: 3.4881 - acc: 0.148 - ETA: 2:04 - loss: 3.4870 - acc: 0.149 - ETA: 2:02 - loss: 3.4901 - acc: 0.149 - ETA: 2:00 - loss: 3.4927 - acc: 0.149 - ETA: 1:59 - loss: 3.4909 - acc: 0.149 - ETA: 1:57 - loss: 3.4847 - acc: 0.150 - ETA: 1:55 - loss: 3.4806 - acc: 0.151 - ETA: 1:53 - loss: 3.4813 - acc: 0.151 - ETA: 1:52 - loss: 3.4788 - acc: 0.151 - ETA: 1:50 - loss: 3.4782 - acc: 0.151 - ETA: 1:48 - loss: 3.4800 - acc: 0.150 - ETA: 1:46 - loss: 3.4804 - acc: 0.150 - ETA: 1:45 - loss: 3.4850 - acc: 0.150 - ETA: 1:43 - loss: 3.4827 - acc: 0.150 - ETA: 1:41 - loss: 3.4848 - acc: 0.150 - ETA: 1:39 - loss: 3.4838 - acc: 0.149 - ETA: 1:37 - loss: 3.4822 - acc: 0.150 - ETA: 1:36 - loss: 3.4781 - acc: 0.151 - ETA: 1:34 - loss: 3.4769 - acc: 0.151 - ETA: 1:32 - loss: 3.4740 - acc: 0.153 - ETA: 1:30 - loss: 3.4729 - acc: 0.154 - ETA: 1:28 - loss: 3.4685 - acc: 0.155 - ETA: 1:27 - loss: 3.4700 - acc: 0.154 - ETA: 1:25 - loss: 3.4699 - acc: 0.153 - ETA: 1:23 - loss: 3.4774 - acc: 0.152 - ETA: 1:21 - loss: 3.4754 - acc: 0.153 - ETA: 1:20 - loss: 3.4731 - acc: 0.154 - ETA: 1:18 - loss: 3.4717 - acc: 0.155 - ETA: 1:16 - loss: 3.4737 - acc: 0.154 - ETA: 1:14 - loss: 3.4736 - acc: 0.154 - ETA: 1:12 - loss: 3.4725 - acc: 0.154 - ETA: 1:11 - loss: 3.4732 - acc: 0.154 - ETA: 1:09 - loss: 3.4708 - acc: 0.154 - ETA: 1:07 - loss: 3.4700 - acc: 0.154 - ETA: 1:05 - loss: 3.4706 - acc: 0.154 - ETA: 1:04 - loss: 3.4717 - acc: 0.154 - ETA: 1:02 - loss: 3.4731 - acc: 0.154 - ETA: 1:00 - loss: 3.4745 - acc: 0.154 - ETA: 58s - loss: 3.4753 - acc: 0.155 - ETA: 56s - loss: 3.4745 - acc: 0.15 - ETA: 55s - loss: 3.4734 - acc: 0.15 - ETA: 53s - loss: 3.4697 - acc: 0.15 - ETA: 51s - loss: 3.4702 - acc: 0.15 - ETA: 49s - loss: 3.4698 - acc: 0.15 - ETA: 48s - loss: 3.4708 - acc: 0.15 - ETA: 46s - loss: 3.4729 - acc: 0.15 - ETA: 44s - loss: 3.4737 - acc: 0.15 - ETA: 42s - loss: 3.4747 - acc: 0.15 - ETA: 40s - loss: 3.4747 - acc: 0.15 - ETA: 39s - loss: 3.4732 - acc: 0.15 - ETA: 37s - loss: 3.4754 - acc: 0.15 - ETA: 35s - loss: 3.4783 - acc: 0.15 - ETA: 33s - loss: 3.4816 - acc: 0.15 - ETA: 31s - loss: 3.4856 - acc: 0.15 - ETA: 30s - loss: 3.4835 - acc: 0.15 - ETA: 28s - loss: 3.4846 - acc: 0.15 - ETA: 26s - loss: 3.4853 - acc: 0.15 - ETA: 24s - loss: 3.4870 - acc: 0.15 - ETA: 23s - loss: 3.4852 - acc: 0.15 - ETA: 21s - loss: 3.4811 - acc: 0.15 - ETA: 19s - loss: 3.4833 - acc: 0.15 - ETA: 17s - loss: 3.4825 - acc: 0.15 - ETA: 15s - loss: 3.4841 - acc: 0.15 - ETA: 14s - loss: 3.4840 - acc: 0.15 - ETA: 12s - loss: 3.4837 - acc: 0.15 - ETA: 10s - loss: 3.4846 - acc: 0.15 - ETA: 8s - loss: 3.4831 - acc: 0.1530 - ETA: 7s - loss: 3.4819 - acc: 0.152 - ETA: 5s - loss: 3.4802 - acc: 0.153 - ETA: 3s - loss: 3.4766 - acc: 0.153 - ETA: 1s - loss: 3.4768 - acc: 0.153 - 247s 2s/step - loss: 3.4768 - acc: 0.1537 - val_loss: 3.5957 - val_acc: 0.1293\n",
      "\n",
      "Epoch 00008: val_loss did not improve\n",
      "Epoch 9/10\n"
     ]
    },
    {
     "name": "stdout",
     "output_type": "stream",
     "text": [
      "133/133 [==============================] - ETA: 4:10 - loss: 3.5881 - acc: 0.100 - ETA: 4:03 - loss: 3.5094 - acc: 0.120 - ETA: 3:59 - loss: 3.5405 - acc: 0.133 - ETA: 3:57 - loss: 3.5186 - acc: 0.150 - ETA: 3:57 - loss: 3.5138 - acc: 0.140 - ETA: 3:55 - loss: 3.5211 - acc: 0.133 - ETA: 3:52 - loss: 3.5038 - acc: 0.131 - ETA: 3:51 - loss: 3.4806 - acc: 0.140 - ETA: 3:50 - loss: 3.4532 - acc: 0.146 - ETA: 3:49 - loss: 3.4634 - acc: 0.152 - ETA: 3:48 - loss: 3.4720 - acc: 0.145 - ETA: 3:46 - loss: 3.4661 - acc: 0.146 - ETA: 3:45 - loss: 3.4541 - acc: 0.149 - ETA: 3:43 - loss: 3.4663 - acc: 0.147 - ETA: 3:42 - loss: 3.4514 - acc: 0.152 - ETA: 3:40 - loss: 3.4341 - acc: 0.155 - ETA: 3:38 - loss: 3.4326 - acc: 0.161 - ETA: 3:37 - loss: 3.4290 - acc: 0.160 - ETA: 3:35 - loss: 3.4435 - acc: 0.156 - ETA: 3:33 - loss: 3.4481 - acc: 0.156 - ETA: 3:32 - loss: 3.4320 - acc: 0.159 - ETA: 3:30 - loss: 3.4583 - acc: 0.157 - ETA: 3:28 - loss: 3.4586 - acc: 0.156 - ETA: 3:26 - loss: 3.4560 - acc: 0.158 - ETA: 3:25 - loss: 3.4632 - acc: 0.156 - ETA: 3:23 - loss: 3.4663 - acc: 0.158 - ETA: 3:21 - loss: 3.4577 - acc: 0.158 - ETA: 3:19 - loss: 3.4528 - acc: 0.160 - ETA: 3:18 - loss: 3.4512 - acc: 0.160 - ETA: 3:16 - loss: 3.4459 - acc: 0.162 - ETA: 3:14 - loss: 3.4541 - acc: 0.161 - ETA: 3:12 - loss: 3.4600 - acc: 0.160 - ETA: 3:10 - loss: 3.4646 - acc: 0.159 - ETA: 3:08 - loss: 3.4559 - acc: 0.159 - ETA: 3:06 - loss: 3.4530 - acc: 0.159 - ETA: 3:05 - loss: 3.4454 - acc: 0.160 - ETA: 3:03 - loss: 3.4442 - acc: 0.158 - ETA: 3:01 - loss: 3.4411 - acc: 0.159 - ETA: 2:59 - loss: 3.4486 - acc: 0.160 - ETA: 2:57 - loss: 3.4548 - acc: 0.160 - ETA: 2:55 - loss: 3.4543 - acc: 0.159 - ETA: 2:54 - loss: 3.4570 - acc: 0.159 - ETA: 2:52 - loss: 3.4541 - acc: 0.159 - ETA: 2:50 - loss: 3.4565 - acc: 0.160 - ETA: 2:48 - loss: 3.4501 - acc: 0.160 - ETA: 2:46 - loss: 3.4500 - acc: 0.160 - ETA: 2:44 - loss: 3.4585 - acc: 0.159 - ETA: 2:42 - loss: 3.4569 - acc: 0.159 - ETA: 2:40 - loss: 3.4576 - acc: 0.160 - ETA: 2:38 - loss: 3.4560 - acc: 0.160 - ETA: 2:37 - loss: 3.4585 - acc: 0.160 - ETA: 2:35 - loss: 3.4569 - acc: 0.161 - ETA: 2:33 - loss: 3.4578 - acc: 0.160 - ETA: 2:31 - loss: 3.4591 - acc: 0.159 - ETA: 2:29 - loss: 3.4638 - acc: 0.160 - ETA: 2:27 - loss: 3.4647 - acc: 0.158 - ETA: 2:25 - loss: 3.4588 - acc: 0.161 - ETA: 2:23 - loss: 3.4537 - acc: 0.161 - ETA: 2:21 - loss: 3.4529 - acc: 0.160 - ETA: 2:19 - loss: 3.4543 - acc: 0.159 - ETA: 2:18 - loss: 3.4617 - acc: 0.158 - ETA: 2:16 - loss: 3.4594 - acc: 0.159 - ETA: 2:14 - loss: 3.4564 - acc: 0.159 - ETA: 2:12 - loss: 3.4528 - acc: 0.160 - ETA: 2:10 - loss: 3.4585 - acc: 0.158 - ETA: 2:08 - loss: 3.4531 - acc: 0.161 - ETA: 2:06 - loss: 3.4524 - acc: 0.161 - ETA: 2:04 - loss: 3.4547 - acc: 0.161 - ETA: 2:02 - loss: 3.4552 - acc: 0.160 - ETA: 2:00 - loss: 3.4574 - acc: 0.161 - ETA: 1:59 - loss: 3.4583 - acc: 0.161 - ETA: 1:57 - loss: 3.4595 - acc: 0.160 - ETA: 1:55 - loss: 3.4572 - acc: 0.161 - ETA: 1:53 - loss: 3.4568 - acc: 0.160 - ETA: 1:51 - loss: 3.4544 - acc: 0.161 - ETA: 1:49 - loss: 3.4544 - acc: 0.161 - ETA: 1:47 - loss: 3.4559 - acc: 0.160 - ETA: 1:45 - loss: 3.4544 - acc: 0.161 - ETA: 1:43 - loss: 3.4529 - acc: 0.161 - ETA: 1:41 - loss: 3.4505 - acc: 0.161 - ETA: 1:39 - loss: 3.4459 - acc: 0.161 - ETA: 1:37 - loss: 3.4405 - acc: 0.163 - ETA: 1:36 - loss: 3.4435 - acc: 0.162 - ETA: 1:34 - loss: 3.4433 - acc: 0.161 - ETA: 1:32 - loss: 3.4468 - acc: 0.161 - ETA: 1:30 - loss: 3.4481 - acc: 0.160 - ETA: 1:28 - loss: 3.4483 - acc: 0.160 - ETA: 1:26 - loss: 3.4494 - acc: 0.159 - ETA: 1:24 - loss: 3.4482 - acc: 0.158 - ETA: 1:22 - loss: 3.4426 - acc: 0.159 - ETA: 1:20 - loss: 3.4425 - acc: 0.159 - ETA: 1:18 - loss: 3.4413 - acc: 0.159 - ETA: 1:17 - loss: 3.4374 - acc: 0.160 - ETA: 1:15 - loss: 3.4382 - acc: 0.160 - ETA: 1:13 - loss: 3.4398 - acc: 0.160 - ETA: 1:11 - loss: 3.4409 - acc: 0.160 - ETA: 1:09 - loss: 3.4408 - acc: 0.159 - ETA: 1:07 - loss: 3.4382 - acc: 0.160 - ETA: 1:05 - loss: 3.4388 - acc: 0.160 - ETA: 1:03 - loss: 3.4404 - acc: 0.160 - ETA: 1:01 - loss: 3.4395 - acc: 0.161 - ETA: 59s - loss: 3.4397 - acc: 0.160 - ETA: 57s - loss: 3.4401 - acc: 0.16 - ETA: 55s - loss: 3.4423 - acc: 0.15 - ETA: 53s - loss: 3.4433 - acc: 0.15 - ETA: 52s - loss: 3.4451 - acc: 0.15 - ETA: 50s - loss: 3.4428 - acc: 0.16 - ETA: 48s - loss: 3.4430 - acc: 0.16 - ETA: 46s - loss: 3.4430 - acc: 0.16 - ETA: 44s - loss: 3.4421 - acc: 0.16 - ETA: 42s - loss: 3.4400 - acc: 0.16 - ETA: 40s - loss: 3.4401 - acc: 0.16 - ETA: 38s - loss: 3.4416 - acc: 0.16 - ETA: 36s - loss: 3.4407 - acc: 0.16 - ETA: 34s - loss: 3.4403 - acc: 0.16 - ETA: 32s - loss: 3.4395 - acc: 0.16 - ETA: 30s - loss: 3.4378 - acc: 0.16 - ETA: 28s - loss: 3.4382 - acc: 0.16 - ETA: 26s - loss: 3.4378 - acc: 0.16 - ETA: 24s - loss: 3.4352 - acc: 0.16 - ETA: 23s - loss: 3.4352 - acc: 0.16 - ETA: 21s - loss: 3.4339 - acc: 0.16 - ETA: 19s - loss: 3.4366 - acc: 0.15 - ETA: 17s - loss: 3.4380 - acc: 0.15 - ETA: 15s - loss: 3.4413 - acc: 0.15 - ETA: 13s - loss: 3.4430 - acc: 0.15 - ETA: 11s - loss: 3.4414 - acc: 0.15 - ETA: 9s - loss: 3.4389 - acc: 0.1599 - ETA: 7s - loss: 3.4386 - acc: 0.160 - ETA: 5s - loss: 3.4390 - acc: 0.159 - ETA: 3s - loss: 3.4397 - acc: 0.159 - ETA: 1s - loss: 3.4377 - acc: 0.159 - 265s 2s/step - loss: 3.4391 - acc: 0.1590 - val_loss: 3.6733 - val_acc: 0.1174\n",
      "\n",
      "Epoch 00009: val_loss did not improve\n",
      "Epoch 10/10\n",
      "133/133 [==============================] - ETA: 4:05 - loss: 3.4195 - acc: 0.120 - ETA: 4:03 - loss: 3.3709 - acc: 0.120 - ETA: 4:03 - loss: 3.3824 - acc: 0.133 - ETA: 4:00 - loss: 3.3601 - acc: 0.140 - ETA: 3:59 - loss: 3.3791 - acc: 0.140 - ETA: 3:57 - loss: 3.4102 - acc: 0.143 - ETA: 3:56 - loss: 3.4062 - acc: 0.140 - ETA: 3:52 - loss: 3.3971 - acc: 0.142 - ETA: 3:51 - loss: 3.4212 - acc: 0.135 - ETA: 3:49 - loss: 3.4334 - acc: 0.134 - ETA: 3:48 - loss: 3.4089 - acc: 0.132 - ETA: 3:46 - loss: 3.3987 - acc: 0.133 - ETA: 3:45 - loss: 3.4159 - acc: 0.129 - ETA: 3:44 - loss: 3.4484 - acc: 0.131 - ETA: 3:42 - loss: 3.4553 - acc: 0.134 - ETA: 3:40 - loss: 3.4406 - acc: 0.142 - ETA: 3:39 - loss: 3.4382 - acc: 0.147 - ETA: 3:37 - loss: 3.4362 - acc: 0.148 - ETA: 3:35 - loss: 3.4481 - acc: 0.144 - ETA: 3:33 - loss: 3.4424 - acc: 0.146 - ETA: 3:31 - loss: 3.4401 - acc: 0.149 - ETA: 3:30 - loss: 3.4314 - acc: 0.152 - ETA: 3:28 - loss: 3.4240 - acc: 0.155 - ETA: 3:26 - loss: 3.4299 - acc: 0.155 - ETA: 3:24 - loss: 3.4299 - acc: 0.155 - ETA: 3:22 - loss: 3.4273 - acc: 0.157 - ETA: 3:20 - loss: 3.4331 - acc: 0.156 - ETA: 3:18 - loss: 3.4295 - acc: 0.157 - ETA: 3:16 - loss: 3.4294 - acc: 0.156 - ETA: 3:15 - loss: 3.4307 - acc: 0.159 - ETA: 3:13 - loss: 3.4308 - acc: 0.162 - ETA: 3:11 - loss: 3.4312 - acc: 0.165 - ETA: 3:09 - loss: 3.4270 - acc: 0.167 - ETA: 3:07 - loss: 3.4185 - acc: 0.165 - ETA: 3:06 - loss: 3.4370 - acc: 0.163 - ETA: 3:04 - loss: 3.4325 - acc: 0.164 - ETA: 3:02 - loss: 3.4324 - acc: 0.165 - ETA: 3:00 - loss: 3.4317 - acc: 0.165 - ETA: 2:58 - loss: 3.4361 - acc: 0.166 - ETA: 2:56 - loss: 3.4480 - acc: 0.164 - ETA: 2:54 - loss: 3.4437 - acc: 0.163 - ETA: 2:53 - loss: 3.4449 - acc: 0.162 - ETA: 2:51 - loss: 3.4372 - acc: 0.163 - ETA: 2:49 - loss: 3.4320 - acc: 0.163 - ETA: 2:47 - loss: 3.4272 - acc: 0.164 - ETA: 2:45 - loss: 3.4364 - acc: 0.163 - ETA: 2:43 - loss: 3.4370 - acc: 0.162 - ETA: 2:41 - loss: 3.4388 - acc: 0.161 - ETA: 2:40 - loss: 3.4438 - acc: 0.161 - ETA: 2:38 - loss: 3.4447 - acc: 0.162 - ETA: 2:36 - loss: 3.4401 - acc: 0.163 - ETA: 2:34 - loss: 3.4355 - acc: 0.166 - ETA: 2:32 - loss: 3.4328 - acc: 0.166 - ETA: 2:30 - loss: 3.4354 - acc: 0.166 - ETA: 2:28 - loss: 3.4410 - acc: 0.165 - ETA: 2:26 - loss: 3.4425 - acc: 0.163 - ETA: 2:25 - loss: 3.4410 - acc: 0.164 - ETA: 2:23 - loss: 3.4438 - acc: 0.162 - ETA: 2:21 - loss: 3.4390 - acc: 0.162 - ETA: 2:19 - loss: 3.4356 - acc: 0.162 - ETA: 2:17 - loss: 3.4392 - acc: 0.161 - ETA: 2:15 - loss: 3.4392 - acc: 0.161 - ETA: 2:13 - loss: 3.4385 - acc: 0.161 - ETA: 2:12 - loss: 3.4379 - acc: 0.161 - ETA: 2:10 - loss: 3.4420 - acc: 0.161 - ETA: 2:08 - loss: 3.4468 - acc: 0.161 - ETA: 2:06 - loss: 3.4462 - acc: 0.160 - ETA: 2:04 - loss: 3.4426 - acc: 0.162 - ETA: 2:02 - loss: 3.4427 - acc: 0.162 - ETA: 2:00 - loss: 3.4393 - acc: 0.162 - ETA: 1:58 - loss: 3.4357 - acc: 0.163 - ETA: 1:56 - loss: 3.4369 - acc: 0.162 - ETA: 1:54 - loss: 3.4357 - acc: 0.161 - ETA: 1:53 - loss: 3.4384 - acc: 0.161 - ETA: 1:51 - loss: 3.4394 - acc: 0.160 - ETA: 1:49 - loss: 3.4413 - acc: 0.160 - ETA: 1:47 - loss: 3.4425 - acc: 0.160 - ETA: 1:45 - loss: 3.4449 - acc: 0.160 - ETA: 1:43 - loss: 3.4493 - acc: 0.159 - ETA: 1:41 - loss: 3.4462 - acc: 0.160 - ETA: 1:39 - loss: 3.4446 - acc: 0.160 - ETA: 1:37 - loss: 3.4417 - acc: 0.161 - ETA: 1:35 - loss: 3.4397 - acc: 0.163 - ETA: 1:33 - loss: 3.4363 - acc: 0.163 - ETA: 1:31 - loss: 3.4352 - acc: 0.163 - ETA: 1:30 - loss: 3.4302 - acc: 0.164 - ETA: 1:28 - loss: 3.4297 - acc: 0.165 - ETA: 1:26 - loss: 3.4324 - acc: 0.164 - ETA: 1:24 - loss: 3.4327 - acc: 0.164 - ETA: 1:22 - loss: 3.4333 - acc: 0.164 - ETA: 1:20 - loss: 3.4336 - acc: 0.164 - ETA: 1:18 - loss: 3.4319 - acc: 0.165 - ETA: 1:16 - loss: 3.4338 - acc: 0.166 - ETA: 1:14 - loss: 3.4308 - acc: 0.167 - ETA: 1:12 - loss: 3.4297 - acc: 0.167 - ETA: 1:10 - loss: 3.4245 - acc: 0.168 - ETA: 1:09 - loss: 3.4270 - acc: 0.168 - ETA: 1:07 - loss: 3.4325 - acc: 0.168 - ETA: 1:05 - loss: 3.4334 - acc: 0.167 - ETA: 1:03 - loss: 3.4333 - acc: 0.166 - ETA: 1:01 - loss: 3.4335 - acc: 0.167 - ETA: 59s - loss: 3.4342 - acc: 0.166 - ETA: 57s - loss: 3.4302 - acc: 0.16 - ETA: 55s - loss: 3.4303 - acc: 0.16 - ETA: 53s - loss: 3.4303 - acc: 0.16 - ETA: 51s - loss: 3.4296 - acc: 0.16 - ETA: 49s - loss: 3.4270 - acc: 0.16 - ETA: 48s - loss: 3.4300 - acc: 0.16 - ETA: 46s - loss: 3.4315 - acc: 0.16 - ETA: 44s - loss: 3.4316 - acc: 0.16 - ETA: 42s - loss: 3.4315 - acc: 0.16 - ETA: 40s - loss: 3.4310 - acc: 0.16 - ETA: 38s - loss: 3.4301 - acc: 0.16 - ETA: 36s - loss: 3.4259 - acc: 0.16 - ETA: 34s - loss: 3.4252 - acc: 0.16 - ETA: 32s - loss: 3.4249 - acc: 0.16 - ETA: 30s - loss: 3.4247 - acc: 0.16 - ETA: 28s - loss: 3.4224 - acc: 0.16 - ETA: 26s - loss: 3.4257 - acc: 0.16 - ETA: 24s - loss: 3.4250 - acc: 0.16 - ETA: 22s - loss: 3.4222 - acc: 0.16 - ETA: 21s - loss: 3.4175 - acc: 0.16 - ETA: 19s - loss: 3.4208 - acc: 0.16 - ETA: 17s - loss: 3.4216 - acc: 0.16 - ETA: 15s - loss: 3.4218 - acc: 0.16 - ETA: 13s - loss: 3.4211 - acc: 0.16 - ETA: 11s - loss: 3.4231 - acc: 0.16 - ETA: 9s - loss: 3.4244 - acc: 0.1665 - ETA: 7s - loss: 3.4286 - acc: 0.165 - ETA: 5s - loss: 3.4296 - acc: 0.166 - ETA: 3s - loss: 3.4288 - acc: 0.166 - ETA: 1s - loss: 3.4283 - acc: 0.166 - 265s 2s/step - loss: 3.4291 - acc: 0.1659 - val_loss: 3.4776 - val_acc: 0.1353\n",
      "\n",
      "Epoch 00010: val_loss improved from 3.59394 to 3.47763, saving model to saved_models/weights.best.from_scratch.hdf5\n"
     ]
    },
    {
     "data": {
      "text/plain": [
       "<keras.callbacks.History at 0x3fc7386710>"
      ]
     },
     "execution_count": 301,
     "metadata": {},
     "output_type": "execute_result"
    }
   ],
   "source": [
    "from keras.preprocessing.image import ImageDataGenerator\n",
    "from keras.callbacks import ModelCheckpoint  \n",
    "\n",
    "### TODO: specify the number of epochs that you would like to use to train the model.\n",
    "\n",
    "epochs = 10\n",
    "batch_size=50\n",
    "\n",
    "# augmented image generator\n",
    "datagen = ImageDataGenerator(\n",
    "    width_shift_range=0.2,  \n",
    "    height_shift_range=0.2, \n",
    "    horizontal_flip=True) \n",
    "\n",
    "# fit augmented image generator on data\n",
    "datagen.fit(train_tensors)\n",
    "\n",
    "### Do NOT modify the code below this line.\n",
    "\n",
    "checkpointer = ModelCheckpoint(filepath='saved_models/weights.best.from_scratch.hdf5', \n",
    "                               verbose=1, save_best_only=True)\n",
    "\n",
    "\n",
    "model.fit_generator(datagen.flow(train_tensors, train_targets, batch_size=batch_size),\n",
    "                    steps_per_epoch=train_tensors.shape[0] // batch_size,\n",
    "                    epochs=epochs, callbacks=[checkpointer], verbose=1,\n",
    "                   validation_data=(valid_tensors, valid_targets))"
   ]
  },
  {
   "cell_type": "markdown",
   "metadata": {},
   "source": [
    "### Load the Model with the Best Validation Loss"
   ]
  },
  {
   "cell_type": "code",
   "execution_count": 302,
   "metadata": {
    "collapsed": true
   },
   "outputs": [],
   "source": [
    "model.load_weights('saved_models/weights.best.from_scratch.hdf5')"
   ]
  },
  {
   "cell_type": "markdown",
   "metadata": {},
   "source": [
    "### Test the Model\n",
    "\n",
    "Try out your model on the test dataset of dog images.  Ensure that your test accuracy is greater than 1%."
   ]
  },
  {
   "cell_type": "code",
   "execution_count": 303,
   "metadata": {},
   "outputs": [
    {
     "name": "stdout",
     "output_type": "stream",
     "text": [
      "Test accuracy: 16.1483%\n"
     ]
    }
   ],
   "source": [
    "# get index of predicted dog breed for each image in test set\n",
    "dog_breed_predictions = [np.argmax(model.predict(np.expand_dims(tensor, axis=0))) for tensor in test_tensors]\n",
    "\n",
    "# report test accuracy\n",
    "test_accuracy = 100*np.sum(np.array(dog_breed_predictions)==np.argmax(test_targets, axis=1))/len(dog_breed_predictions)\n",
    "print('Test accuracy: %.4f%%' % test_accuracy)"
   ]
  },
  {
   "cell_type": "markdown",
   "metadata": {},
   "source": [
    "---\n",
    "<a id='step4'></a>\n",
    "## Step 4: Use a CNN to Classify Dog Breeds\n",
    "\n",
    "To reduce training time without sacrificing accuracy, we show you how to train a CNN using transfer learning.  In the following step, you will get a chance to use transfer learning to train your own CNN.\n",
    "\n",
    "### Obtain Bottleneck Features"
   ]
  },
  {
   "cell_type": "code",
   "execution_count": 306,
   "metadata": {
    "collapsed": true
   },
   "outputs": [],
   "source": [
    "bottleneck_features = np.load('bottleneck_features/DogVGG16Data.npz')\n",
    "train_VGG16 = bottleneck_features['train']\n",
    "valid_VGG16 = bottleneck_features['valid']\n",
    "test_VGG16 = bottleneck_features['test']"
   ]
  },
  {
   "cell_type": "markdown",
   "metadata": {},
   "source": [
    "### Model Architecture\n",
    "\n",
    "The model uses the the pre-trained VGG-16 model as a fixed feature extractor, where the last convolutional output of VGG-16 is fed as input to our model.  We only add a global average pooling layer and a fully connected layer, where the latter contains one node for each dog category and is equipped with a softmax."
   ]
  },
  {
   "cell_type": "code",
   "execution_count": 307,
   "metadata": {},
   "outputs": [
    {
     "name": "stdout",
     "output_type": "stream",
     "text": [
      "_________________________________________________________________\n",
      "Layer (type)                 Output Shape              Param #   \n",
      "=================================================================\n",
      "global_average_pooling2d_11  (None, 512)               0         \n",
      "_________________________________________________________________\n",
      "dense_77 (Dense)             (None, 133)               68229     \n",
      "=================================================================\n",
      "Total params: 68,229\n",
      "Trainable params: 68,229\n",
      "Non-trainable params: 0\n",
      "_________________________________________________________________\n"
     ]
    }
   ],
   "source": [
    "VGG16_model = Sequential()\n",
    "VGG16_model.add(GlobalAveragePooling2D(input_shape=train_VGG16.shape[1:]))\n",
    "VGG16_model.add(Dense(133, activation='softmax'))\n",
    "\n",
    "VGG16_model.summary()"
   ]
  },
  {
   "cell_type": "markdown",
   "metadata": {},
   "source": [
    "### Compile the Model"
   ]
  },
  {
   "cell_type": "code",
   "execution_count": 308,
   "metadata": {
    "collapsed": true
   },
   "outputs": [],
   "source": [
    "VGG16_model.compile(loss='categorical_crossentropy', optimizer='rmsprop', metrics=['accuracy'])"
   ]
  },
  {
   "cell_type": "markdown",
   "metadata": {},
   "source": [
    "### Train the Model"
   ]
  },
  {
   "cell_type": "code",
   "execution_count": 309,
   "metadata": {},
   "outputs": [
    {
     "name": "stdout",
     "output_type": "stream",
     "text": [
      "Train on 6680 samples, validate on 835 samples\n",
      "Epoch 1/20\n",
      "6680/6680 [==============================] - ETA: 1:01:40 - loss: 14.5766 - acc: 0.0000e+0 - ETA: 10:10 - loss: 15.0410 - acc: 0.0083      - ETA: 5:01 - loss: 14.6100 - acc: 0.012 - ETA: 3:18 - loss: 14.5841 - acc: 0.01 - ETA: 2:26 - loss: 14.4060 - acc: 0.02 - ETA: 1:55 - loss: 14.3660 - acc: 0.02 - ETA: 1:37 - loss: 14.2833 - acc: 0.02 - ETA: 1:22 - loss: 14.1196 - acc: 0.02 - ETA: 1:10 - loss: 14.0775 - acc: 0.02 - ETA: 1:01 - loss: 13.9369 - acc: 0.03 - ETA: 54s - loss: 13.8864 - acc: 0.0331 - ETA: 48s - loss: 13.8541 - acc: 0.033 - ETA: 43s - loss: 13.8086 - acc: 0.033 - ETA: 39s - loss: 13.7965 - acc: 0.035 - ETA: 35s - loss: 13.7515 - acc: 0.035 - ETA: 32s - loss: 13.6461 - acc: 0.039 - ETA: 30s - loss: 13.5563 - acc: 0.045 - ETA: 27s - loss: 13.5166 - acc: 0.047 - ETA: 25s - loss: 13.5088 - acc: 0.047 - ETA: 23s - loss: 13.4410 - acc: 0.050 - ETA: 22s - loss: 13.3393 - acc: 0.054 - ETA: 20s - loss: 13.2880 - acc: 0.054 - ETA: 19s - loss: 13.2114 - acc: 0.056 - ETA: 17s - loss: 13.1403 - acc: 0.059 - ETA: 16s - loss: 13.0620 - acc: 0.064 - ETA: 15s - loss: 13.0051 - acc: 0.068 - ETA: 14s - loss: 12.9644 - acc: 0.071 - ETA: 13s - loss: 12.8880 - acc: 0.076 - ETA: 12s - loss: 12.8329 - acc: 0.080 - ETA: 11s - loss: 12.7882 - acc: 0.083 - ETA: 11s - loss: 12.7179 - acc: 0.087 - ETA: 10s - loss: 12.6686 - acc: 0.088 - ETA: 9s - loss: 12.6169 - acc: 0.091 - ETA: 9s - loss: 12.5790 - acc: 0.09 - ETA: 8s - loss: 12.5534 - acc: 0.09 - ETA: 7s - loss: 12.4889 - acc: 0.10 - ETA: 7s - loss: 12.4769 - acc: 0.10 - ETA: 6s - loss: 12.4199 - acc: 0.10 - ETA: 6s - loss: 12.3719 - acc: 0.10 - ETA: 5s - loss: 12.3557 - acc: 0.10 - ETA: 5s - loss: 12.3404 - acc: 0.10 - ETA: 4s - loss: 12.2813 - acc: 0.11 - ETA: 4s - loss: 12.2767 - acc: 0.11 - ETA: 4s - loss: 12.2199 - acc: 0.11 - ETA: 3s - loss: 12.1646 - acc: 0.11 - ETA: 3s - loss: 12.1353 - acc: 0.12 - ETA: 2s - loss: 12.0986 - acc: 0.12 - ETA: 2s - loss: 12.0353 - acc: 0.12 - ETA: 2s - loss: 12.0141 - acc: 0.12 - ETA: 1s - loss: 11.9914 - acc: 0.13 - ETA: 1s - loss: 11.9726 - acc: 0.13 - ETA: 1s - loss: 11.9347 - acc: 0.13 - ETA: 1s - loss: 11.9157 - acc: 0.13 - ETA: 0s - loss: 11.8828 - acc: 0.13 - ETA: 0s - loss: 11.8595 - acc: 0.13 - ETA: 0s - loss: 11.8318 - acc: 0.14 - 15s 2ms/step - loss: 11.7947 - acc: 0.1430 - val_loss: 10.2855 - val_acc: 0.2371\n",
      "\n",
      "Epoch 00001: val_loss improved from inf to 10.28550, saving model to saved_models/weights.best.VGG16.hdf5\n",
      "Epoch 2/20\n",
      "6680/6680 [==============================] - ETA: 3s - loss: 12.0740 - acc: 0.25 - ETA: 3s - loss: 10.2495 - acc: 0.28 - ETA: 3s - loss: 9.9335 - acc: 0.3000 - ETA: 3s - loss: 10.0525 - acc: 0.28 - ETA: 3s - loss: 9.8795 - acc: 0.2913 - ETA: 3s - loss: 9.8718 - acc: 0.284 - ETA: 2s - loss: 9.8809 - acc: 0.289 - ETA: 2s - loss: 9.9106 - acc: 0.285 - ETA: 2s - loss: 9.8013 - acc: 0.293 - ETA: 2s - loss: 9.7508 - acc: 0.296 - ETA: 2s - loss: 9.8168 - acc: 0.293 - ETA: 2s - loss: 9.8493 - acc: 0.289 - ETA: 2s - loss: 9.8519 - acc: 0.287 - ETA: 2s - loss: 9.8425 - acc: 0.286 - ETA: 2s - loss: 9.8720 - acc: 0.288 - ETA: 2s - loss: 9.8302 - acc: 0.290 - ETA: 2s - loss: 9.7781 - acc: 0.295 - ETA: 2s - loss: 9.7030 - acc: 0.301 - ETA: 2s - loss: 9.7114 - acc: 0.299 - ETA: 2s - loss: 9.7397 - acc: 0.295 - ETA: 2s - loss: 9.7501 - acc: 0.294 - ETA: 2s - loss: 9.6853 - acc: 0.297 - ETA: 2s - loss: 9.7356 - acc: 0.294 - ETA: 2s - loss: 9.7325 - acc: 0.295 - ETA: 2s - loss: 9.7058 - acc: 0.297 - ETA: 1s - loss: 9.6426 - acc: 0.301 - ETA: 1s - loss: 9.6828 - acc: 0.299 - ETA: 1s - loss: 9.7015 - acc: 0.299 - ETA: 1s - loss: 9.7200 - acc: 0.298 - ETA: 1s - loss: 9.7453 - acc: 0.297 - ETA: 1s - loss: 9.7401 - acc: 0.298 - ETA: 1s - loss: 9.7199 - acc: 0.299 - ETA: 1s - loss: 9.7189 - acc: 0.299 - ETA: 1s - loss: 9.7390 - acc: 0.299 - ETA: 1s - loss: 9.7093 - acc: 0.300 - ETA: 1s - loss: 9.6930 - acc: 0.300 - ETA: 1s - loss: 9.6905 - acc: 0.299 - ETA: 1s - loss: 9.6827 - acc: 0.301 - ETA: 1s - loss: 9.7009 - acc: 0.300 - ETA: 1s - loss: 9.6899 - acc: 0.302 - ETA: 1s - loss: 9.6749 - acc: 0.303 - ETA: 0s - loss: 9.6429 - acc: 0.305 - ETA: 0s - loss: 9.6213 - acc: 0.306 - ETA: 0s - loss: 9.6151 - acc: 0.307 - ETA: 0s - loss: 9.6216 - acc: 0.307 - ETA: 0s - loss: 9.6193 - acc: 0.308 - ETA: 0s - loss: 9.5879 - acc: 0.309 - ETA: 0s - loss: 9.5962 - acc: 0.309 - ETA: 0s - loss: 9.6109 - acc: 0.308 - ETA: 0s - loss: 9.6122 - acc: 0.308 - ETA: 0s - loss: 9.6144 - acc: 0.308 - ETA: 0s - loss: 9.6165 - acc: 0.309 - ETA: 0s - loss: 9.6017 - acc: 0.309 - ETA: 0s - loss: 9.5833 - acc: 0.310 - ETA: 0s - loss: 9.5759 - acc: 0.311 - ETA: 0s - loss: 9.5872 - acc: 0.310 - ETA: 0s - loss: 9.5920 - acc: 0.310 - ETA: 0s - loss: 9.5967 - acc: 0.310 - 3s 490us/step - loss: 9.5762 - acc: 0.3112 - val_loss: 9.4420 - val_acc: 0.3042\n",
      "\n",
      "Epoch 00002: val_loss improved from 10.28550 to 9.44205, saving model to saved_models/weights.best.VGG16.hdf5\n",
      "Epoch 3/20\n",
      "6680/6680 [==============================] - ETA: 3s - loss: 6.1308 - acc: 0.350 - ETA: 3s - loss: 9.0487 - acc: 0.333 - ETA: 3s - loss: 8.6755 - acc: 0.377 - ETA: 3s - loss: 8.9326 - acc: 0.367 - ETA: 3s - loss: 9.2138 - acc: 0.356 - ETA: 3s - loss: 9.1449 - acc: 0.353 - ETA: 3s - loss: 8.8958 - acc: 0.371 - ETA: 2s - loss: 8.8811 - acc: 0.375 - ETA: 2s - loss: 9.0104 - acc: 0.367 - ETA: 2s - loss: 8.8739 - acc: 0.373 - ETA: 2s - loss: 9.0670 - acc: 0.361 - ETA: 2s - loss: 9.0586 - acc: 0.364 - ETA: 2s - loss: 9.0967 - acc: 0.358 - ETA: 2s - loss: 9.0464 - acc: 0.361 - ETA: 2s - loss: 9.0431 - acc: 0.363 - ETA: 2s - loss: 9.0813 - acc: 0.363 - ETA: 2s - loss: 9.2188 - acc: 0.354 - ETA: 2s - loss: 9.2179 - acc: 0.356 - ETA: 2s - loss: 9.2075 - acc: 0.355 - ETA: 2s - loss: 9.1549 - acc: 0.360 - ETA: 1s - loss: 9.2148 - acc: 0.356 - ETA: 1s - loss: 9.1538 - acc: 0.359 - ETA: 1s - loss: 9.0842 - acc: 0.363 - ETA: 1s - loss: 9.1237 - acc: 0.361 - ETA: 1s - loss: 9.1202 - acc: 0.362 - ETA: 1s - loss: 9.0703 - acc: 0.364 - ETA: 1s - loss: 9.0718 - acc: 0.365 - ETA: 1s - loss: 9.0836 - acc: 0.364 - ETA: 1s - loss: 9.0475 - acc: 0.365 - ETA: 1s - loss: 9.0535 - acc: 0.364 - ETA: 1s - loss: 9.0728 - acc: 0.363 - ETA: 1s - loss: 9.0835 - acc: 0.363 - ETA: 1s - loss: 9.0724 - acc: 0.364 - ETA: 1s - loss: 9.0481 - acc: 0.366 - ETA: 1s - loss: 9.0389 - acc: 0.366 - ETA: 1s - loss: 9.0194 - acc: 0.367 - ETA: 1s - loss: 9.0127 - acc: 0.368 - ETA: 1s - loss: 8.9765 - acc: 0.371 - ETA: 1s - loss: 9.0038 - acc: 0.370 - ETA: 0s - loss: 8.9944 - acc: 0.370 - ETA: 0s - loss: 8.9708 - acc: 0.371 - ETA: 0s - loss: 8.9779 - acc: 0.371 - ETA: 0s - loss: 8.9531 - acc: 0.372 - ETA: 0s - loss: 8.9645 - acc: 0.372 - ETA: 0s - loss: 8.9415 - acc: 0.373 - ETA: 0s - loss: 8.9386 - acc: 0.374 - ETA: 0s - loss: 8.9550 - acc: 0.373 - ETA: 0s - loss: 8.9552 - acc: 0.373 - ETA: 0s - loss: 8.9781 - acc: 0.372 - ETA: 0s - loss: 8.9557 - acc: 0.373 - ETA: 0s - loss: 8.9591 - acc: 0.373 - ETA: 0s - loss: 8.9332 - acc: 0.375 - ETA: 0s - loss: 8.9314 - acc: 0.375 - ETA: 0s - loss: 8.9380 - acc: 0.375 - ETA: 0s - loss: 8.9268 - acc: 0.375 - ETA: 0s - loss: 8.9136 - acc: 0.376 - ETA: 0s - loss: 8.9303 - acc: 0.375 - 3s 479us/step - loss: 8.9384 - acc: 0.3746 - val_loss: 9.2045 - val_acc: 0.3305\n",
      "\n",
      "Epoch 00003: val_loss improved from 9.44205 to 9.20452, saving model to saved_models/weights.best.VGG16.hdf5\n",
      "Epoch 4/20\n",
      "6680/6680 [==============================] - ETA: 3s - loss: 9.0913 - acc: 0.400 - ETA: 2s - loss: 8.8717 - acc: 0.400 - ETA: 2s - loss: 7.8370 - acc: 0.457 - ETA: 2s - loss: 8.1142 - acc: 0.447 - ETA: 2s - loss: 8.0932 - acc: 0.452 - ETA: 2s - loss: 8.0550 - acc: 0.445 - ETA: 2s - loss: 8.4529 - acc: 0.420 - ETA: 2s - loss: 8.5318 - acc: 0.414 - ETA: 2s - loss: 8.3820 - acc: 0.424 - ETA: 2s - loss: 8.3500 - acc: 0.425 - ETA: 2s - loss: 8.2820 - acc: 0.430 - ETA: 2s - loss: 8.4464 - acc: 0.420 - ETA: 2s - loss: 8.5329 - acc: 0.412 - ETA: 2s - loss: 8.4651 - acc: 0.417 - ETA: 2s - loss: 8.4328 - acc: 0.417 - ETA: 2s - loss: 8.3488 - acc: 0.421 - ETA: 2s - loss: 8.3985 - acc: 0.419 - ETA: 1s - loss: 8.4104 - acc: 0.417 - ETA: 1s - loss: 8.4088 - acc: 0.417 - ETA: 1s - loss: 8.4231 - acc: 0.416 - ETA: 1s - loss: 8.4692 - acc: 0.414 - ETA: 1s - loss: 8.4855 - acc: 0.414 - ETA: 1s - loss: 8.5445 - acc: 0.412 - ETA: 1s - loss: 8.5068 - acc: 0.415 - ETA: 1s - loss: 8.5379 - acc: 0.413 - ETA: 1s - loss: 8.5094 - acc: 0.415 - ETA: 1s - loss: 8.5297 - acc: 0.414 - ETA: 1s - loss: 8.4847 - acc: 0.415 - ETA: 1s - loss: 8.5604 - acc: 0.411 - ETA: 1s - loss: 8.5597 - acc: 0.411 - ETA: 1s - loss: 8.5659 - acc: 0.410 - ETA: 1s - loss: 8.5510 - acc: 0.411 - ETA: 1s - loss: 8.5306 - acc: 0.412 - ETA: 1s - loss: 8.5374 - acc: 0.412 - ETA: 1s - loss: 8.5457 - acc: 0.412 - ETA: 1s - loss: 8.5569 - acc: 0.411 - ETA: 0s - loss: 8.5287 - acc: 0.413 - ETA: 0s - loss: 8.5356 - acc: 0.412 - ETA: 0s - loss: 8.5526 - acc: 0.411 - ETA: 0s - loss: 8.5571 - acc: 0.411 - ETA: 0s - loss: 8.5128 - acc: 0.414 - ETA: 0s - loss: 8.5168 - acc: 0.413 - ETA: 0s - loss: 8.5391 - acc: 0.412 - ETA: 0s - loss: 8.4923 - acc: 0.414 - ETA: 0s - loss: 8.5126 - acc: 0.413 - ETA: 0s - loss: 8.5038 - acc: 0.413 - ETA: 0s - loss: 8.5130 - acc: 0.413 - ETA: 0s - loss: 8.5336 - acc: 0.411 - ETA: 0s - loss: 8.5371 - acc: 0.411 - ETA: 0s - loss: 8.5266 - acc: 0.412 - ETA: 0s - loss: 8.5062 - acc: 0.412 - ETA: 0s - loss: 8.4996 - acc: 0.413 - ETA: 0s - loss: 8.5022 - acc: 0.413 - ETA: 0s - loss: 8.4938 - acc: 0.413 - 3s 448us/step - loss: 8.4900 - acc: 0.4144 - val_loss: 8.9084 - val_acc: 0.3437\n",
      "\n",
      "Epoch 00004: val_loss improved from 9.20452 to 8.90843, saving model to saved_models/weights.best.VGG16.hdf5\n",
      "Epoch 5/20\n",
      "6680/6680 [==============================] - ETA: 3s - loss: 7.0410 - acc: 0.450 - ETA: 2s - loss: 8.6990 - acc: 0.392 - ETA: 2s - loss: 7.9769 - acc: 0.442 - ETA: 2s - loss: 8.0810 - acc: 0.432 - ETA: 2s - loss: 7.9345 - acc: 0.450 - ETA: 2s - loss: 7.9102 - acc: 0.456 - ETA: 2s - loss: 8.0296 - acc: 0.451 - ETA: 2s - loss: 7.9718 - acc: 0.454 - ETA: 2s - loss: 8.0387 - acc: 0.452 - ETA: 2s - loss: 8.0366 - acc: 0.447 - ETA: 2s - loss: 8.0362 - acc: 0.447 - ETA: 2s - loss: 8.1141 - acc: 0.443 - ETA: 2s - loss: 8.2154 - acc: 0.438 - ETA: 2s - loss: 8.1391 - acc: 0.444 - ETA: 2s - loss: 8.1512 - acc: 0.445 - ETA: 1s - loss: 8.0918 - acc: 0.450 - ETA: 1s - loss: 8.1467 - acc: 0.448 - ETA: 1s - loss: 8.2304 - acc: 0.442 - ETA: 1s - loss: 8.2352 - acc: 0.440 - ETA: 1s - loss: 8.2157 - acc: 0.441 - ETA: 1s - loss: 8.2343 - acc: 0.438 - ETA: 1s - loss: 8.2269 - acc: 0.440 - ETA: 1s - loss: 8.2330 - acc: 0.438 - ETA: 1s - loss: 8.2797 - acc: 0.435 - ETA: 1s - loss: 8.2806 - acc: 0.435 - ETA: 1s - loss: 8.3021 - acc: 0.434 - ETA: 1s - loss: 8.3142 - acc: 0.433 - ETA: 1s - loss: 8.2995 - acc: 0.433 - ETA: 1s - loss: 8.3069 - acc: 0.433 - ETA: 1s - loss: 8.2740 - acc: 0.435 - ETA: 1s - loss: 8.2599 - acc: 0.436 - ETA: 1s - loss: 8.2076 - acc: 0.440 - ETA: 1s - loss: 8.2363 - acc: 0.438 - ETA: 1s - loss: 8.2468 - acc: 0.438 - ETA: 0s - loss: 8.2177 - acc: 0.439 - ETA: 0s - loss: 8.2028 - acc: 0.441 - ETA: 0s - loss: 8.2107 - acc: 0.440 - ETA: 0s - loss: 8.1972 - acc: 0.441 - ETA: 0s - loss: 8.1935 - acc: 0.441 - ETA: 0s - loss: 8.1846 - acc: 0.441 - ETA: 0s - loss: 8.1853 - acc: 0.441 - ETA: 0s - loss: 8.1747 - acc: 0.441 - ETA: 0s - loss: 8.1810 - acc: 0.441 - ETA: 0s - loss: 8.1508 - acc: 0.442 - ETA: 0s - loss: 8.1607 - acc: 0.441 - ETA: 0s - loss: 8.1585 - acc: 0.441 - ETA: 0s - loss: 8.1440 - acc: 0.442 - ETA: 0s - loss: 8.1420 - acc: 0.443 - ETA: 0s - loss: 8.1253 - acc: 0.443 - ETA: 0s - loss: 8.1079 - acc: 0.444 - ETA: 0s - loss: 8.1132 - acc: 0.444 - ETA: 0s - loss: 8.1209 - acc: 0.444 - ETA: 0s - loss: 8.0963 - acc: 0.445 - 3s 446us/step - loss: 8.1031 - acc: 0.4455 - val_loss: 8.6430 - val_acc: 0.3653\n",
      "\n",
      "Epoch 00005: val_loss improved from 8.90843 to 8.64298, saving model to saved_models/weights.best.VGG16.hdf5\n",
      "Epoch 6/20\n",
      "6680/6680 [==============================] - ETA: 3s - loss: 8.1284 - acc: 0.400 - ETA: 2s - loss: 7.4980 - acc: 0.485 - ETA: 2s - loss: 7.3518 - acc: 0.507 - ETA: 2s - loss: 7.3058 - acc: 0.507 - ETA: 2s - loss: 7.5722 - acc: 0.486 - ETA: 2s - loss: 7.5729 - acc: 0.484 - ETA: 2s - loss: 7.6192 - acc: 0.480 - ETA: 2s - loss: 7.6381 - acc: 0.477 - ETA: 2s - loss: 7.7180 - acc: 0.471 - ETA: 2s - loss: 7.7282 - acc: 0.470 - ETA: 2s - loss: 7.7534 - acc: 0.471 - ETA: 2s - loss: 7.7640 - acc: 0.472 - ETA: 2s - loss: 7.7518 - acc: 0.473 - ETA: 2s - loss: 7.8686 - acc: 0.467 - ETA: 2s - loss: 7.8342 - acc: 0.468 - ETA: 2s - loss: 7.8287 - acc: 0.469 - ETA: 2s - loss: 7.8716 - acc: 0.466 - ETA: 2s - loss: 7.8456 - acc: 0.468 - ETA: 1s - loss: 7.8752 - acc: 0.466 - ETA: 1s - loss: 7.8243 - acc: 0.469 - ETA: 1s - loss: 7.8040 - acc: 0.471 - ETA: 1s - loss: 7.7605 - acc: 0.474 - ETA: 1s - loss: 7.7997 - acc: 0.471 - ETA: 1s - loss: 7.7574 - acc: 0.475 - ETA: 1s - loss: 7.7863 - acc: 0.473 - ETA: 1s - loss: 7.8041 - acc: 0.470 - ETA: 1s - loss: 7.7634 - acc: 0.473 - ETA: 1s - loss: 7.7961 - acc: 0.471 - ETA: 1s - loss: 7.8089 - acc: 0.470 - ETA: 1s - loss: 7.8127 - acc: 0.469 - ETA: 1s - loss: 7.7930 - acc: 0.470 - ETA: 1s - loss: 7.7954 - acc: 0.470 - ETA: 1s - loss: 7.8376 - acc: 0.468 - ETA: 1s - loss: 7.8451 - acc: 0.468 - ETA: 1s - loss: 7.8361 - acc: 0.468 - ETA: 1s - loss: 7.8346 - acc: 0.467 - ETA: 1s - loss: 7.8395 - acc: 0.466 - ETA: 0s - loss: 7.8277 - acc: 0.466 - ETA: 0s - loss: 7.8168 - acc: 0.466 - ETA: 0s - loss: 7.7809 - acc: 0.469 - ETA: 0s - loss: 7.7838 - acc: 0.468 - ETA: 0s - loss: 7.7761 - acc: 0.469 - ETA: 0s - loss: 7.7998 - acc: 0.467 - ETA: 0s - loss: 7.8026 - acc: 0.467 - ETA: 0s - loss: 7.7942 - acc: 0.468 - ETA: 0s - loss: 7.7891 - acc: 0.468 - ETA: 0s - loss: 7.7778 - acc: 0.468 - ETA: 0s - loss: 7.7885 - acc: 0.468 - ETA: 0s - loss: 7.7962 - acc: 0.468 - ETA: 0s - loss: 7.7695 - acc: 0.469 - ETA: 0s - loss: 7.7493 - acc: 0.469 - ETA: 0s - loss: 7.7205 - acc: 0.471 - ETA: 0s - loss: 7.7105 - acc: 0.471 - ETA: 0s - loss: 7.7190 - acc: 0.471 - ETA: 0s - loss: 7.7292 - acc: 0.470 - ETA: 0s - loss: 7.7459 - acc: 0.469 - 3s 467us/step - loss: 7.7454 - acc: 0.4696 - val_loss: 8.2461 - val_acc: 0.3892\n",
      "\n",
      "Epoch 00006: val_loss improved from 8.64298 to 8.24612, saving model to saved_models/weights.best.VGG16.hdf5\n",
      "Epoch 7/20\n"
     ]
    },
    {
     "name": "stdout",
     "output_type": "stream",
     "text": [
      "6680/6680 [==============================] - ETA: 3s - loss: 6.4475 - acc: 0.600 - ETA: 2s - loss: 7.0306 - acc: 0.514 - ETA: 2s - loss: 7.1700 - acc: 0.519 - ETA: 2s - loss: 7.4682 - acc: 0.497 - ETA: 2s - loss: 7.6069 - acc: 0.486 - ETA: 2s - loss: 7.5277 - acc: 0.491 - ETA: 2s - loss: 7.5605 - acc: 0.490 - ETA: 2s - loss: 7.5263 - acc: 0.495 - ETA: 2s - loss: 7.6303 - acc: 0.487 - ETA: 2s - loss: 7.6621 - acc: 0.487 - ETA: 2s - loss: 7.6082 - acc: 0.489 - ETA: 2s - loss: 7.5550 - acc: 0.491 - ETA: 2s - loss: 7.4967 - acc: 0.495 - ETA: 2s - loss: 7.4747 - acc: 0.496 - ETA: 2s - loss: 7.5193 - acc: 0.495 - ETA: 2s - loss: 7.5424 - acc: 0.494 - ETA: 2s - loss: 7.5024 - acc: 0.496 - ETA: 2s - loss: 7.5110 - acc: 0.496 - ETA: 1s - loss: 7.5431 - acc: 0.493 - ETA: 1s - loss: 7.5519 - acc: 0.493 - ETA: 1s - loss: 7.6210 - acc: 0.487 - ETA: 1s - loss: 7.5401 - acc: 0.493 - ETA: 1s - loss: 7.5650 - acc: 0.492 - ETA: 1s - loss: 7.5631 - acc: 0.491 - ETA: 1s - loss: 7.5571 - acc: 0.491 - ETA: 1s - loss: 7.5853 - acc: 0.489 - ETA: 1s - loss: 7.5841 - acc: 0.488 - ETA: 1s - loss: 7.5890 - acc: 0.488 - ETA: 1s - loss: 7.6037 - acc: 0.487 - ETA: 1s - loss: 7.6087 - acc: 0.486 - ETA: 1s - loss: 7.5955 - acc: 0.487 - ETA: 1s - loss: 7.5801 - acc: 0.488 - ETA: 1s - loss: 7.5608 - acc: 0.489 - ETA: 1s - loss: 7.5542 - acc: 0.488 - ETA: 1s - loss: 7.5594 - acc: 0.488 - ETA: 1s - loss: 7.5841 - acc: 0.486 - ETA: 1s - loss: 7.5995 - acc: 0.485 - ETA: 0s - loss: 7.5880 - acc: 0.485 - ETA: 0s - loss: 7.5928 - acc: 0.484 - ETA: 0s - loss: 7.5668 - acc: 0.486 - ETA: 0s - loss: 7.5708 - acc: 0.486 - ETA: 0s - loss: 7.5826 - acc: 0.485 - ETA: 0s - loss: 7.5723 - acc: 0.486 - ETA: 0s - loss: 7.5224 - acc: 0.489 - ETA: 0s - loss: 7.5243 - acc: 0.489 - ETA: 0s - loss: 7.5062 - acc: 0.490 - ETA: 0s - loss: 7.5007 - acc: 0.491 - ETA: 0s - loss: 7.5028 - acc: 0.492 - ETA: 0s - loss: 7.5013 - acc: 0.492 - ETA: 0s - loss: 7.4970 - acc: 0.492 - ETA: 0s - loss: 7.4842 - acc: 0.492 - ETA: 0s - loss: 7.4651 - acc: 0.493 - ETA: 0s - loss: 7.4746 - acc: 0.493 - ETA: 0s - loss: 7.4767 - acc: 0.492 - ETA: 0s - loss: 7.4883 - acc: 0.491 - 3s 455us/step - loss: 7.4691 - acc: 0.4922 - val_loss: 7.9589 - val_acc: 0.4084\n",
      "\n",
      "Epoch 00007: val_loss improved from 8.24612 to 7.95887, saving model to saved_models/weights.best.VGG16.hdf5\n",
      "Epoch 8/20\n",
      "6680/6680 [==============================] - ETA: 3s - loss: 4.9372 - acc: 0.650 - ETA: 2s - loss: 6.2319 - acc: 0.568 - ETA: 2s - loss: 7.1565 - acc: 0.503 - ETA: 2s - loss: 7.1590 - acc: 0.509 - ETA: 2s - loss: 6.8967 - acc: 0.530 - ETA: 2s - loss: 7.0554 - acc: 0.522 - ETA: 2s - loss: 7.0935 - acc: 0.522 - ETA: 2s - loss: 7.2246 - acc: 0.516 - ETA: 2s - loss: 7.1986 - acc: 0.513 - ETA: 2s - loss: 7.1700 - acc: 0.516 - ETA: 2s - loss: 7.1575 - acc: 0.516 - ETA: 2s - loss: 7.1537 - acc: 0.516 - ETA: 2s - loss: 7.1655 - acc: 0.515 - ETA: 2s - loss: 7.2237 - acc: 0.509 - ETA: 1s - loss: 7.3038 - acc: 0.505 - ETA: 1s - loss: 7.2680 - acc: 0.508 - ETA: 1s - loss: 7.3386 - acc: 0.505 - ETA: 1s - loss: 7.2775 - acc: 0.508 - ETA: 1s - loss: 7.3023 - acc: 0.507 - ETA: 1s - loss: 7.2941 - acc: 0.507 - ETA: 1s - loss: 7.2355 - acc: 0.511 - ETA: 1s - loss: 7.2685 - acc: 0.509 - ETA: 1s - loss: 7.2023 - acc: 0.512 - ETA: 1s - loss: 7.2511 - acc: 0.509 - ETA: 1s - loss: 7.2391 - acc: 0.511 - ETA: 1s - loss: 7.2465 - acc: 0.511 - ETA: 1s - loss: 7.2227 - acc: 0.512 - ETA: 1s - loss: 7.2241 - acc: 0.512 - ETA: 1s - loss: 7.2617 - acc: 0.511 - ETA: 1s - loss: 7.2320 - acc: 0.513 - ETA: 1s - loss: 7.2361 - acc: 0.513 - ETA: 1s - loss: 7.2171 - acc: 0.514 - ETA: 0s - loss: 7.2400 - acc: 0.513 - ETA: 0s - loss: 7.2500 - acc: 0.513 - ETA: 0s - loss: 7.2412 - acc: 0.514 - ETA: 0s - loss: 7.2190 - acc: 0.515 - ETA: 0s - loss: 7.2061 - acc: 0.516 - ETA: 0s - loss: 7.1721 - acc: 0.517 - ETA: 0s - loss: 7.1640 - acc: 0.517 - ETA: 0s - loss: 7.1728 - acc: 0.516 - ETA: 0s - loss: 7.1656 - acc: 0.516 - ETA: 0s - loss: 7.1638 - acc: 0.517 - ETA: 0s - loss: 7.1564 - acc: 0.518 - ETA: 0s - loss: 7.1400 - acc: 0.518 - ETA: 0s - loss: 7.1265 - acc: 0.519 - ETA: 0s - loss: 7.1266 - acc: 0.519 - ETA: 0s - loss: 7.1116 - acc: 0.519 - ETA: 0s - loss: 7.1400 - acc: 0.517 - ETA: 0s - loss: 7.1425 - acc: 0.517 - ETA: 0s - loss: 7.1517 - acc: 0.515 - ETA: 0s - loss: 7.1365 - acc: 0.517 - ETA: 0s - loss: 7.1367 - acc: 0.516 - 3s 438us/step - loss: 7.1397 - acc: 0.5165 - val_loss: 7.8317 - val_acc: 0.4311\n",
      "\n",
      "Epoch 00008: val_loss improved from 7.95887 to 7.83169, saving model to saved_models/weights.best.VGG16.hdf5\n",
      "Epoch 9/20\n",
      "6680/6680 [==============================] - ETA: 3s - loss: 6.5532 - acc: 0.550 - ETA: 2s - loss: 6.2918 - acc: 0.528 - ETA: 2s - loss: 6.3418 - acc: 0.553 - ETA: 2s - loss: 6.9495 - acc: 0.523 - ETA: 2s - loss: 7.3724 - acc: 0.496 - ETA: 2s - loss: 7.3571 - acc: 0.498 - ETA: 2s - loss: 7.2626 - acc: 0.508 - ETA: 2s - loss: 7.1745 - acc: 0.513 - ETA: 2s - loss: 7.1017 - acc: 0.517 - ETA: 2s - loss: 7.0841 - acc: 0.519 - ETA: 2s - loss: 7.2259 - acc: 0.512 - ETA: 2s - loss: 7.1933 - acc: 0.514 - ETA: 2s - loss: 7.1503 - acc: 0.515 - ETA: 2s - loss: 7.1424 - acc: 0.515 - ETA: 2s - loss: 7.1112 - acc: 0.520 - ETA: 2s - loss: 7.0760 - acc: 0.522 - ETA: 1s - loss: 7.0692 - acc: 0.522 - ETA: 1s - loss: 7.0034 - acc: 0.527 - ETA: 1s - loss: 7.0502 - acc: 0.525 - ETA: 1s - loss: 7.0396 - acc: 0.526 - ETA: 1s - loss: 7.0082 - acc: 0.529 - ETA: 1s - loss: 7.0747 - acc: 0.526 - ETA: 1s - loss: 7.0626 - acc: 0.527 - ETA: 1s - loss: 7.0422 - acc: 0.527 - ETA: 1s - loss: 7.0377 - acc: 0.527 - ETA: 1s - loss: 7.0303 - acc: 0.527 - ETA: 1s - loss: 6.9848 - acc: 0.530 - ETA: 1s - loss: 6.9532 - acc: 0.532 - ETA: 1s - loss: 6.9560 - acc: 0.533 - ETA: 1s - loss: 6.9548 - acc: 0.533 - ETA: 1s - loss: 6.9985 - acc: 0.530 - ETA: 1s - loss: 6.9885 - acc: 0.531 - ETA: 1s - loss: 6.9618 - acc: 0.533 - ETA: 1s - loss: 6.9515 - acc: 0.534 - ETA: 1s - loss: 6.9161 - acc: 0.536 - ETA: 0s - loss: 6.9121 - acc: 0.536 - ETA: 0s - loss: 6.8711 - acc: 0.538 - ETA: 0s - loss: 6.8617 - acc: 0.539 - ETA: 0s - loss: 6.8664 - acc: 0.538 - ETA: 0s - loss: 6.8576 - acc: 0.539 - ETA: 0s - loss: 6.8586 - acc: 0.539 - ETA: 0s - loss: 6.8815 - acc: 0.538 - ETA: 0s - loss: 6.9096 - acc: 0.535 - ETA: 0s - loss: 6.8757 - acc: 0.537 - ETA: 0s - loss: 6.8768 - acc: 0.538 - ETA: 0s - loss: 6.8797 - acc: 0.537 - ETA: 0s - loss: 6.9046 - acc: 0.535 - ETA: 0s - loss: 6.8903 - acc: 0.536 - ETA: 0s - loss: 6.8643 - acc: 0.537 - ETA: 0s - loss: 6.8677 - acc: 0.537 - ETA: 0s - loss: 6.8640 - acc: 0.536 - ETA: 0s - loss: 6.8554 - acc: 0.536 - ETA: 0s - loss: 6.8455 - acc: 0.537 - 3s 441us/step - loss: 6.8396 - acc: 0.5374 - val_loss: 7.3504 - val_acc: 0.4371\n",
      "\n",
      "Epoch 00009: val_loss improved from 7.83169 to 7.35039, saving model to saved_models/weights.best.VGG16.hdf5\n",
      "Epoch 10/20\n",
      "6680/6680 [==============================] - ETA: 3s - loss: 6.6064 - acc: 0.550 - ETA: 2s - loss: 6.1610 - acc: 0.578 - ETA: 2s - loss: 6.3152 - acc: 0.582 - ETA: 2s - loss: 6.3778 - acc: 0.577 - ETA: 2s - loss: 6.3794 - acc: 0.578 - ETA: 2s - loss: 6.3171 - acc: 0.584 - ETA: 2s - loss: 6.3546 - acc: 0.577 - ETA: 2s - loss: 6.4496 - acc: 0.573 - ETA: 2s - loss: 6.5529 - acc: 0.564 - ETA: 2s - loss: 6.4725 - acc: 0.568 - ETA: 2s - loss: 6.4780 - acc: 0.568 - ETA: 2s - loss: 6.5179 - acc: 0.566 - ETA: 2s - loss: 6.4803 - acc: 0.568 - ETA: 2s - loss: 6.3953 - acc: 0.574 - ETA: 2s - loss: 6.4499 - acc: 0.569 - ETA: 2s - loss: 6.4220 - acc: 0.571 - ETA: 1s - loss: 6.4468 - acc: 0.570 - ETA: 1s - loss: 6.4734 - acc: 0.569 - ETA: 1s - loss: 6.4438 - acc: 0.570 - ETA: 1s - loss: 6.4693 - acc: 0.568 - ETA: 1s - loss: 6.4178 - acc: 0.571 - ETA: 1s - loss: 6.3929 - acc: 0.572 - ETA: 1s - loss: 6.4424 - acc: 0.568 - ETA: 1s - loss: 6.4737 - acc: 0.565 - ETA: 1s - loss: 6.4847 - acc: 0.565 - ETA: 1s - loss: 6.4810 - acc: 0.564 - ETA: 1s - loss: 6.4597 - acc: 0.565 - ETA: 1s - loss: 6.4813 - acc: 0.565 - ETA: 1s - loss: 6.4738 - acc: 0.566 - ETA: 1s - loss: 6.4996 - acc: 0.563 - ETA: 1s - loss: 6.5366 - acc: 0.561 - ETA: 1s - loss: 6.5590 - acc: 0.559 - ETA: 1s - loss: 6.5590 - acc: 0.558 - ETA: 1s - loss: 6.5308 - acc: 0.559 - ETA: 1s - loss: 6.4789 - acc: 0.562 - ETA: 1s - loss: 6.4785 - acc: 0.562 - ETA: 0s - loss: 6.4487 - acc: 0.563 - ETA: 0s - loss: 6.4821 - acc: 0.561 - ETA: 0s - loss: 6.4913 - acc: 0.561 - ETA: 0s - loss: 6.5082 - acc: 0.560 - ETA: 0s - loss: 6.4899 - acc: 0.561 - ETA: 0s - loss: 6.4889 - acc: 0.561 - ETA: 0s - loss: 6.4866 - acc: 0.561 - ETA: 0s - loss: 6.4709 - acc: 0.562 - ETA: 0s - loss: 6.4637 - acc: 0.562 - ETA: 0s - loss: 6.4585 - acc: 0.562 - ETA: 0s - loss: 6.4566 - acc: 0.562 - ETA: 0s - loss: 6.4499 - acc: 0.562 - ETA: 0s - loss: 6.4445 - acc: 0.563 - ETA: 0s - loss: 6.4315 - acc: 0.564 - ETA: 0s - loss: 6.4517 - acc: 0.562 - ETA: 0s - loss: 6.4451 - acc: 0.563 - ETA: 0s - loss: 6.4482 - acc: 0.562 - ETA: 0s - loss: 6.4458 - acc: 0.563 - ETA: 0s - loss: 6.4555 - acc: 0.562 - 3s 446us/step - loss: 6.4584 - acc: 0.5620 - val_loss: 7.0560 - val_acc: 0.4551\n",
      "\n",
      "Epoch 00010: val_loss improved from 7.35039 to 7.05596, saving model to saved_models/weights.best.VGG16.hdf5\n",
      "Epoch 11/20\n",
      "6680/6680 [==============================] - ETA: 2s - loss: 4.8419 - acc: 0.700 - ETA: 2s - loss: 6.5945 - acc: 0.564 - ETA: 2s - loss: 6.7025 - acc: 0.553 - ETA: 2s - loss: 6.5398 - acc: 0.567 - ETA: 2s - loss: 6.2704 - acc: 0.581 - ETA: 2s - loss: 6.2999 - acc: 0.577 - ETA: 2s - loss: 6.2774 - acc: 0.578 - ETA: 2s - loss: 6.2862 - acc: 0.578 - ETA: 2s - loss: 6.2193 - acc: 0.581 - ETA: 2s - loss: 6.2360 - acc: 0.579 - ETA: 2s - loss: 6.2247 - acc: 0.580 - ETA: 2s - loss: 6.2848 - acc: 0.576 - ETA: 2s - loss: 6.1924 - acc: 0.582 - ETA: 2s - loss: 6.1647 - acc: 0.585 - ETA: 2s - loss: 6.2458 - acc: 0.581 - ETA: 1s - loss: 6.3163 - acc: 0.576 - ETA: 1s - loss: 6.2748 - acc: 0.578 - ETA: 1s - loss: 6.1355 - acc: 0.585 - ETA: 1s - loss: 6.1571 - acc: 0.585 - ETA: 1s - loss: 6.1823 - acc: 0.582 - ETA: 1s - loss: 6.1631 - acc: 0.583 - ETA: 1s - loss: 6.1263 - acc: 0.583 - ETA: 1s - loss: 6.1374 - acc: 0.582 - ETA: 1s - loss: 6.1340 - acc: 0.581 - ETA: 1s - loss: 6.1720 - acc: 0.579 - ETA: 1s - loss: 6.1773 - acc: 0.580 - ETA: 1s - loss: 6.1735 - acc: 0.579 - ETA: 1s - loss: 6.1653 - acc: 0.580 - ETA: 1s - loss: 6.1419 - acc: 0.581 - ETA: 1s - loss: 6.1431 - acc: 0.581 - ETA: 1s - loss: 6.1771 - acc: 0.578 - ETA: 1s - loss: 6.1612 - acc: 0.580 - ETA: 1s - loss: 6.1317 - acc: 0.581 - ETA: 1s - loss: 6.1316 - acc: 0.581 - ETA: 0s - loss: 6.1048 - acc: 0.583 - ETA: 0s - loss: 6.1019 - acc: 0.583 - ETA: 0s - loss: 6.0861 - acc: 0.583 - ETA: 0s - loss: 6.0804 - acc: 0.584 - ETA: 0s - loss: 6.0756 - acc: 0.583 - ETA: 0s - loss: 6.0586 - acc: 0.584 - ETA: 0s - loss: 6.0288 - acc: 0.586 - ETA: 0s - loss: 6.0582 - acc: 0.584 - ETA: 0s - loss: 6.0453 - acc: 0.584 - ETA: 0s - loss: 6.0468 - acc: 0.584 - ETA: 0s - loss: 6.0609 - acc: 0.584 - ETA: 0s - loss: 6.0676 - acc: 0.583 - ETA: 0s - loss: 6.0636 - acc: 0.583 - ETA: 0s - loss: 6.0538 - acc: 0.584 - ETA: 0s - loss: 6.0214 - acc: 0.585 - ETA: 0s - loss: 6.0203 - acc: 0.585 - ETA: 0s - loss: 5.9998 - acc: 0.586 - ETA: 0s - loss: 6.0196 - acc: 0.585 - ETA: 0s - loss: 6.0418 - acc: 0.584 - 3s 443us/step - loss: 6.0527 - acc: 0.5834 - val_loss: 6.8112 - val_acc: 0.4814\n",
      "\n",
      "Epoch 00011: val_loss improved from 7.05596 to 6.81122, saving model to saved_models/weights.best.VGG16.hdf5\n",
      "Epoch 12/20\n",
      "6680/6680 [==============================] - ETA: 3s - loss: 3.4544 - acc: 0.700 - ETA: 2s - loss: 5.0400 - acc: 0.650 - ETA: 2s - loss: 5.1119 - acc: 0.653 - ETA: 2s - loss: 5.5639 - acc: 0.625 - ETA: 2s - loss: 5.4549 - acc: 0.632 - ETA: 2s - loss: 5.4840 - acc: 0.631 - ETA: 2s - loss: 5.4747 - acc: 0.633 - ETA: 2s - loss: 5.6193 - acc: 0.623 - ETA: 2s - loss: 5.6639 - acc: 0.618 - ETA: 2s - loss: 5.6498 - acc: 0.621 - ETA: 2s - loss: 5.7351 - acc: 0.615 - ETA: 2s - loss: 5.8346 - acc: 0.609 - ETA: 2s - loss: 5.7919 - acc: 0.611 - ETA: 2s - loss: 5.7466 - acc: 0.613 - ETA: 2s - loss: 5.8316 - acc: 0.610 - ETA: 1s - loss: 5.8257 - acc: 0.610 - ETA: 1s - loss: 5.8187 - acc: 0.612 - ETA: 1s - loss: 5.8199 - acc: 0.612 - ETA: 1s - loss: 5.7985 - acc: 0.613 - ETA: 1s - loss: 5.8183 - acc: 0.610 - ETA: 1s - loss: 5.8817 - acc: 0.605 - ETA: 1s - loss: 5.8791 - acc: 0.604 - ETA: 1s - loss: 5.8881 - acc: 0.603 - ETA: 1s - loss: 5.8689 - acc: 0.605 - ETA: 1s - loss: 5.8777 - acc: 0.605 - ETA: 1s - loss: 5.8745 - acc: 0.605 - ETA: 1s - loss: 5.8742 - acc: 0.606 - ETA: 1s - loss: 5.9166 - acc: 0.603 - ETA: 1s - loss: 5.9102 - acc: 0.603 - ETA: 1s - loss: 5.8959 - acc: 0.603 - ETA: 1s - loss: 5.8844 - acc: 0.605 - ETA: 1s - loss: 5.8874 - acc: 0.604 - ETA: 1s - loss: 5.8496 - acc: 0.606 - ETA: 1s - loss: 5.8722 - acc: 0.606 - ETA: 0s - loss: 5.8744 - acc: 0.605 - ETA: 0s - loss: 5.8827 - acc: 0.604 - ETA: 0s - loss: 5.8822 - acc: 0.603 - ETA: 0s - loss: 5.8942 - acc: 0.603 - ETA: 0s - loss: 5.8820 - acc: 0.605 - ETA: 0s - loss: 5.8931 - acc: 0.604 - ETA: 0s - loss: 5.8553 - acc: 0.606 - ETA: 0s - loss: 5.8319 - acc: 0.607 - ETA: 0s - loss: 5.8405 - acc: 0.606 - ETA: 0s - loss: 5.8516 - acc: 0.606 - ETA: 0s - loss: 5.8459 - acc: 0.605 - ETA: 0s - loss: 5.8434 - acc: 0.606 - ETA: 0s - loss: 5.8380 - acc: 0.606 - ETA: 0s - loss: 5.8246 - acc: 0.607 - ETA: 0s - loss: 5.8225 - acc: 0.606 - ETA: 0s - loss: 5.8174 - acc: 0.607 - ETA: 0s - loss: 5.7873 - acc: 0.609 - ETA: 0s - loss: 5.7838 - acc: 0.610 - ETA: 0s - loss: 5.7871 - acc: 0.610 - 3s 443us/step - loss: 5.7763 - acc: 0.6112 - val_loss: 6.6090 - val_acc: 0.4802\n",
      "\n",
      "Epoch 00012: val_loss improved from 6.81122 to 6.60897, saving model to saved_models/weights.best.VGG16.hdf5\n",
      "Epoch 13/20\n"
     ]
    },
    {
     "name": "stdout",
     "output_type": "stream",
     "text": [
      "6680/6680 [==============================] - ETA: 3s - loss: 5.6103 - acc: 0.650 - ETA: 2s - loss: 5.0218 - acc: 0.662 - ETA: 2s - loss: 5.0829 - acc: 0.656 - ETA: 2s - loss: 5.1800 - acc: 0.647 - ETA: 2s - loss: 5.5789 - acc: 0.625 - ETA: 2s - loss: 5.7571 - acc: 0.618 - ETA: 2s - loss: 5.8245 - acc: 0.617 - ETA: 2s - loss: 5.7990 - acc: 0.618 - ETA: 2s - loss: 5.8872 - acc: 0.613 - ETA: 2s - loss: 5.8413 - acc: 0.617 - ETA: 2s - loss: 5.7639 - acc: 0.623 - ETA: 2s - loss: 5.6986 - acc: 0.625 - ETA: 2s - loss: 5.6761 - acc: 0.625 - ETA: 2s - loss: 5.6607 - acc: 0.626 - ETA: 1s - loss: 5.7139 - acc: 0.623 - ETA: 1s - loss: 5.6606 - acc: 0.627 - ETA: 1s - loss: 5.6087 - acc: 0.629 - ETA: 1s - loss: 5.6152 - acc: 0.629 - ETA: 1s - loss: 5.5531 - acc: 0.634 - ETA: 1s - loss: 5.5980 - acc: 0.631 - ETA: 1s - loss: 5.5727 - acc: 0.633 - ETA: 1s - loss: 5.6143 - acc: 0.630 - ETA: 1s - loss: 5.6406 - acc: 0.629 - ETA: 1s - loss: 5.6438 - acc: 0.628 - ETA: 1s - loss: 5.6343 - acc: 0.629 - ETA: 1s - loss: 5.6341 - acc: 0.628 - ETA: 1s - loss: 5.6512 - acc: 0.627 - ETA: 1s - loss: 5.6154 - acc: 0.630 - ETA: 1s - loss: 5.6007 - acc: 0.630 - ETA: 1s - loss: 5.5763 - acc: 0.631 - ETA: 1s - loss: 5.6292 - acc: 0.628 - ETA: 1s - loss: 5.6202 - acc: 0.627 - ETA: 1s - loss: 5.6377 - acc: 0.626 - ETA: 1s - loss: 5.6117 - acc: 0.628 - ETA: 0s - loss: 5.6031 - acc: 0.629 - ETA: 0s - loss: 5.6362 - acc: 0.627 - ETA: 0s - loss: 5.6501 - acc: 0.626 - ETA: 0s - loss: 5.6712 - acc: 0.624 - ETA: 0s - loss: 5.6821 - acc: 0.624 - ETA: 0s - loss: 5.6638 - acc: 0.624 - ETA: 0s - loss: 5.6373 - acc: 0.625 - ETA: 0s - loss: 5.6472 - acc: 0.624 - ETA: 0s - loss: 5.6226 - acc: 0.626 - ETA: 0s - loss: 5.6332 - acc: 0.625 - ETA: 0s - loss: 5.6227 - acc: 0.625 - ETA: 0s - loss: 5.5948 - acc: 0.625 - ETA: 0s - loss: 5.5908 - acc: 0.626 - ETA: 0s - loss: 5.5971 - acc: 0.626 - ETA: 0s - loss: 5.6119 - acc: 0.624 - ETA: 0s - loss: 5.6109 - acc: 0.625 - ETA: 0s - loss: 5.6278 - acc: 0.624 - ETA: 0s - loss: 5.6229 - acc: 0.624 - ETA: 0s - loss: 5.6125 - acc: 0.624 - 3s 441us/step - loss: 5.6253 - acc: 0.6238 - val_loss: 6.5959 - val_acc: 0.4778\n",
      "\n",
      "Epoch 00013: val_loss improved from 6.60897 to 6.59588, saving model to saved_models/weights.best.VGG16.hdf5\n",
      "Epoch 14/20\n",
      "6680/6680 [==============================] - ETA: 3s - loss: 5.7551 - acc: 0.600 - ETA: 2s - loss: 5.3951 - acc: 0.635 - ETA: 2s - loss: 5.8735 - acc: 0.607 - ETA: 2s - loss: 5.5662 - acc: 0.628 - ETA: 2s - loss: 5.5415 - acc: 0.632 - ETA: 2s - loss: 5.5386 - acc: 0.634 - ETA: 2s - loss: 5.4914 - acc: 0.636 - ETA: 2s - loss: 5.4501 - acc: 0.638 - ETA: 2s - loss: 5.4404 - acc: 0.636 - ETA: 2s - loss: 5.3962 - acc: 0.640 - ETA: 2s - loss: 5.2589 - acc: 0.650 - ETA: 2s - loss: 5.2792 - acc: 0.649 - ETA: 2s - loss: 5.3447 - acc: 0.645 - ETA: 2s - loss: 5.4002 - acc: 0.642 - ETA: 2s - loss: 5.3294 - acc: 0.647 - ETA: 2s - loss: 5.3325 - acc: 0.647 - ETA: 1s - loss: 5.2783 - acc: 0.650 - ETA: 1s - loss: 5.3499 - acc: 0.645 - ETA: 1s - loss: 5.3671 - acc: 0.644 - ETA: 1s - loss: 5.3825 - acc: 0.644 - ETA: 1s - loss: 5.4224 - acc: 0.641 - ETA: 1s - loss: 5.4290 - acc: 0.640 - ETA: 1s - loss: 5.4169 - acc: 0.641 - ETA: 1s - loss: 5.3879 - acc: 0.644 - ETA: 1s - loss: 5.3629 - acc: 0.645 - ETA: 1s - loss: 5.3269 - acc: 0.647 - ETA: 1s - loss: 5.3204 - acc: 0.648 - ETA: 1s - loss: 5.3056 - acc: 0.650 - ETA: 1s - loss: 5.3223 - acc: 0.649 - ETA: 1s - loss: 5.2692 - acc: 0.653 - ETA: 1s - loss: 5.2848 - acc: 0.652 - ETA: 1s - loss: 5.2856 - acc: 0.652 - ETA: 1s - loss: 5.3131 - acc: 0.651 - ETA: 1s - loss: 5.2982 - acc: 0.651 - ETA: 1s - loss: 5.3277 - acc: 0.649 - ETA: 0s - loss: 5.3383 - acc: 0.649 - ETA: 0s - loss: 5.3313 - acc: 0.648 - ETA: 0s - loss: 5.3013 - acc: 0.650 - ETA: 0s - loss: 5.3224 - acc: 0.648 - ETA: 0s - loss: 5.3374 - acc: 0.648 - ETA: 0s - loss: 5.3134 - acc: 0.649 - ETA: 0s - loss: 5.3482 - acc: 0.647 - ETA: 0s - loss: 5.3630 - acc: 0.646 - ETA: 0s - loss: 5.3706 - acc: 0.646 - ETA: 0s - loss: 5.3925 - acc: 0.645 - ETA: 0s - loss: 5.4309 - acc: 0.643 - ETA: 0s - loss: 5.4546 - acc: 0.641 - ETA: 0s - loss: 5.4822 - acc: 0.639 - ETA: 0s - loss: 5.4631 - acc: 0.640 - ETA: 0s - loss: 5.4870 - acc: 0.638 - ETA: 0s - loss: 5.4933 - acc: 0.639 - ETA: 0s - loss: 5.4972 - acc: 0.638 - ETA: 0s - loss: 5.4845 - acc: 0.639 - 3s 441us/step - loss: 5.4934 - acc: 0.6394 - val_loss: 6.4843 - val_acc: 0.5030\n",
      "\n",
      "Epoch 00014: val_loss improved from 6.59588 to 6.48433, saving model to saved_models/weights.best.VGG16.hdf5\n",
      "Epoch 15/20\n",
      "6680/6680 [==============================] - ETA: 3s - loss: 4.8365 - acc: 0.700 - ETA: 2s - loss: 4.3835 - acc: 0.728 - ETA: 2s - loss: 4.7975 - acc: 0.696 - ETA: 2s - loss: 5.2136 - acc: 0.672 - ETA: 2s - loss: 5.3582 - acc: 0.664 - ETA: 2s - loss: 5.2326 - acc: 0.667 - ETA: 2s - loss: 5.2671 - acc: 0.665 - ETA: 2s - loss: 5.1952 - acc: 0.670 - ETA: 2s - loss: 5.4032 - acc: 0.657 - ETA: 2s - loss: 5.3117 - acc: 0.662 - ETA: 2s - loss: 5.3492 - acc: 0.660 - ETA: 2s - loss: 5.3514 - acc: 0.659 - ETA: 2s - loss: 5.3545 - acc: 0.659 - ETA: 2s - loss: 5.4150 - acc: 0.654 - ETA: 2s - loss: 5.4154 - acc: 0.654 - ETA: 1s - loss: 5.3830 - acc: 0.656 - ETA: 1s - loss: 5.3683 - acc: 0.657 - ETA: 1s - loss: 5.3403 - acc: 0.657 - ETA: 1s - loss: 5.2687 - acc: 0.662 - ETA: 1s - loss: 5.3083 - acc: 0.658 - ETA: 1s - loss: 5.3324 - acc: 0.657 - ETA: 1s - loss: 5.2796 - acc: 0.661 - ETA: 1s - loss: 5.2343 - acc: 0.663 - ETA: 1s - loss: 5.2781 - acc: 0.661 - ETA: 1s - loss: 5.2188 - acc: 0.665 - ETA: 1s - loss: 5.2122 - acc: 0.664 - ETA: 1s - loss: 5.2464 - acc: 0.662 - ETA: 1s - loss: 5.2636 - acc: 0.660 - ETA: 1s - loss: 5.2562 - acc: 0.660 - ETA: 1s - loss: 5.2477 - acc: 0.661 - ETA: 1s - loss: 5.2687 - acc: 0.659 - ETA: 1s - loss: 5.2598 - acc: 0.659 - ETA: 1s - loss: 5.2346 - acc: 0.660 - ETA: 1s - loss: 5.2857 - acc: 0.657 - ETA: 0s - loss: 5.2875 - acc: 0.657 - ETA: 0s - loss: 5.2906 - acc: 0.657 - ETA: 0s - loss: 5.3096 - acc: 0.655 - ETA: 0s - loss: 5.2908 - acc: 0.656 - ETA: 1s - loss: 5.2862 - acc: 0.656 - ETA: 1s - loss: 5.2876 - acc: 0.656 - ETA: 1s - loss: 5.2859 - acc: 0.656 - ETA: 1s - loss: 5.2819 - acc: 0.657 - ETA: 2s - loss: 5.2739 - acc: 0.657 - ETA: 2s - loss: 5.2755 - acc: 0.657 - ETA: 2s - loss: 5.2665 - acc: 0.657 - ETA: 1s - loss: 5.2480 - acc: 0.658 - ETA: 1s - loss: 5.2679 - acc: 0.657 - ETA: 1s - loss: 5.2792 - acc: 0.656 - ETA: 1s - loss: 5.2832 - acc: 0.656 - ETA: 1s - loss: 5.3240 - acc: 0.653 - ETA: 1s - loss: 5.3516 - acc: 0.652 - ETA: 0s - loss: 5.3536 - acc: 0.652 - ETA: 0s - loss: 5.3711 - acc: 0.651 - ETA: 0s - loss: 5.3765 - acc: 0.650 - ETA: 0s - loss: 5.4016 - acc: 0.648 - ETA: 0s - loss: 5.4101 - acc: 0.648 - ETA: 0s - loss: 5.4125 - acc: 0.648 - ETA: 0s - loss: 5.4161 - acc: 0.648 - 7s 1ms/step - loss: 5.4182 - acc: 0.6479 - val_loss: 6.3807 - val_acc: 0.4970\n",
      "\n",
      "Epoch 00015: val_loss improved from 6.48433 to 6.38073, saving model to saved_models/weights.best.VGG16.hdf5\n",
      "Epoch 16/20\n",
      "6680/6680 [==============================] - ETA: 2s - loss: 6.4531 - acc: 0.600 - ETA: 2s - loss: 5.7128 - acc: 0.635 - ETA: 2s - loss: 5.8350 - acc: 0.623 - ETA: 2s - loss: 5.6513 - acc: 0.631 - ETA: 2s - loss: 5.4221 - acc: 0.648 - ETA: 2s - loss: 5.5491 - acc: 0.641 - ETA: 2s - loss: 5.3793 - acc: 0.651 - ETA: 2s - loss: 5.3607 - acc: 0.654 - ETA: 2s - loss: 5.3186 - acc: 0.657 - ETA: 2s - loss: 5.2688 - acc: 0.660 - ETA: 2s - loss: 5.2091 - acc: 0.664 - ETA: 2s - loss: 5.2532 - acc: 0.663 - ETA: 2s - loss: 5.1414 - acc: 0.671 - ETA: 2s - loss: 5.2010 - acc: 0.665 - ETA: 2s - loss: 5.2222 - acc: 0.664 - ETA: 2s - loss: 5.2007 - acc: 0.664 - ETA: 1s - loss: 5.2164 - acc: 0.664 - ETA: 1s - loss: 5.2444 - acc: 0.663 - ETA: 1s - loss: 5.2813 - acc: 0.662 - ETA: 1s - loss: 5.3087 - acc: 0.661 - ETA: 1s - loss: 5.3120 - acc: 0.661 - ETA: 1s - loss: 5.3349 - acc: 0.658 - ETA: 1s - loss: 5.2902 - acc: 0.661 - ETA: 1s - loss: 5.2504 - acc: 0.663 - ETA: 1s - loss: 5.2362 - acc: 0.664 - ETA: 1s - loss: 5.2392 - acc: 0.664 - ETA: 1s - loss: 5.2472 - acc: 0.664 - ETA: 1s - loss: 5.2379 - acc: 0.665 - ETA: 1s - loss: 5.2562 - acc: 0.663 - ETA: 1s - loss: 5.2426 - acc: 0.664 - ETA: 1s - loss: 5.2870 - acc: 0.661 - ETA: 1s - loss: 5.2543 - acc: 0.664 - ETA: 1s - loss: 5.2524 - acc: 0.664 - ETA: 1s - loss: 5.2360 - acc: 0.665 - ETA: 0s - loss: 5.2471 - acc: 0.664 - ETA: 0s - loss: 5.2831 - acc: 0.662 - ETA: 0s - loss: 5.2961 - acc: 0.661 - ETA: 0s - loss: 5.3052 - acc: 0.661 - ETA: 0s - loss: 5.2802 - acc: 0.662 - ETA: 0s - loss: 5.3064 - acc: 0.660 - ETA: 0s - loss: 5.3243 - acc: 0.659 - ETA: 0s - loss: 5.3229 - acc: 0.659 - ETA: 0s - loss: 5.3156 - acc: 0.659 - ETA: 0s - loss: 5.3143 - acc: 0.659 - ETA: 0s - loss: 5.3110 - acc: 0.659 - ETA: 0s - loss: 5.3321 - acc: 0.658 - ETA: 0s - loss: 5.3162 - acc: 0.659 - ETA: 0s - loss: 5.3365 - acc: 0.658 - ETA: 0s - loss: 5.3572 - acc: 0.656 - ETA: 0s - loss: 5.3664 - acc: 0.656 - ETA: 0s - loss: 5.3550 - acc: 0.657 - ETA: 0s - loss: 5.3445 - acc: 0.657 - ETA: 0s - loss: 5.3518 - acc: 0.657 - 3s 447us/step - loss: 5.3439 - acc: 0.6576 - val_loss: 6.3697 - val_acc: 0.5174\n",
      "\n",
      "Epoch 00016: val_loss improved from 6.38073 to 6.36974, saving model to saved_models/weights.best.VGG16.hdf5\n",
      "Epoch 17/20\n",
      "6680/6680 [==============================] - ETA: 2s - loss: 4.0934 - acc: 0.700 - ETA: 2s - loss: 4.5946 - acc: 0.700 - ETA: 2s - loss: 5.2051 - acc: 0.669 - ETA: 2s - loss: 5.1715 - acc: 0.670 - ETA: 2s - loss: 5.1512 - acc: 0.671 - ETA: 2s - loss: 5.0429 - acc: 0.676 - ETA: 2s - loss: 4.8674 - acc: 0.686 - ETA: 2s - loss: 4.9731 - acc: 0.681 - ETA: 2s - loss: 4.9591 - acc: 0.683 - ETA: 2s - loss: 5.1048 - acc: 0.675 - ETA: 2s - loss: 5.1711 - acc: 0.671 - ETA: 2s - loss: 5.1959 - acc: 0.670 - ETA: 2s - loss: 5.2180 - acc: 0.668 - ETA: 2s - loss: 5.2403 - acc: 0.667 - ETA: 2s - loss: 5.2357 - acc: 0.667 - ETA: 2s - loss: 5.2351 - acc: 0.667 - ETA: 1s - loss: 5.2131 - acc: 0.669 - ETA: 1s - loss: 5.1772 - acc: 0.671 - ETA: 1s - loss: 5.1815 - acc: 0.670 - ETA: 1s - loss: 5.2280 - acc: 0.667 - ETA: 1s - loss: 5.2768 - acc: 0.664 - ETA: 1s - loss: 5.2847 - acc: 0.663 - ETA: 1s - loss: 5.3361 - acc: 0.660 - ETA: 1s - loss: 5.3392 - acc: 0.660 - ETA: 1s - loss: 5.4240 - acc: 0.655 - ETA: 1s - loss: 5.4033 - acc: 0.656 - ETA: 1s - loss: 5.3906 - acc: 0.656 - ETA: 1s - loss: 5.3931 - acc: 0.656 - ETA: 1s - loss: 5.3811 - acc: 0.656 - ETA: 1s - loss: 5.3523 - acc: 0.658 - ETA: 1s - loss: 5.3777 - acc: 0.656 - ETA: 1s - loss: 5.3744 - acc: 0.656 - ETA: 1s - loss: 5.3467 - acc: 0.658 - ETA: 1s - loss: 5.3569 - acc: 0.658 - ETA: 1s - loss: 5.3580 - acc: 0.657 - ETA: 0s - loss: 5.3955 - acc: 0.655 - ETA: 0s - loss: 5.3731 - acc: 0.656 - ETA: 0s - loss: 5.3954 - acc: 0.655 - ETA: 0s - loss: 5.3934 - acc: 0.655 - ETA: 0s - loss: 5.3965 - acc: 0.654 - ETA: 0s - loss: 5.3706 - acc: 0.656 - ETA: 0s - loss: 5.3650 - acc: 0.656 - ETA: 0s - loss: 5.3745 - acc: 0.656 - ETA: 0s - loss: 5.3527 - acc: 0.657 - ETA: 0s - loss: 5.3657 - acc: 0.656 - ETA: 0s - loss: 5.3732 - acc: 0.656 - ETA: 0s - loss: 5.3678 - acc: 0.656 - ETA: 0s - loss: 5.3600 - acc: 0.657 - ETA: 0s - loss: 5.3584 - acc: 0.657 - ETA: 0s - loss: 5.3437 - acc: 0.658 - ETA: 0s - loss: 5.3164 - acc: 0.659 - ETA: 0s - loss: 5.3189 - acc: 0.659 - ETA: 0s - loss: 5.3069 - acc: 0.660 - ETA: 0s - loss: 5.3140 - acc: 0.659 - 3s 452us/step - loss: 5.3112 - acc: 0.6597 - val_loss: 6.4097 - val_acc: 0.5150\n",
      "\n",
      "Epoch 00017: val_loss did not improve\n",
      "Epoch 18/20\n",
      "6680/6680 [==============================] - ETA: 19s - loss: 7.2538 - acc: 0.55 - ETA: 5s - loss: 4.8459 - acc: 0.6929 - ETA: 4s - loss: 4.7010 - acc: 0.700 - ETA: 3s - loss: 4.7048 - acc: 0.702 - ETA: 3s - loss: 4.6089 - acc: 0.710 - ETA: 3s - loss: 4.7258 - acc: 0.700 - ETA: 3s - loss: 4.9492 - acc: 0.682 - ETA: 2s - loss: 5.0467 - acc: 0.677 - ETA: 2s - loss: 5.1213 - acc: 0.673 - ETA: 2s - loss: 5.0714 - acc: 0.677 - ETA: 2s - loss: 5.1014 - acc: 0.676 - ETA: 2s - loss: 5.2340 - acc: 0.668 - ETA: 2s - loss: 5.1928 - acc: 0.671 - ETA: 2s - loss: 5.2702 - acc: 0.666 - ETA: 2s - loss: 5.3101 - acc: 0.664 - ETA: 2s - loss: 5.2790 - acc: 0.666 - ETA: 2s - loss: 5.2868 - acc: 0.665 - ETA: 2s - loss: 5.3014 - acc: 0.664 - ETA: 2s - loss: 5.2833 - acc: 0.665 - ETA: 2s - loss: 5.2022 - acc: 0.670 - ETA: 1s - loss: 5.2732 - acc: 0.666 - ETA: 1s - loss: 5.2389 - acc: 0.667 - ETA: 1s - loss: 5.2413 - acc: 0.667 - ETA: 1s - loss: 5.2521 - acc: 0.666 - ETA: 1s - loss: 5.2586 - acc: 0.664 - ETA: 1s - loss: 5.2729 - acc: 0.663 - ETA: 1s - loss: 5.2926 - acc: 0.661 - ETA: 1s - loss: 5.2701 - acc: 0.663 - ETA: 1s - loss: 5.2902 - acc: 0.661 - ETA: 1s - loss: 5.3061 - acc: 0.660 - ETA: 1s - loss: 5.2691 - acc: 0.662 - ETA: 1s - loss: 5.2813 - acc: 0.661 - ETA: 1s - loss: 5.2926 - acc: 0.661 - ETA: 1s - loss: 5.3014 - acc: 0.660 - ETA: 1s - loss: 5.3018 - acc: 0.658 - ETA: 1s - loss: 5.3285 - acc: 0.657 - ETA: 1s - loss: 5.3562 - acc: 0.655 - ETA: 0s - loss: 5.3276 - acc: 0.658 - ETA: 0s - loss: 5.3282 - acc: 0.657 - ETA: 0s - loss: 5.3284 - acc: 0.657 - ETA: 0s - loss: 5.2940 - acc: 0.659 - ETA: 0s - loss: 5.3114 - acc: 0.658 - ETA: 0s - loss: 5.2947 - acc: 0.659 - ETA: 0s - loss: 5.2735 - acc: 0.660 - ETA: 0s - loss: 5.2427 - acc: 0.662 - ETA: 0s - loss: 5.2380 - acc: 0.662 - ETA: 0s - loss: 5.2391 - acc: 0.662 - ETA: 0s - loss: 5.2285 - acc: 0.663 - ETA: 0s - loss: 5.1901 - acc: 0.665 - ETA: 0s - loss: 5.1914 - acc: 0.665 - ETA: 0s - loss: 5.2013 - acc: 0.664 - ETA: 0s - loss: 5.1970 - acc: 0.665 - ETA: 0s - loss: 5.2107 - acc: 0.663 - ETA: 0s - loss: 5.2224 - acc: 0.663 - ETA: 0s - loss: 5.2168 - acc: 0.663 - 3s 468us/step - loss: 5.1901 - acc: 0.6650 - val_loss: 6.2385 - val_acc: 0.5162\n",
      "\n",
      "Epoch 00018: val_loss improved from 6.36974 to 6.23855, saving model to saved_models/weights.best.VGG16.hdf5\n",
      "Epoch 19/20\n"
     ]
    },
    {
     "name": "stdout",
     "output_type": "stream",
     "text": [
      "6680/6680 [==============================] - ETA: 11s - loss: 6.4478 - acc: 0.60 - ETA: 4s - loss: 4.4926 - acc: 0.7214 - ETA: 3s - loss: 4.3543 - acc: 0.723 - ETA: 3s - loss: 3.8593 - acc: 0.752 - ETA: 3s - loss: 4.3840 - acc: 0.722 - ETA: 2s - loss: 4.6072 - acc: 0.704 - ETA: 2s - loss: 4.7757 - acc: 0.695 - ETA: 2s - loss: 4.7099 - acc: 0.701 - ETA: 2s - loss: 4.7269 - acc: 0.698 - ETA: 2s - loss: 4.6609 - acc: 0.701 - ETA: 2s - loss: 4.5934 - acc: 0.706 - ETA: 2s - loss: 4.6993 - acc: 0.700 - ETA: 2s - loss: 4.8327 - acc: 0.692 - ETA: 2s - loss: 4.8942 - acc: 0.689 - ETA: 2s - loss: 4.8660 - acc: 0.690 - ETA: 2s - loss: 4.9403 - acc: 0.685 - ETA: 2s - loss: 4.9415 - acc: 0.684 - ETA: 2s - loss: 4.9194 - acc: 0.684 - ETA: 2s - loss: 4.8413 - acc: 0.689 - ETA: 1s - loss: 4.8577 - acc: 0.688 - ETA: 1s - loss: 4.9032 - acc: 0.686 - ETA: 1s - loss: 4.8678 - acc: 0.688 - ETA: 1s - loss: 4.8308 - acc: 0.690 - ETA: 1s - loss: 4.8136 - acc: 0.692 - ETA: 1s - loss: 4.7873 - acc: 0.694 - ETA: 1s - loss: 4.7915 - acc: 0.693 - ETA: 1s - loss: 4.8316 - acc: 0.691 - ETA: 1s - loss: 4.8666 - acc: 0.689 - ETA: 1s - loss: 4.8719 - acc: 0.688 - ETA: 1s - loss: 4.8734 - acc: 0.688 - ETA: 1s - loss: 4.8126 - acc: 0.692 - ETA: 1s - loss: 4.8395 - acc: 0.691 - ETA: 1s - loss: 4.8593 - acc: 0.689 - ETA: 1s - loss: 4.8628 - acc: 0.689 - ETA: 1s - loss: 4.8978 - acc: 0.686 - ETA: 1s - loss: 4.9391 - acc: 0.684 - ETA: 0s - loss: 4.9655 - acc: 0.682 - ETA: 0s - loss: 4.9419 - acc: 0.684 - ETA: 0s - loss: 4.9316 - acc: 0.684 - ETA: 0s - loss: 4.9923 - acc: 0.681 - ETA: 0s - loss: 4.9646 - acc: 0.682 - ETA: 0s - loss: 4.9736 - acc: 0.681 - ETA: 0s - loss: 4.9455 - acc: 0.682 - ETA: 0s - loss: 4.9386 - acc: 0.682 - ETA: 0s - loss: 4.9573 - acc: 0.681 - ETA: 0s - loss: 4.9737 - acc: 0.681 - ETA: 0s - loss: 4.9641 - acc: 0.681 - ETA: 0s - loss: 5.0014 - acc: 0.679 - ETA: 0s - loss: 5.0061 - acc: 0.678 - ETA: 0s - loss: 4.9976 - acc: 0.678 - ETA: 0s - loss: 5.0189 - acc: 0.676 - ETA: 0s - loss: 5.0737 - acc: 0.673 - ETA: 0s - loss: 5.0757 - acc: 0.673 - ETA: 0s - loss: 5.0677 - acc: 0.673 - ETA: 0s - loss: 5.0649 - acc: 0.673 - 3s 463us/step - loss: 5.0642 - acc: 0.6732 - val_loss: 6.1498 - val_acc: 0.5090\n",
      "\n",
      "Epoch 00019: val_loss improved from 6.23855 to 6.14983, saving model to saved_models/weights.best.VGG16.hdf5\n",
      "Epoch 20/20\n",
      "6680/6680 [==============================] - ETA: 2s - loss: 3.2240 - acc: 0.800 - ETA: 2s - loss: 3.8038 - acc: 0.764 - ETA: 2s - loss: 4.5354 - acc: 0.715 - ETA: 2s - loss: 4.3697 - acc: 0.718 - ETA: 2s - loss: 4.5649 - acc: 0.706 - ETA: 2s - loss: 4.7789 - acc: 0.691 - ETA: 2s - loss: 4.7658 - acc: 0.689 - ETA: 2s - loss: 4.7311 - acc: 0.691 - ETA: 2s - loss: 4.9087 - acc: 0.682 - ETA: 2s - loss: 4.8530 - acc: 0.686 - ETA: 2s - loss: 4.8674 - acc: 0.683 - ETA: 2s - loss: 4.9333 - acc: 0.679 - ETA: 2s - loss: 4.9713 - acc: 0.676 - ETA: 2s - loss: 4.9374 - acc: 0.677 - ETA: 2s - loss: 5.0075 - acc: 0.673 - ETA: 2s - loss: 4.9766 - acc: 0.675 - ETA: 2s - loss: 5.0490 - acc: 0.671 - ETA: 1s - loss: 4.9504 - acc: 0.678 - ETA: 1s - loss: 4.9880 - acc: 0.675 - ETA: 1s - loss: 5.0148 - acc: 0.672 - ETA: 1s - loss: 5.0387 - acc: 0.671 - ETA: 1s - loss: 5.0134 - acc: 0.673 - ETA: 1s - loss: 5.0028 - acc: 0.674 - ETA: 1s - loss: 5.0294 - acc: 0.672 - ETA: 1s - loss: 4.9634 - acc: 0.676 - ETA: 1s - loss: 4.9552 - acc: 0.677 - ETA: 1s - loss: 4.9491 - acc: 0.678 - ETA: 1s - loss: 4.9435 - acc: 0.678 - ETA: 1s - loss: 4.9447 - acc: 0.678 - ETA: 1s - loss: 4.8916 - acc: 0.682 - ETA: 1s - loss: 4.9167 - acc: 0.680 - ETA: 1s - loss: 4.8921 - acc: 0.681 - ETA: 1s - loss: 4.8720 - acc: 0.683 - ETA: 1s - loss: 4.8687 - acc: 0.683 - ETA: 1s - loss: 4.8567 - acc: 0.684 - ETA: 1s - loss: 4.8755 - acc: 0.683 - ETA: 1s - loss: 4.8533 - acc: 0.685 - ETA: 0s - loss: 4.8789 - acc: 0.683 - ETA: 0s - loss: 4.8856 - acc: 0.683 - ETA: 0s - loss: 4.9193 - acc: 0.681 - ETA: 0s - loss: 4.8839 - acc: 0.683 - ETA: 0s - loss: 4.8928 - acc: 0.682 - ETA: 0s - loss: 4.8914 - acc: 0.683 - ETA: 0s - loss: 4.8804 - acc: 0.683 - ETA: 0s - loss: 4.9056 - acc: 0.682 - ETA: 0s - loss: 4.8769 - acc: 0.683 - ETA: 0s - loss: 4.8894 - acc: 0.682 - ETA: 0s - loss: 4.9095 - acc: 0.681 - ETA: 0s - loss: 4.9298 - acc: 0.681 - ETA: 0s - loss: 4.9078 - acc: 0.682 - ETA: 0s - loss: 4.9196 - acc: 0.681 - ETA: 0s - loss: 4.9127 - acc: 0.682 - ETA: 0s - loss: 4.9178 - acc: 0.681 - ETA: 0s - loss: 4.9567 - acc: 0.679 - ETA: 0s - loss: 4.9612 - acc: 0.679 - 3s 453us/step - loss: 4.9609 - acc: 0.6793 - val_loss: 6.1988 - val_acc: 0.5162\n",
      "\n",
      "Epoch 00020: val_loss did not improve\n"
     ]
    },
    {
     "data": {
      "text/plain": [
       "<keras.callbacks.History at 0x3fcb771f60>"
      ]
     },
     "execution_count": 309,
     "metadata": {},
     "output_type": "execute_result"
    }
   ],
   "source": [
    "checkpointer = ModelCheckpoint(filepath='saved_models/weights.best.VGG16.hdf5', \n",
    "                               verbose=1, save_best_only=True)\n",
    "\n",
    "VGG16_model.fit(train_VGG16, train_targets, \n",
    "          validation_data=(valid_VGG16, valid_targets),\n",
    "          epochs=20, batch_size=20, callbacks=[checkpointer], verbose=1)"
   ]
  },
  {
   "cell_type": "markdown",
   "metadata": {},
   "source": [
    "### Load the Model with the Best Validation Loss"
   ]
  },
  {
   "cell_type": "code",
   "execution_count": 310,
   "metadata": {
    "collapsed": true
   },
   "outputs": [],
   "source": [
    "VGG16_model.load_weights('saved_models/weights.best.VGG16.hdf5')"
   ]
  },
  {
   "cell_type": "markdown",
   "metadata": {},
   "source": [
    "### Test the Model\n",
    "\n",
    "Now, we can use the CNN to test how well it identifies breed within our test dataset of dog images.  We print the test accuracy below."
   ]
  },
  {
   "cell_type": "code",
   "execution_count": 311,
   "metadata": {},
   "outputs": [
    {
     "name": "stdout",
     "output_type": "stream",
     "text": [
      "Test accuracy: 52.9904%\n"
     ]
    }
   ],
   "source": [
    "# get index of predicted dog breed for each image in test set\n",
    "VGG16_predictions = [np.argmax(VGG16_model.predict(np.expand_dims(feature, axis=0))) for feature in test_VGG16]\n",
    "\n",
    "# report test accuracy\n",
    "test_accuracy = 100*np.sum(np.array(VGG16_predictions)==np.argmax(test_targets, axis=1))/len(VGG16_predictions)\n",
    "print('Test accuracy: %.4f%%' % test_accuracy)"
   ]
  },
  {
   "cell_type": "markdown",
   "metadata": {},
   "source": [
    "### Predict Dog Breed with the Model"
   ]
  },
  {
   "cell_type": "code",
   "execution_count": 312,
   "metadata": {
    "collapsed": true
   },
   "outputs": [],
   "source": [
    "from extract_bottleneck_features import *\n",
    "\n",
    "def VGG16_predict_breed(img_path):\n",
    "    # extract bottleneck features\n",
    "    bottleneck_feature = extract_VGG16(path_to_tensor(img_path))\n",
    "    # obtain predicted vector\n",
    "    predicted_vector = VGG16_model.predict(bottleneck_feature)\n",
    "    # return dog breed that is predicted by the model\n",
    "    return dog_names[np.argmax(predicted_vector)]"
   ]
  },
  {
   "cell_type": "markdown",
   "metadata": {},
   "source": [
    "---\n",
    "<a id='step5'></a>\n",
    "## Step 5: Create a CNN to Classify Dog Breeds (using Transfer Learning)\n",
    "\n",
    "You will now use transfer learning to create a CNN that can identify dog breed from images.  Your CNN must attain at least 60% accuracy on the test set.\n",
    "\n",
    "In Step 4, we used transfer learning to create a CNN using VGG-16 bottleneck features.  In this section, you must use the bottleneck features from a different pre-trained model.  To make things easier for you, we have pre-computed the features for all of the networks that are currently available in Keras:\n",
    "- [VGG-19](https://s3-us-west-1.amazonaws.com/udacity-aind/dog-project/DogVGG19Data.npz) bottleneck features\n",
    "- [ResNet-50](https://s3-us-west-1.amazonaws.com/udacity-aind/dog-project/DogResnet50Data.npz) bottleneck features\n",
    "- [Inception](https://s3-us-west-1.amazonaws.com/udacity-aind/dog-project/DogInceptionV3Data.npz) bottleneck features\n",
    "- [Xception](https://s3-us-west-1.amazonaws.com/udacity-aind/dog-project/DogXceptionData.npz) bottleneck features\n",
    "\n",
    "The files are encoded as such:\n",
    "\n",
    "    Dog{network}Data.npz\n",
    "    \n",
    "where `{network}`, in the above filename, can be one of `VGG19`, `Resnet50`, `InceptionV3`, or `Xception`.  Pick one of the above architectures, download the corresponding bottleneck features, and store the downloaded file in the `bottleneck_features/` folder in the repository.\n",
    "\n",
    "### (IMPLEMENTATION) Obtain Bottleneck Features\n",
    "\n",
    "In the code block below, extract the bottleneck features corresponding to the train, test, and validation sets by running the following:\n",
    "\n",
    "    bottleneck_features = np.load('bottleneck_features/Dog{network}Data.npz')\n",
    "    train_{network} = bottleneck_features['train']\n",
    "    valid_{network} = bottleneck_features['valid']\n",
    "    test_{network} = bottleneck_features['test']"
   ]
  },
  {
   "cell_type": "code",
   "execution_count": 313,
   "metadata": {
    "collapsed": true
   },
   "outputs": [],
   "source": [
    "### TODO: Obtain bottleneck features from another pre-trained CNN.\n",
    "\n",
    "bottleneck_features = np.load('bottleneck_features/DogResnet50Data.npz')\n",
    "train_Resnet50 = bottleneck_features['train']\n",
    "valid_Resnet50 = bottleneck_features['valid']\n",
    "test_Resnet50 = bottleneck_features['test']"
   ]
  },
  {
   "cell_type": "markdown",
   "metadata": {},
   "source": [
    "### (IMPLEMENTATION) Model Architecture\n",
    "\n",
    "Create a CNN to classify dog breed.  At the end of your code cell block, summarize the layers of your model by executing the line:\n",
    "    \n",
    "        <your model's name>.summary()\n",
    "   \n",
    "__Question 5:__ Outline the steps you took to get to your final CNN architecture and your reasoning at each step.  Describe why you think the architecture is suitable for the current problem.\n",
    "\n",
    "__Answer:__ \n",
    "The CNN architecture for this model consists of pre-trained Resnet50 network and a GlobalAveragePooling2D layer as input. The output layer is a fully connected newtwork with 133 nodes and softmax activation. Total number of parameters are 272,517\n",
    "\n"
   ]
  },
  {
   "cell_type": "code",
   "execution_count": 317,
   "metadata": {},
   "outputs": [
    {
     "name": "stdout",
     "output_type": "stream",
     "text": [
      "_________________________________________________________________\n",
      "Layer (type)                 Output Shape              Param #   \n",
      "=================================================================\n",
      "global_average_pooling2d_12  (None, 2048)              0         \n",
      "_________________________________________________________________\n",
      "dense_78 (Dense)             (None, 133)               272517    \n",
      "=================================================================\n",
      "Total params: 272,517\n",
      "Trainable params: 272,517\n",
      "Non-trainable params: 0\n",
      "_________________________________________________________________\n"
     ]
    }
   ],
   "source": [
    "### TODO: Define your architecture.\n",
    "Resnet50_model = Sequential()\n",
    "\n",
    "Resnet50_model.add(GlobalAveragePooling2D(input_shape=train_Resnet50.shape[1:]))\n",
    "Resnet50_model.add(Dense(133, activation='softmax'))\n",
    "\n",
    "Resnet50_model.summary()"
   ]
  },
  {
   "cell_type": "markdown",
   "metadata": {},
   "source": [
    "### (IMPLEMENTATION) Compile the Model"
   ]
  },
  {
   "cell_type": "code",
   "execution_count": 257,
   "metadata": {
    "collapsed": true
   },
   "outputs": [],
   "source": [
    "### TODO: Compile the model.\n",
    "Resnet50_model.compile(loss='categorical_crossentropy', optimizer='rmsprop', metrics=['accuracy'])"
   ]
  },
  {
   "cell_type": "markdown",
   "metadata": {},
   "source": [
    "### (IMPLEMENTATION) Train the Model\n",
    "\n",
    "Train your model in the code cell below.  Use model checkpointing to save the model that attains the best validation loss.  \n",
    "\n",
    "You are welcome to [augment the training data](https://blog.keras.io/building-powerful-image-classification-models-using-very-little-data.html), but this is not a requirement. "
   ]
  },
  {
   "cell_type": "code",
   "execution_count": 258,
   "metadata": {},
   "outputs": [
    {
     "name": "stdout",
     "output_type": "stream",
     "text": [
      "Train on 6680 samples, validate on 835 samples\n",
      "Epoch 1/20\n",
      "6680/6680 [==============================] - ETA: 12:08 - loss: 5.5712 - acc: 0.0000e+ - ETA: 1:12 - loss: 5.7771 - acc: 0.0250     - ETA: 40s - loss: 5.3450 - acc: 0.069 - ETA: 27s - loss: 4.9442 - acc: 0.10 - ETA: 20s - loss: 4.5532 - acc: 0.16 - ETA: 16s - loss: 4.2075 - acc: 0.20 - ETA: 13s - loss: 3.9833 - acc: 0.22 - ETA: 11s - loss: 3.7295 - acc: 0.26 - ETA: 9s - loss: 3.5131 - acc: 0.2937 - ETA: 8s - loss: 3.3435 - acc: 0.316 - ETA: 7s - loss: 3.1819 - acc: 0.345 - ETA: 6s - loss: 3.0482 - acc: 0.359 - ETA: 5s - loss: 2.9157 - acc: 0.381 - ETA: 5s - loss: 2.8053 - acc: 0.399 - ETA: 4s - loss: 2.7037 - acc: 0.416 - ETA: 4s - loss: 2.5973 - acc: 0.432 - ETA: 4s - loss: 2.5208 - acc: 0.442 - ETA: 3s - loss: 2.4384 - acc: 0.458 - ETA: 3s - loss: 2.3573 - acc: 0.473 - ETA: 3s - loss: 2.2932 - acc: 0.482 - ETA: 2s - loss: 2.2337 - acc: 0.493 - ETA: 2s - loss: 2.1773 - acc: 0.502 - ETA: 2s - loss: 2.1204 - acc: 0.514 - ETA: 2s - loss: 2.0752 - acc: 0.523 - ETA: 1s - loss: 2.0312 - acc: 0.531 - ETA: 1s - loss: 1.9950 - acc: 0.535 - ETA: 1s - loss: 1.9562 - acc: 0.543 - ETA: 1s - loss: 1.9197 - acc: 0.549 - ETA: 1s - loss: 1.8790 - acc: 0.556 - ETA: 1s - loss: 1.8421 - acc: 0.562 - ETA: 0s - loss: 1.8161 - acc: 0.564 - ETA: 0s - loss: 1.7834 - acc: 0.571 - ETA: 0s - loss: 1.7540 - acc: 0.576 - ETA: 0s - loss: 1.7267 - acc: 0.580 - ETA: 0s - loss: 1.7035 - acc: 0.584 - ETA: 0s - loss: 1.6748 - acc: 0.589 - ETA: 0s - loss: 1.6477 - acc: 0.595 - ETA: 0s - loss: 1.6238 - acc: 0.599 - 4s 653us/step - loss: 1.6236 - acc: 0.5996 - val_loss: 0.8174 - val_acc: 0.7413\n",
      "\n",
      "Epoch 00001: val_loss improved from inf to 0.81736, saving model to saved_models/weights.best.VGG16.hdf5\n",
      "Epoch 2/20\n",
      "6680/6680 [==============================] - ETA: 2s - loss: 0.4368 - acc: 0.850 - ETA: 2s - loss: 0.4153 - acc: 0.900 - ETA: 2s - loss: 0.4794 - acc: 0.873 - ETA: 1s - loss: 0.4436 - acc: 0.882 - ETA: 1s - loss: 0.4144 - acc: 0.886 - ETA: 1s - loss: 0.4003 - acc: 0.887 - ETA: 1s - loss: 0.3979 - acc: 0.886 - ETA: 1s - loss: 0.4080 - acc: 0.875 - ETA: 1s - loss: 0.4233 - acc: 0.870 - ETA: 1s - loss: 0.4298 - acc: 0.870 - ETA: 1s - loss: 0.4192 - acc: 0.872 - ETA: 1s - loss: 0.4225 - acc: 0.871 - ETA: 1s - loss: 0.4288 - acc: 0.869 - ETA: 1s - loss: 0.4324 - acc: 0.868 - ETA: 1s - loss: 0.4310 - acc: 0.870 - ETA: 1s - loss: 0.4362 - acc: 0.869 - ETA: 1s - loss: 0.4356 - acc: 0.867 - ETA: 1s - loss: 0.4348 - acc: 0.868 - ETA: 1s - loss: 0.4365 - acc: 0.867 - ETA: 1s - loss: 0.4368 - acc: 0.866 - ETA: 0s - loss: 0.4364 - acc: 0.866 - ETA: 0s - loss: 0.4376 - acc: 0.865 - ETA: 0s - loss: 0.4303 - acc: 0.867 - ETA: 0s - loss: 0.4318 - acc: 0.868 - ETA: 0s - loss: 0.4325 - acc: 0.867 - ETA: 0s - loss: 0.4324 - acc: 0.869 - ETA: 0s - loss: 0.4310 - acc: 0.870 - ETA: 0s - loss: 0.4319 - acc: 0.870 - ETA: 0s - loss: 0.4371 - acc: 0.868 - ETA: 0s - loss: 0.4348 - acc: 0.869 - ETA: 0s - loss: 0.4342 - acc: 0.868 - ETA: 0s - loss: 0.4331 - acc: 0.869 - ETA: 0s - loss: 0.4301 - acc: 0.869 - ETA: 0s - loss: 0.4288 - acc: 0.869 - ETA: 0s - loss: 0.4297 - acc: 0.868 - ETA: 0s - loss: 0.4315 - acc: 0.868 - ETA: 0s - loss: 0.4303 - acc: 0.868 - 2s 304us/step - loss: 0.4293 - acc: 0.8687 - val_loss: 0.7583 - val_acc: 0.7737\n",
      "\n",
      "Epoch 00002: val_loss improved from 0.81736 to 0.75833, saving model to saved_models/weights.best.VGG16.hdf5\n",
      "Epoch 3/20\n",
      "6680/6680 [==============================] - ETA: 12s - loss: 0.3560 - acc: 0.85 - ETA: 3s - loss: 0.2208 - acc: 0.9389 - ETA: 2s - loss: 0.2223 - acc: 0.933 - ETA: 2s - loss: 0.2182 - acc: 0.926 - ETA: 2s - loss: 0.2251 - acc: 0.925 - ETA: 2s - loss: 0.2229 - acc: 0.926 - ETA: 1s - loss: 0.2133 - acc: 0.930 - ETA: 1s - loss: 0.2311 - acc: 0.922 - ETA: 1s - loss: 0.2275 - acc: 0.923 - ETA: 1s - loss: 0.2250 - acc: 0.923 - ETA: 1s - loss: 0.2331 - acc: 0.920 - ETA: 1s - loss: 0.2390 - acc: 0.918 - ETA: 1s - loss: 0.2398 - acc: 0.916 - ETA: 1s - loss: 0.2448 - acc: 0.917 - ETA: 1s - loss: 0.2443 - acc: 0.917 - ETA: 1s - loss: 0.2458 - acc: 0.918 - ETA: 1s - loss: 0.2501 - acc: 0.918 - ETA: 1s - loss: 0.2496 - acc: 0.918 - ETA: 1s - loss: 0.2463 - acc: 0.920 - ETA: 0s - loss: 0.2427 - acc: 0.921 - ETA: 0s - loss: 0.2443 - acc: 0.921 - ETA: 0s - loss: 0.2452 - acc: 0.921 - ETA: 0s - loss: 0.2465 - acc: 0.920 - ETA: 0s - loss: 0.2450 - acc: 0.921 - ETA: 0s - loss: 0.2440 - acc: 0.921 - ETA: 0s - loss: 0.2481 - acc: 0.920 - ETA: 0s - loss: 0.2484 - acc: 0.920 - ETA: 0s - loss: 0.2477 - acc: 0.920 - ETA: 0s - loss: 0.2481 - acc: 0.920 - ETA: 0s - loss: 0.2474 - acc: 0.921 - ETA: 0s - loss: 0.2485 - acc: 0.920 - ETA: 0s - loss: 0.2533 - acc: 0.919 - ETA: 0s - loss: 0.2529 - acc: 0.919 - ETA: 0s - loss: 0.2519 - acc: 0.919 - ETA: 0s - loss: 0.2525 - acc: 0.919 - ETA: 0s - loss: 0.2568 - acc: 0.918 - 2s 298us/step - loss: 0.2605 - acc: 0.9183 - val_loss: 0.6672 - val_acc: 0.7796\n",
      "\n",
      "Epoch 00003: val_loss improved from 0.75833 to 0.66724, saving model to saved_models/weights.best.VGG16.hdf5\n",
      "Epoch 4/20\n",
      "6680/6680 [==============================] - ETA: 2s - loss: 0.0181 - acc: 1.000 - ETA: 1s - loss: 0.0841 - acc: 0.980 - ETA: 1s - loss: 0.1237 - acc: 0.965 - ETA: 1s - loss: 0.1177 - acc: 0.971 - ETA: 1s - loss: 0.1209 - acc: 0.968 - ETA: 1s - loss: 0.1197 - acc: 0.968 - ETA: 1s - loss: 0.1377 - acc: 0.959 - ETA: 1s - loss: 0.1356 - acc: 0.960 - ETA: 1s - loss: 0.1359 - acc: 0.960 - ETA: 1s - loss: 0.1307 - acc: 0.962 - ETA: 1s - loss: 0.1354 - acc: 0.960 - ETA: 1s - loss: 0.1375 - acc: 0.960 - ETA: 1s - loss: 0.1371 - acc: 0.959 - ETA: 1s - loss: 0.1398 - acc: 0.957 - ETA: 1s - loss: 0.1421 - acc: 0.955 - ETA: 1s - loss: 0.1432 - acc: 0.956 - ETA: 1s - loss: 0.1445 - acc: 0.955 - ETA: 0s - loss: 0.1501 - acc: 0.952 - ETA: 0s - loss: 0.1524 - acc: 0.951 - ETA: 0s - loss: 0.1570 - acc: 0.950 - ETA: 0s - loss: 0.1595 - acc: 0.949 - ETA: 0s - loss: 0.1589 - acc: 0.949 - ETA: 0s - loss: 0.1637 - acc: 0.948 - ETA: 0s - loss: 0.1650 - acc: 0.948 - ETA: 0s - loss: 0.1654 - acc: 0.948 - ETA: 0s - loss: 0.1663 - acc: 0.947 - ETA: 0s - loss: 0.1653 - acc: 0.947 - ETA: 0s - loss: 0.1662 - acc: 0.947 - ETA: 0s - loss: 0.1696 - acc: 0.947 - ETA: 0s - loss: 0.1679 - acc: 0.947 - ETA: 0s - loss: 0.1698 - acc: 0.946 - ETA: 0s - loss: 0.1678 - acc: 0.947 - ETA: 0s - loss: 0.1666 - acc: 0.948 - ETA: 0s - loss: 0.1677 - acc: 0.947 - ETA: 0s - loss: 0.1697 - acc: 0.946 - ETA: 0s - loss: 0.1707 - acc: 0.946 - 2s 292us/step - loss: 0.1728 - acc: 0.9454 - val_loss: 0.7358 - val_acc: 0.8000\n",
      "\n",
      "Epoch 00004: val_loss did not improve\n",
      "Epoch 5/20\n",
      "6680/6680 [==============================] - ETA: 2s - loss: 0.2816 - acc: 0.850 - ETA: 1s - loss: 0.1096 - acc: 0.959 - ETA: 1s - loss: 0.0808 - acc: 0.976 - ETA: 1s - loss: 0.0933 - acc: 0.971 - ETA: 1s - loss: 0.1034 - acc: 0.965 - ETA: 1s - loss: 0.0977 - acc: 0.967 - ETA: 1s - loss: 0.1047 - acc: 0.967 - ETA: 1s - loss: 0.1091 - acc: 0.966 - ETA: 1s - loss: 0.1080 - acc: 0.967 - ETA: 1s - loss: 0.1083 - acc: 0.969 - ETA: 1s - loss: 0.1048 - acc: 0.970 - ETA: 1s - loss: 0.1068 - acc: 0.971 - ETA: 1s - loss: 0.1025 - acc: 0.973 - ETA: 1s - loss: 0.1045 - acc: 0.973 - ETA: 1s - loss: 0.1050 - acc: 0.972 - ETA: 1s - loss: 0.1040 - acc: 0.971 - ETA: 0s - loss: 0.1079 - acc: 0.970 - ETA: 0s - loss: 0.1065 - acc: 0.970 - ETA: 0s - loss: 0.1078 - acc: 0.970 - ETA: 0s - loss: 0.1071 - acc: 0.971 - ETA: 0s - loss: 0.1090 - acc: 0.971 - ETA: 0s - loss: 0.1096 - acc: 0.970 - ETA: 0s - loss: 0.1132 - acc: 0.969 - ETA: 0s - loss: 0.1116 - acc: 0.969 - ETA: 0s - loss: 0.1133 - acc: 0.969 - ETA: 0s - loss: 0.1132 - acc: 0.969 - ETA: 0s - loss: 0.1125 - acc: 0.969 - ETA: 0s - loss: 0.1139 - acc: 0.968 - ETA: 0s - loss: 0.1118 - acc: 0.969 - ETA: 0s - loss: 0.1128 - acc: 0.969 - ETA: 0s - loss: 0.1139 - acc: 0.968 - ETA: 0s - loss: 0.1130 - acc: 0.968 - ETA: 0s - loss: 0.1157 - acc: 0.967 - ETA: 0s - loss: 0.1159 - acc: 0.967 - ETA: 0s - loss: 0.1167 - acc: 0.967 - 2s 285us/step - loss: 0.1179 - acc: 0.9666 - val_loss: 0.6961 - val_acc: 0.8192\n",
      "\n",
      "Epoch 00005: val_loss did not improve\n",
      "Epoch 6/20\n",
      "6680/6680 [==============================] - ETA: 2s - loss: 0.0055 - acc: 1.000 - ETA: 1s - loss: 0.0663 - acc: 0.986 - ETA: 1s - loss: 0.0617 - acc: 0.987 - ETA: 1s - loss: 0.0686 - acc: 0.984 - ETA: 1s - loss: 0.0677 - acc: 0.985 - ETA: 1s - loss: 0.0609 - acc: 0.987 - ETA: 1s - loss: 0.0560 - acc: 0.988 - ETA: 1s - loss: 0.0606 - acc: 0.985 - ETA: 1s - loss: 0.0586 - acc: 0.985 - ETA: 1s - loss: 0.0599 - acc: 0.985 - ETA: 1s - loss: 0.0613 - acc: 0.984 - ETA: 1s - loss: 0.0591 - acc: 0.985 - ETA: 1s - loss: 0.0653 - acc: 0.983 - ETA: 1s - loss: 0.0651 - acc: 0.983 - ETA: 1s - loss: 0.0643 - acc: 0.983 - ETA: 1s - loss: 0.0661 - acc: 0.983 - ETA: 1s - loss: 0.0680 - acc: 0.982 - ETA: 0s - loss: 0.0720 - acc: 0.980 - ETA: 0s - loss: 0.0736 - acc: 0.979 - ETA: 0s - loss: 0.0784 - acc: 0.978 - ETA: 0s - loss: 0.0796 - acc: 0.977 - ETA: 0s - loss: 0.0817 - acc: 0.976 - ETA: 0s - loss: 0.0820 - acc: 0.976 - ETA: 0s - loss: 0.0835 - acc: 0.975 - ETA: 0s - loss: 0.0853 - acc: 0.974 - ETA: 0s - loss: 0.0865 - acc: 0.973 - ETA: 0s - loss: 0.0863 - acc: 0.973 - ETA: 0s - loss: 0.0854 - acc: 0.973 - ETA: 0s - loss: 0.0850 - acc: 0.973 - ETA: 0s - loss: 0.0861 - acc: 0.972 - ETA: 0s - loss: 0.0880 - acc: 0.972 - ETA: 0s - loss: 0.0892 - acc: 0.971 - ETA: 0s - loss: 0.0883 - acc: 0.972 - ETA: 0s - loss: 0.0887 - acc: 0.971 - ETA: 0s - loss: 0.0871 - acc: 0.972 - ETA: 0s - loss: 0.0874 - acc: 0.971 - ETA: 0s - loss: 0.0875 - acc: 0.971 - ETA: 0s - loss: 0.0866 - acc: 0.971 - 2s 310us/step - loss: 0.0864 - acc: 0.9714 - val_loss: 0.7059 - val_acc: 0.8024\n",
      "\n",
      "Epoch 00006: val_loss did not improve\n",
      "Epoch 7/20\n",
      "6680/6680 [==============================] - ETA: 2s - loss: 0.2031 - acc: 0.900 - ETA: 1s - loss: 0.0623 - acc: 0.975 - ETA: 1s - loss: 0.0429 - acc: 0.986 - ETA: 1s - loss: 0.0508 - acc: 0.982 - ETA: 1s - loss: 0.0475 - acc: 0.983 - ETA: 1s - loss: 0.0539 - acc: 0.982 - ETA: 1s - loss: 0.0496 - acc: 0.984 - ETA: 1s - loss: 0.0477 - acc: 0.985 - ETA: 1s - loss: 0.0461 - acc: 0.985 - ETA: 1s - loss: 0.0501 - acc: 0.984 - ETA: 1s - loss: 0.0500 - acc: 0.984 - ETA: 1s - loss: 0.0485 - acc: 0.985 - ETA: 1s - loss: 0.0494 - acc: 0.984 - ETA: 1s - loss: 0.0522 - acc: 0.983 - ETA: 1s - loss: 0.0528 - acc: 0.983 - ETA: 1s - loss: 0.0526 - acc: 0.984 - ETA: 1s - loss: 0.0517 - acc: 0.985 - ETA: 1s - loss: 0.0545 - acc: 0.985 - ETA: 1s - loss: 0.0558 - acc: 0.984 - ETA: 1s - loss: 0.0563 - acc: 0.984 - ETA: 1s - loss: 0.0565 - acc: 0.984 - ETA: 0s - loss: 0.0568 - acc: 0.984 - ETA: 0s - loss: 0.0578 - acc: 0.983 - ETA: 0s - loss: 0.0592 - acc: 0.982 - ETA: 0s - loss: 0.0581 - acc: 0.983 - ETA: 0s - loss: 0.0574 - acc: 0.983 - ETA: 0s - loss: 0.0570 - acc: 0.983 - ETA: 0s - loss: 0.0574 - acc: 0.983 - ETA: 0s - loss: 0.0575 - acc: 0.983 - ETA: 0s - loss: 0.0579 - acc: 0.983 - ETA: 0s - loss: 0.0573 - acc: 0.983 - ETA: 0s - loss: 0.0582 - acc: 0.983 - ETA: 0s - loss: 0.0601 - acc: 0.982 - ETA: 0s - loss: 0.0613 - acc: 0.982 - ETA: 0s - loss: 0.0621 - acc: 0.982 - ETA: 0s - loss: 0.0622 - acc: 0.982 - ETA: 0s - loss: 0.0624 - acc: 0.981 - ETA: 0s - loss: 0.0620 - acc: 0.982 - ETA: 0s - loss: 0.0650 - acc: 0.981 - ETA: 0s - loss: 0.0653 - acc: 0.980 - 2s 327us/step - loss: 0.0656 - acc: 0.9810 - val_loss: 0.6953 - val_acc: 0.8156\n",
      "\n",
      "Epoch 00007: val_loss did not improve\n",
      "Epoch 8/20\n",
      "6680/6680 [==============================] - ETA: 2s - loss: 0.0073 - acc: 1.000 - ETA: 1s - loss: 0.0305 - acc: 0.995 - ETA: 1s - loss: 0.0278 - acc: 0.997 - ETA: 1s - loss: 0.0287 - acc: 0.994 - ETA: 1s - loss: 0.0293 - acc: 0.992 - ETA: 1s - loss: 0.0334 - acc: 0.991 - ETA: 1s - loss: 0.0350 - acc: 0.990 - ETA: 1s - loss: 0.0362 - acc: 0.990 - ETA: 1s - loss: 0.0361 - acc: 0.989 - ETA: 1s - loss: 0.0385 - acc: 0.988 - ETA: 1s - loss: 0.0383 - acc: 0.988 - ETA: 1s - loss: 0.0375 - acc: 0.989 - ETA: 1s - loss: 0.0361 - acc: 0.989 - ETA: 1s - loss: 0.0361 - acc: 0.989 - ETA: 1s - loss: 0.0352 - acc: 0.990 - ETA: 1s - loss: 0.0374 - acc: 0.989 - ETA: 1s - loss: 0.0373 - acc: 0.990 - ETA: 1s - loss: 0.0365 - acc: 0.990 - ETA: 1s - loss: 0.0365 - acc: 0.990 - ETA: 1s - loss: 0.0373 - acc: 0.990 - ETA: 0s - loss: 0.0367 - acc: 0.989 - ETA: 0s - loss: 0.0363 - acc: 0.989 - ETA: 0s - loss: 0.0350 - acc: 0.990 - ETA: 0s - loss: 0.0361 - acc: 0.990 - ETA: 0s - loss: 0.0364 - acc: 0.990 - ETA: 0s - loss: 0.0375 - acc: 0.990 - ETA: 0s - loss: 0.0380 - acc: 0.989 - ETA: 0s - loss: 0.0387 - acc: 0.989 - ETA: 0s - loss: 0.0396 - acc: 0.989 - ETA: 0s - loss: 0.0392 - acc: 0.989 - ETA: 0s - loss: 0.0395 - acc: 0.989 - ETA: 0s - loss: 0.0404 - acc: 0.988 - ETA: 0s - loss: 0.0425 - acc: 0.987 - ETA: 0s - loss: 0.0452 - acc: 0.987 - ETA: 0s - loss: 0.0457 - acc: 0.987 - ETA: 0s - loss: 0.0456 - acc: 0.987 - ETA: 0s - loss: 0.0462 - acc: 0.987 - 2s 298us/step - loss: 0.0463 - acc: 0.9870 - val_loss: 0.7407 - val_acc: 0.8180\n",
      "\n",
      "Epoch 00008: val_loss did not improve\n",
      "Epoch 9/20\n",
      "6680/6680 [==============================] - ETA: 2s - loss: 0.0293 - acc: 1.000 - ETA: 1s - loss: 0.0170 - acc: 1.000 - ETA: 1s - loss: 0.0214 - acc: 0.997 - ETA: 1s - loss: 0.0363 - acc: 0.994 - ETA: 1s - loss: 0.0326 - acc: 0.994 - ETA: 1s - loss: 0.0304 - acc: 0.993 - ETA: 1s - loss: 0.0318 - acc: 0.992 - ETA: 1s - loss: 0.0369 - acc: 0.989 - ETA: 1s - loss: 0.0360 - acc: 0.989 - ETA: 1s - loss: 0.0362 - acc: 0.989 - ETA: 1s - loss: 0.0339 - acc: 0.989 - ETA: 1s - loss: 0.0329 - acc: 0.990 - ETA: 1s - loss: 0.0321 - acc: 0.990 - ETA: 1s - loss: 0.0311 - acc: 0.990 - ETA: 1s - loss: 0.0331 - acc: 0.989 - ETA: 1s - loss: 0.0327 - acc: 0.990 - ETA: 0s - loss: 0.0323 - acc: 0.990 - ETA: 0s - loss: 0.0319 - acc: 0.990 - ETA: 0s - loss: 0.0320 - acc: 0.990 - ETA: 0s - loss: 0.0313 - acc: 0.991 - ETA: 0s - loss: 0.0310 - acc: 0.991 - ETA: 0s - loss: 0.0320 - acc: 0.991 - ETA: 0s - loss: 0.0318 - acc: 0.991 - ETA: 0s - loss: 0.0314 - acc: 0.991 - ETA: 0s - loss: 0.0333 - acc: 0.990 - ETA: 0s - loss: 0.0334 - acc: 0.990 - ETA: 0s - loss: 0.0345 - acc: 0.990 - ETA: 0s - loss: 0.0347 - acc: 0.990 - ETA: 0s - loss: 0.0349 - acc: 0.990 - ETA: 0s - loss: 0.0354 - acc: 0.989 - ETA: 0s - loss: 0.0353 - acc: 0.989 - ETA: 0s - loss: 0.0356 - acc: 0.989 - ETA: 0s - loss: 0.0355 - acc: 0.989 - ETA: 0s - loss: 0.0356 - acc: 0.989 - ETA: 0s - loss: 0.0354 - acc: 0.989 - 2s 283us/step - loss: 0.0354 - acc: 0.9895 - val_loss: 0.7242 - val_acc: 0.8311\n",
      "\n",
      "Epoch 00009: val_loss did not improve\n",
      "Epoch 10/20\n",
      "6680/6680 [==============================] - ETA: 2s - loss: 0.0018 - acc: 1.000 - ETA: 1s - loss: 0.0168 - acc: 1.000 - ETA: 1s - loss: 0.0175 - acc: 0.997 - ETA: 1s - loss: 0.0169 - acc: 0.998 - ETA: 1s - loss: 0.0214 - acc: 0.997 - ETA: 1s - loss: 0.0184 - acc: 0.997 - ETA: 1s - loss: 0.0214 - acc: 0.997 - ETA: 1s - loss: 0.0207 - acc: 0.997 - ETA: 1s - loss: 0.0198 - acc: 0.998 - ETA: 1s - loss: 0.0228 - acc: 0.997 - ETA: 1s - loss: 0.0233 - acc: 0.996 - ETA: 1s - loss: 0.0236 - acc: 0.995 - ETA: 1s - loss: 0.0249 - acc: 0.995 - ETA: 1s - loss: 0.0243 - acc: 0.995 - ETA: 1s - loss: 0.0254 - acc: 0.994 - ETA: 1s - loss: 0.0248 - acc: 0.994 - ETA: 1s - loss: 0.0240 - acc: 0.995 - ETA: 0s - loss: 0.0238 - acc: 0.995 - ETA: 0s - loss: 0.0236 - acc: 0.995 - ETA: 0s - loss: 0.0231 - acc: 0.995 - ETA: 0s - loss: 0.0227 - acc: 0.995 - ETA: 0s - loss: 0.0238 - acc: 0.995 - ETA: 0s - loss: 0.0233 - acc: 0.995 - ETA: 0s - loss: 0.0231 - acc: 0.995 - ETA: 0s - loss: 0.0236 - acc: 0.994 - ETA: 0s - loss: 0.0232 - acc: 0.994 - ETA: 0s - loss: 0.0236 - acc: 0.994 - ETA: 0s - loss: 0.0235 - acc: 0.994 - ETA: 0s - loss: 0.0243 - acc: 0.994 - ETA: 0s - loss: 0.0253 - acc: 0.994 - ETA: 0s - loss: 0.0256 - acc: 0.994 - ETA: 0s - loss: 0.0255 - acc: 0.994 - ETA: 0s - loss: 0.0265 - acc: 0.993 - ETA: 0s - loss: 0.0266 - acc: 0.993 - ETA: 0s - loss: 0.0265 - acc: 0.993 - 2s 284us/step - loss: 0.0265 - acc: 0.9934 - val_loss: 0.7486 - val_acc: 0.8060\n",
      "\n",
      "Epoch 00010: val_loss did not improve\n",
      "Epoch 11/20\n"
     ]
    },
    {
     "name": "stdout",
     "output_type": "stream",
     "text": [
      "6680/6680 [==============================] - ETA: 2s - loss: 0.1315 - acc: 0.950 - ETA: 1s - loss: 0.0179 - acc: 0.995 - ETA: 1s - loss: 0.0135 - acc: 0.997 - ETA: 1s - loss: 0.0118 - acc: 0.998 - ETA: 1s - loss: 0.0139 - acc: 0.996 - ETA: 1s - loss: 0.0171 - acc: 0.994 - ETA: 1s - loss: 0.0160 - acc: 0.995 - ETA: 1s - loss: 0.0147 - acc: 0.996 - ETA: 1s - loss: 0.0146 - acc: 0.996 - ETA: 1s - loss: 0.0149 - acc: 0.995 - ETA: 1s - loss: 0.0188 - acc: 0.994 - ETA: 1s - loss: 0.0189 - acc: 0.994 - ETA: 1s - loss: 0.0182 - acc: 0.995 - ETA: 1s - loss: 0.0186 - acc: 0.995 - ETA: 1s - loss: 0.0178 - acc: 0.995 - ETA: 1s - loss: 0.0174 - acc: 0.995 - ETA: 1s - loss: 0.0181 - acc: 0.995 - ETA: 0s - loss: 0.0188 - acc: 0.995 - ETA: 0s - loss: 0.0183 - acc: 0.995 - ETA: 0s - loss: 0.0183 - acc: 0.995 - ETA: 0s - loss: 0.0178 - acc: 0.995 - ETA: 0s - loss: 0.0174 - acc: 0.995 - ETA: 0s - loss: 0.0182 - acc: 0.995 - ETA: 0s - loss: 0.0189 - acc: 0.994 - ETA: 0s - loss: 0.0190 - acc: 0.994 - ETA: 0s - loss: 0.0204 - acc: 0.994 - ETA: 0s - loss: 0.0219 - acc: 0.994 - ETA: 0s - loss: 0.0220 - acc: 0.993 - ETA: 0s - loss: 0.0223 - acc: 0.993 - ETA: 0s - loss: 0.0219 - acc: 0.994 - ETA: 0s - loss: 0.0220 - acc: 0.993 - ETA: 0s - loss: 0.0216 - acc: 0.994 - ETA: 0s - loss: 0.0213 - acc: 0.994 - ETA: 0s - loss: 0.0210 - acc: 0.994 - ETA: 0s - loss: 0.0207 - acc: 0.994 - ETA: 0s - loss: 0.0208 - acc: 0.994 - 2s 290us/step - loss: 0.0210 - acc: 0.9942 - val_loss: 0.7933 - val_acc: 0.8216\n",
      "\n",
      "Epoch 00011: val_loss did not improve\n",
      "Epoch 12/20\n",
      "6680/6680 [==============================] - ETA: 2s - loss: 7.2163e-04 - acc: 1.000 - ETA: 1s - loss: 0.0070 - acc: 1.0000    - ETA: 1s - loss: 0.0108 - acc: 0.997 - ETA: 1s - loss: 0.0144 - acc: 0.996 - ETA: 1s - loss: 0.0136 - acc: 0.995 - ETA: 1s - loss: 0.0123 - acc: 0.996 - ETA: 1s - loss: 0.0123 - acc: 0.997 - ETA: 1s - loss: 0.0123 - acc: 0.996 - ETA: 1s - loss: 0.0115 - acc: 0.997 - ETA: 1s - loss: 0.0113 - acc: 0.997 - ETA: 1s - loss: 0.0113 - acc: 0.996 - ETA: 1s - loss: 0.0139 - acc: 0.996 - ETA: 1s - loss: 0.0168 - acc: 0.995 - ETA: 1s - loss: 0.0162 - acc: 0.995 - ETA: 1s - loss: 0.0159 - acc: 0.995 - ETA: 1s - loss: 0.0153 - acc: 0.995 - ETA: 1s - loss: 0.0147 - acc: 0.996 - ETA: 0s - loss: 0.0142 - acc: 0.996 - ETA: 0s - loss: 0.0145 - acc: 0.996 - ETA: 0s - loss: 0.0143 - acc: 0.996 - ETA: 0s - loss: 0.0147 - acc: 0.996 - ETA: 0s - loss: 0.0161 - acc: 0.995 - ETA: 0s - loss: 0.0161 - acc: 0.995 - ETA: 0s - loss: 0.0160 - acc: 0.995 - ETA: 0s - loss: 0.0162 - acc: 0.995 - ETA: 0s - loss: 0.0159 - acc: 0.995 - ETA: 0s - loss: 0.0158 - acc: 0.995 - ETA: 0s - loss: 0.0155 - acc: 0.995 - ETA: 0s - loss: 0.0153 - acc: 0.995 - ETA: 0s - loss: 0.0152 - acc: 0.995 - ETA: 0s - loss: 0.0151 - acc: 0.995 - ETA: 0s - loss: 0.0149 - acc: 0.995 - ETA: 0s - loss: 0.0148 - acc: 0.995 - ETA: 0s - loss: 0.0145 - acc: 0.995 - ETA: 0s - loss: 0.0145 - acc: 0.995 - ETA: 0s - loss: 0.0150 - acc: 0.995 - ETA: 0s - loss: 0.0160 - acc: 0.995 - 2s 297us/step - loss: 0.0159 - acc: 0.9957 - val_loss: 0.8046 - val_acc: 0.8228\n",
      "\n",
      "Epoch 00012: val_loss did not improve\n",
      "Epoch 13/20\n",
      "6680/6680 [==============================] - ETA: 2s - loss: 0.0014 - acc: 1.000 - ETA: 1s - loss: 0.0039 - acc: 1.000 - ETA: 1s - loss: 0.0043 - acc: 1.000 - ETA: 1s - loss: 0.0060 - acc: 0.998 - ETA: 1s - loss: 0.0057 - acc: 0.998 - ETA: 1s - loss: 0.0057 - acc: 0.998 - ETA: 1s - loss: 0.0094 - acc: 0.997 - ETA: 1s - loss: 0.0101 - acc: 0.996 - ETA: 1s - loss: 0.0106 - acc: 0.996 - ETA: 1s - loss: 0.0102 - acc: 0.997 - ETA: 1s - loss: 0.0102 - acc: 0.997 - ETA: 1s - loss: 0.0098 - acc: 0.997 - ETA: 1s - loss: 0.0133 - acc: 0.996 - ETA: 1s - loss: 0.0127 - acc: 0.997 - ETA: 1s - loss: 0.0136 - acc: 0.996 - ETA: 1s - loss: 0.0130 - acc: 0.997 - ETA: 1s - loss: 0.0135 - acc: 0.996 - ETA: 0s - loss: 0.0144 - acc: 0.996 - ETA: 0s - loss: 0.0144 - acc: 0.996 - ETA: 0s - loss: 0.0140 - acc: 0.996 - ETA: 0s - loss: 0.0137 - acc: 0.996 - ETA: 0s - loss: 0.0147 - acc: 0.996 - ETA: 0s - loss: 0.0146 - acc: 0.996 - ETA: 0s - loss: 0.0146 - acc: 0.996 - ETA: 0s - loss: 0.0149 - acc: 0.996 - ETA: 0s - loss: 0.0146 - acc: 0.996 - ETA: 0s - loss: 0.0153 - acc: 0.996 - ETA: 0s - loss: 0.0150 - acc: 0.996 - ETA: 0s - loss: 0.0149 - acc: 0.996 - ETA: 0s - loss: 0.0145 - acc: 0.996 - ETA: 0s - loss: 0.0143 - acc: 0.996 - ETA: 0s - loss: 0.0146 - acc: 0.996 - ETA: 0s - loss: 0.0144 - acc: 0.996 - ETA: 0s - loss: 0.0142 - acc: 0.996 - ETA: 0s - loss: 0.0139 - acc: 0.996 - ETA: 0s - loss: 0.0138 - acc: 0.996 - 2s 288us/step - loss: 0.0137 - acc: 0.9966 - val_loss: 0.8306 - val_acc: 0.8216\n",
      "\n",
      "Epoch 00013: val_loss did not improve\n",
      "Epoch 14/20\n",
      "6680/6680 [==============================] - ETA: 2s - loss: 8.9228e-04 - acc: 1.000 - ETA: 1s - loss: 0.0026 - acc: 1.0000    - ETA: 1s - loss: 0.0123 - acc: 0.994 - ETA: 1s - loss: 0.0099 - acc: 0.996 - ETA: 1s - loss: 0.0078 - acc: 0.997 - ETA: 1s - loss: 0.0070 - acc: 0.997 - ETA: 1s - loss: 0.0075 - acc: 0.997 - ETA: 1s - loss: 0.0103 - acc: 0.996 - ETA: 1s - loss: 0.0109 - acc: 0.996 - ETA: 1s - loss: 0.0101 - acc: 0.996 - ETA: 1s - loss: 0.0104 - acc: 0.996 - ETA: 1s - loss: 0.0098 - acc: 0.996 - ETA: 1s - loss: 0.0093 - acc: 0.997 - ETA: 1s - loss: 0.0098 - acc: 0.996 - ETA: 1s - loss: 0.0094 - acc: 0.997 - ETA: 1s - loss: 0.0100 - acc: 0.996 - ETA: 1s - loss: 0.0096 - acc: 0.997 - ETA: 0s - loss: 0.0092 - acc: 0.997 - ETA: 0s - loss: 0.0095 - acc: 0.997 - ETA: 0s - loss: 0.0094 - acc: 0.997 - ETA: 0s - loss: 0.0093 - acc: 0.997 - ETA: 0s - loss: 0.0100 - acc: 0.997 - ETA: 0s - loss: 0.0098 - acc: 0.997 - ETA: 0s - loss: 0.0095 - acc: 0.997 - ETA: 0s - loss: 0.0100 - acc: 0.997 - ETA: 0s - loss: 0.0099 - acc: 0.997 - ETA: 0s - loss: 0.0097 - acc: 0.997 - ETA: 0s - loss: 0.0099 - acc: 0.996 - ETA: 0s - loss: 0.0116 - acc: 0.996 - ETA: 0s - loss: 0.0114 - acc: 0.996 - ETA: 0s - loss: 0.0112 - acc: 0.997 - ETA: 0s - loss: 0.0110 - acc: 0.997 - ETA: 0s - loss: 0.0111 - acc: 0.997 - ETA: 0s - loss: 0.0111 - acc: 0.997 - ETA: 0s - loss: 0.0115 - acc: 0.996 - ETA: 0s - loss: 0.0113 - acc: 0.996 - 2s 288us/step - loss: 0.0112 - acc: 0.9969 - val_loss: 0.8529 - val_acc: 0.8240\n",
      "\n",
      "Epoch 00014: val_loss did not improve\n",
      "Epoch 15/20\n",
      "6680/6680 [==============================] - ETA: 2s - loss: 0.0012 - acc: 1.000 - ETA: 1s - loss: 0.0262 - acc: 0.995 - ETA: 1s - loss: 0.0146 - acc: 0.997 - ETA: 1s - loss: 0.0105 - acc: 0.998 - ETA: 1s - loss: 0.0112 - acc: 0.997 - ETA: 1s - loss: 0.0096 - acc: 0.997 - ETA: 1s - loss: 0.0088 - acc: 0.998 - ETA: 1s - loss: 0.0079 - acc: 0.998 - ETA: 1s - loss: 0.0081 - acc: 0.998 - ETA: 1s - loss: 0.0076 - acc: 0.998 - ETA: 1s - loss: 0.0074 - acc: 0.998 - ETA: 1s - loss: 0.0071 - acc: 0.998 - ETA: 1s - loss: 0.0081 - acc: 0.998 - ETA: 1s - loss: 0.0078 - acc: 0.998 - ETA: 1s - loss: 0.0076 - acc: 0.998 - ETA: 1s - loss: 0.0081 - acc: 0.998 - ETA: 1s - loss: 0.0085 - acc: 0.998 - ETA: 0s - loss: 0.0095 - acc: 0.997 - ETA: 0s - loss: 0.0093 - acc: 0.998 - ETA: 0s - loss: 0.0088 - acc: 0.998 - ETA: 0s - loss: 0.0085 - acc: 0.998 - ETA: 0s - loss: 0.0084 - acc: 0.998 - ETA: 0s - loss: 0.0085 - acc: 0.998 - ETA: 0s - loss: 0.0083 - acc: 0.998 - ETA: 0s - loss: 0.0091 - acc: 0.998 - ETA: 0s - loss: 0.0088 - acc: 0.998 - ETA: 0s - loss: 0.0088 - acc: 0.998 - ETA: 0s - loss: 0.0087 - acc: 0.998 - ETA: 0s - loss: 0.0085 - acc: 0.998 - ETA: 0s - loss: 0.0087 - acc: 0.998 - ETA: 0s - loss: 0.0091 - acc: 0.997 - ETA: 0s - loss: 0.0089 - acc: 0.997 - ETA: 0s - loss: 0.0087 - acc: 0.998 - ETA: 0s - loss: 0.0086 - acc: 0.998 - ETA: 0s - loss: 0.0084 - acc: 0.998 - ETA: 0s - loss: 0.0087 - acc: 0.997 - ETA: 0s - loss: 0.0086 - acc: 0.997 - 2s 295us/step - loss: 0.0086 - acc: 0.9978 - val_loss: 0.8416 - val_acc: 0.8180\n",
      "\n",
      "Epoch 00015: val_loss did not improve\n",
      "Epoch 16/20\n",
      "6680/6680 [==============================] - ETA: 2s - loss: 0.0027 - acc: 1.000 - ETA: 1s - loss: 0.0021 - acc: 1.000 - ETA: 1s - loss: 0.0019 - acc: 1.000 - ETA: 1s - loss: 0.0016 - acc: 1.000 - ETA: 1s - loss: 0.0019 - acc: 1.000 - ETA: 1s - loss: 0.0056 - acc: 0.999 - ETA: 1s - loss: 0.0051 - acc: 0.999 - ETA: 1s - loss: 0.0047 - acc: 0.999 - ETA: 1s - loss: 0.0044 - acc: 0.999 - ETA: 1s - loss: 0.0061 - acc: 0.998 - ETA: 1s - loss: 0.0061 - acc: 0.998 - ETA: 1s - loss: 0.0059 - acc: 0.998 - ETA: 1s - loss: 0.0075 - acc: 0.997 - ETA: 1s - loss: 0.0072 - acc: 0.998 - ETA: 1s - loss: 0.0070 - acc: 0.998 - ETA: 1s - loss: 0.0099 - acc: 0.997 - ETA: 1s - loss: 0.0097 - acc: 0.997 - ETA: 0s - loss: 0.0102 - acc: 0.997 - ETA: 0s - loss: 0.0097 - acc: 0.997 - ETA: 0s - loss: 0.0094 - acc: 0.997 - ETA: 0s - loss: 0.0091 - acc: 0.997 - ETA: 0s - loss: 0.0087 - acc: 0.998 - ETA: 0s - loss: 0.0088 - acc: 0.997 - ETA: 0s - loss: 0.0086 - acc: 0.997 - ETA: 0s - loss: 0.0083 - acc: 0.998 - ETA: 0s - loss: 0.0081 - acc: 0.998 - ETA: 0s - loss: 0.0080 - acc: 0.998 - ETA: 0s - loss: 0.0078 - acc: 0.998 - ETA: 0s - loss: 0.0079 - acc: 0.997 - ETA: 0s - loss: 0.0079 - acc: 0.997 - ETA: 0s - loss: 0.0077 - acc: 0.997 - ETA: 0s - loss: 0.0076 - acc: 0.997 - ETA: 0s - loss: 0.0074 - acc: 0.998 - ETA: 0s - loss: 0.0072 - acc: 0.998 - ETA: 0s - loss: 0.0072 - acc: 0.998 - ETA: 0s - loss: 0.0070 - acc: 0.998 - 2s 289us/step - loss: 0.0070 - acc: 0.9982 - val_loss: 0.8267 - val_acc: 0.8251\n",
      "\n",
      "Epoch 00016: val_loss did not improve\n",
      "Epoch 17/20\n",
      "6680/6680 [==============================] - ETA: 2s - loss: 9.7671e-04 - acc: 1.000 - ETA: 1s - loss: 0.0140 - acc: 0.9955    - ETA: 1s - loss: 0.0105 - acc: 0.995 - ETA: 1s - loss: 0.0076 - acc: 0.996 - ETA: 1s - loss: 0.0062 - acc: 0.997 - ETA: 1s - loss: 0.0053 - acc: 0.997 - ETA: 1s - loss: 0.0047 - acc: 0.998 - ETA: 1s - loss: 0.0042 - acc: 0.998 - ETA: 1s - loss: 0.0038 - acc: 0.998 - ETA: 1s - loss: 0.0036 - acc: 0.998 - ETA: 1s - loss: 0.0040 - acc: 0.998 - ETA: 1s - loss: 0.0038 - acc: 0.998 - ETA: 1s - loss: 0.0037 - acc: 0.998 - ETA: 1s - loss: 0.0042 - acc: 0.998 - ETA: 1s - loss: 0.0039 - acc: 0.998 - ETA: 1s - loss: 0.0039 - acc: 0.998 - ETA: 1s - loss: 0.0042 - acc: 0.998 - ETA: 0s - loss: 0.0069 - acc: 0.998 - ETA: 0s - loss: 0.0067 - acc: 0.998 - ETA: 0s - loss: 0.0065 - acc: 0.998 - ETA: 0s - loss: 0.0063 - acc: 0.998 - ETA: 0s - loss: 0.0070 - acc: 0.998 - ETA: 0s - loss: 0.0073 - acc: 0.997 - ETA: 0s - loss: 0.0071 - acc: 0.998 - ETA: 0s - loss: 0.0069 - acc: 0.998 - ETA: 0s - loss: 0.0067 - acc: 0.998 - ETA: 0s - loss: 0.0066 - acc: 0.998 - ETA: 0s - loss: 0.0065 - acc: 0.998 - ETA: 0s - loss: 0.0068 - acc: 0.997 - ETA: 0s - loss: 0.0067 - acc: 0.998 - ETA: 0s - loss: 0.0071 - acc: 0.997 - ETA: 0s - loss: 0.0083 - acc: 0.997 - ETA: 0s - loss: 0.0081 - acc: 0.997 - ETA: 0s - loss: 0.0080 - acc: 0.997 - ETA: 0s - loss: 0.0079 - acc: 0.997 - ETA: 0s - loss: 0.0077 - acc: 0.997 - 2s 288us/step - loss: 0.0077 - acc: 0.9978 - val_loss: 0.8601 - val_acc: 0.8311\n",
      "\n",
      "Epoch 00017: val_loss did not improve\n",
      "Epoch 18/20\n",
      "6680/6680 [==============================] - ETA: 2s - loss: 1.8499e-04 - acc: 1.000 - ETA: 1s - loss: 0.0025 - acc: 1.0000    - ETA: 1s - loss: 0.0049 - acc: 0.997 - ETA: 1s - loss: 0.0037 - acc: 0.998 - ETA: 1s - loss: 0.0083 - acc: 0.996 - ETA: 1s - loss: 0.0076 - acc: 0.995 - ETA: 1s - loss: 0.0068 - acc: 0.996 - ETA: 1s - loss: 0.0059 - acc: 0.997 - ETA: 1s - loss: 0.0090 - acc: 0.996 - ETA: 1s - loss: 0.0086 - acc: 0.995 - ETA: 1s - loss: 0.0084 - acc: 0.996 - ETA: 1s - loss: 0.0077 - acc: 0.996 - ETA: 1s - loss: 0.0079 - acc: 0.996 - ETA: 1s - loss: 0.0075 - acc: 0.996 - ETA: 1s - loss: 0.0079 - acc: 0.996 - ETA: 1s - loss: 0.0083 - acc: 0.996 - ETA: 1s - loss: 0.0078 - acc: 0.996 - ETA: 0s - loss: 0.0075 - acc: 0.996 - ETA: 0s - loss: 0.0071 - acc: 0.997 - ETA: 0s - loss: 0.0072 - acc: 0.996 - ETA: 0s - loss: 0.0069 - acc: 0.997 - ETA: 0s - loss: 0.0066 - acc: 0.997 - ETA: 0s - loss: 0.0063 - acc: 0.997 - ETA: 0s - loss: 0.0061 - acc: 0.997 - ETA: 0s - loss: 0.0062 - acc: 0.997 - ETA: 0s - loss: 0.0060 - acc: 0.997 - ETA: 0s - loss: 0.0059 - acc: 0.997 - ETA: 0s - loss: 0.0057 - acc: 0.997 - ETA: 0s - loss: 0.0055 - acc: 0.997 - ETA: 0s - loss: 0.0054 - acc: 0.997 - ETA: 0s - loss: 0.0054 - acc: 0.997 - ETA: 0s - loss: 0.0052 - acc: 0.997 - ETA: 0s - loss: 0.0051 - acc: 0.998 - ETA: 0s - loss: 0.0050 - acc: 0.998 - ETA: 0s - loss: 0.0054 - acc: 0.997 - ETA: 0s - loss: 0.0053 - acc: 0.997 - 2s 288us/step - loss: 0.0053 - acc: 0.9979 - val_loss: 0.8791 - val_acc: 0.8311\n",
      "\n",
      "Epoch 00018: val_loss did not improve\n",
      "Epoch 19/20\n",
      "6680/6680 [==============================] - ETA: 2s - loss: 4.5150e-04 - acc: 1.000 - ETA: 1s - loss: 0.0012 - acc: 1.0000    - ETA: 1s - loss: 0.0010 - acc: 1.000 - ETA: 1s - loss: 0.0041 - acc: 0.998 - ETA: 1s - loss: 0.0187 - acc: 0.996 - ETA: 1s - loss: 0.0159 - acc: 0.996 - ETA: 1s - loss: 0.0149 - acc: 0.996 - ETA: 1s - loss: 0.0129 - acc: 0.996 - ETA: 1s - loss: 0.0114 - acc: 0.997 - ETA: 1s - loss: 0.0104 - acc: 0.997 - ETA: 1s - loss: 0.0095 - acc: 0.997 - ETA: 1s - loss: 0.0101 - acc: 0.997 - ETA: 1s - loss: 0.0109 - acc: 0.996 - ETA: 1s - loss: 0.0104 - acc: 0.997 - ETA: 1s - loss: 0.0096 - acc: 0.997 - ETA: 1s - loss: 0.0108 - acc: 0.997 - ETA: 1s - loss: 0.0101 - acc: 0.997 - ETA: 1s - loss: 0.0096 - acc: 0.997 - ETA: 0s - loss: 0.0090 - acc: 0.997 - ETA: 0s - loss: 0.0091 - acc: 0.997 - ETA: 0s - loss: 0.0088 - acc: 0.997 - ETA: 0s - loss: 0.0084 - acc: 0.997 - ETA: 0s - loss: 0.0081 - acc: 0.997 - ETA: 0s - loss: 0.0078 - acc: 0.997 - ETA: 0s - loss: 0.0090 - acc: 0.997 - ETA: 0s - loss: 0.0087 - acc: 0.997 - ETA: 0s - loss: 0.0084 - acc: 0.997 - ETA: 0s - loss: 0.0081 - acc: 0.997 - ETA: 0s - loss: 0.0078 - acc: 0.998 - ETA: 0s - loss: 0.0076 - acc: 0.998 - ETA: 0s - loss: 0.0075 - acc: 0.998 - ETA: 0s - loss: 0.0073 - acc: 0.998 - ETA: 0s - loss: 0.0071 - acc: 0.998 - ETA: 0s - loss: 0.0077 - acc: 0.998 - ETA: 0s - loss: 0.0075 - acc: 0.998 - ETA: 0s - loss: 0.0074 - acc: 0.998 - ETA: 0s - loss: 0.0072 - acc: 0.998 - ETA: 0s - loss: 0.0070 - acc: 0.998 - 2s 305us/step - loss: 0.0070 - acc: 0.9984 - val_loss: 0.9150 - val_acc: 0.8383\n",
      "\n",
      "Epoch 00019: val_loss did not improve\n",
      "Epoch 20/20\n",
      "6680/6680 [==============================] - ETA: 2s - loss: 1.7811e-05 - acc: 1.000 - ETA: 1s - loss: 3.7830e-04 - acc: 1.000 - ETA: 1s - loss: 3.9444e-04 - acc: 1.000 - ETA: 1s - loss: 4.7234e-04 - acc: 1.000 - ETA: 1s - loss: 4.8487e-04 - acc: 1.000 - ETA: 1s - loss: 7.1744e-04 - acc: 1.000 - ETA: 1s - loss: 0.0012 - acc: 1.0000    - ETA: 1s - loss: 0.0010 - acc: 1.000 - ETA: 1s - loss: 0.0015 - acc: 0.999 - ETA: 1s - loss: 0.0014 - acc: 0.999 - ETA: 1s - loss: 0.0032 - acc: 0.999 - ETA: 1s - loss: 0.0029 - acc: 0.999 - ETA: 1s - loss: 0.0032 - acc: 0.999 - ETA: 1s - loss: 0.0043 - acc: 0.998 - ETA: 1s - loss: 0.0042 - acc: 0.998 - ETA: 1s - loss: 0.0062 - acc: 0.998 - ETA: 1s - loss: 0.0068 - acc: 0.998 - ETA: 0s - loss: 0.0064 - acc: 0.998 - ETA: 0s - loss: 0.0063 - acc: 0.998 - ETA: 0s - loss: 0.0060 - acc: 0.998 - ETA: 0s - loss: 0.0057 - acc: 0.998 - ETA: 0s - loss: 0.0055 - acc: 0.998 - ETA: 0s - loss: 0.0053 - acc: 0.998 - ETA: 0s - loss: 0.0051 - acc: 0.998 - ETA: 0s - loss: 0.0049 - acc: 0.998 - ETA: 0s - loss: 0.0048 - acc: 0.999 - ETA: 0s - loss: 0.0046 - acc: 0.999 - ETA: 0s - loss: 0.0060 - acc: 0.998 - ETA: 0s - loss: 0.0064 - acc: 0.998 - ETA: 0s - loss: 0.0063 - acc: 0.998 - ETA: 0s - loss: 0.0061 - acc: 0.998 - ETA: 0s - loss: 0.0066 - acc: 0.998 - ETA: 0s - loss: 0.0064 - acc: 0.998 - ETA: 0s - loss: 0.0062 - acc: 0.998 - ETA: 0s - loss: 0.0060 - acc: 0.998 - 2s 283us/step - loss: 0.0059 - acc: 0.9987 - val_loss: 0.9264 - val_acc: 0.8371\n",
      "\n",
      "Epoch 00020: val_loss did not improve\n"
     ]
    },
    {
     "data": {
      "text/plain": [
       "<keras.callbacks.History at 0x4121d00cc0>"
      ]
     },
     "execution_count": 258,
     "metadata": {},
     "output_type": "execute_result"
    }
   ],
   "source": [
    "### TODO: Train the model.\n",
    "checkpointer = ModelCheckpoint(filepath='saved_models/weights.best.VGG16.hdf5', \n",
    "                               verbose=1, save_best_only=True)\n",
    "\n",
    "Resnet50_model.fit(train_Resnet50, train_targets, \n",
    "          validation_data=(valid_Resnet50, valid_targets),\n",
    "          epochs=20, batch_size=20, callbacks=[checkpointer], verbose=1)"
   ]
  },
  {
   "cell_type": "markdown",
   "metadata": {},
   "source": [
    "### (IMPLEMENTATION) Load the Model with the Best Validation Loss"
   ]
  },
  {
   "cell_type": "code",
   "execution_count": 260,
   "metadata": {
    "collapsed": true
   },
   "outputs": [],
   "source": [
    "### TODO: Load the model weights with the best validation loss.\n",
    "Resnet50_model.load_weights('saved_models/weights.best.Resnet50.hdf5')"
   ]
  },
  {
   "cell_type": "markdown",
   "metadata": {},
   "source": [
    "### (IMPLEMENTATION) Test the Model\n",
    "\n",
    "Try out your model on the test dataset of dog images. Ensure that your test accuracy is greater than 60%."
   ]
  },
  {
   "cell_type": "code",
   "execution_count": 261,
   "metadata": {},
   "outputs": [
    {
     "name": "stdout",
     "output_type": "stream",
     "text": [
      "Test accuracy: 79.1866%\n"
     ]
    }
   ],
   "source": [
    "### TODO: Calculate classification accuracy on the test dataset.\n",
    "Resnet50_predictions = [np.argmax(Resnet50_model.predict(np.expand_dims(feature, axis=0))) for feature in test_Resnet50]\n",
    "\n",
    "# report test accuracy\n",
    "test_accuracy = 100*np.sum(np.array(Resnet50_predictions)==np.argmax(test_targets, axis=1))/len(Resnet50_predictions)\n",
    "print('Test accuracy: %.4f%%' % test_accuracy)"
   ]
  },
  {
   "cell_type": "markdown",
   "metadata": {},
   "source": [
    "### (IMPLEMENTATION) Predict Dog Breed with the Model\n",
    "\n",
    "Write a function that takes an image path as input and returns the dog breed (`Affenpinscher`, `Afghan_hound`, etc) that is predicted by your model.  \n",
    "\n",
    "Similar to the analogous function in Step 5, your function should have three steps:\n",
    "1. Extract the bottleneck features corresponding to the chosen CNN model.\n",
    "2. Supply the bottleneck features as input to the model to return the predicted vector.  Note that the argmax of this prediction vector gives the index of the predicted dog breed.\n",
    "3. Use the `dog_names` array defined in Step 0 of this notebook to return the corresponding breed.\n",
    "\n",
    "The functions to extract the bottleneck features can be found in `extract_bottleneck_features.py`, and they have been imported in an earlier code cell.  To obtain the bottleneck features corresponding to your chosen CNN architecture, you need to use the function\n",
    "\n",
    "    extract_{network}\n",
    "    \n",
    "where `{network}`, in the above filename, should be one of `VGG19`, `Resnet50`, `InceptionV3`, or `Xception`."
   ]
  },
  {
   "cell_type": "code",
   "execution_count": 264,
   "metadata": {},
   "outputs": [
    {
     "name": "stdout",
     "output_type": "stream",
     "text": [
      "Downloading data from https://github.com/fchollet/deep-learning-models/releases/download/v0.2/resnet50_weights_tf_dim_ordering_tf_kernels_notop.h5\n",
      "94658560/94653016 [==============================] - ETA: 8: - ETA: 4: - ETA: 4: - ETA: 3: - ETA: 2: - ETA: 2: - ETA: 1: - ETA: 1: - ETA: 1: - ETA: 1: - ETA: 56s - ETA: 44 - ETA: 39 - ETA: 32 - ETA: 28 - ETA: 23 - ETA: 20 - ETA: 17 - ETA: 14 - ETA: 12 - ETA: 10 - ETA: 8 - ETA:  - ETA:  - ETA:  - ETA:  - ETA:  - ETA:  - ETA:  - ETA:  - ETA:  - ETA:  - ETA:  - ETA:  - ETA:  - ETA:  - ETA:  - ETA:  - ETA:  - ETA:  - ETA:  - ETA:  - ETA:  - ETA:  - ETA:  - ETA:  - ETA:  - ETA:  - ETA:  - ETA:  - ETA:  - ETA:  - ETA:  - ETA:  - ETA:  - ETA:  - ETA:  - ETA:  - ETA:  - ETA:  - 4s 0us/step\n"
     ]
    },
    {
     "data": {
      "text/plain": [
       "'Anatolian_shepherd_dog'"
      ]
     },
     "execution_count": 264,
     "metadata": {},
     "output_type": "execute_result"
    }
   ],
   "source": [
    "### TODO: Write a function that takes a path to an image as input\n",
    "### and returns the dog breed that is predicted by the model.\n",
    "\n",
    "\n",
    "def Resnet50_predict_breed(img_path):\n",
    "    # extract bottleneck features\n",
    "    bottleneck_feature = extract_Resnet50(path_to_tensor(img_path))\n",
    "    # obtain predicted vector\n",
    "    predicted_vector = Resnet50_model.predict(bottleneck_feature)\n",
    "    # return dog breed that is predicted by the model\n",
    "    return dog_names[np.argmax(predicted_vector)]\n",
    "\n",
    "Resnet50_predict_breed('dogImages/test/010.Anatolian_shepherd_dog/Anatolian_shepherd_dog_00661.jpg')"
   ]
  },
  {
   "cell_type": "markdown",
   "metadata": {},
   "source": [
    "---\n",
    "<a id='step6'></a>\n",
    "## Step 6: Write your Algorithm\n",
    "\n",
    "Write an algorithm that accepts a file path to an image and first determines whether the image contains a human, dog, or neither.  Then,\n",
    "- if a __dog__ is detected in the image, return the predicted breed.\n",
    "- if a __human__ is detected in the image, return the resembling dog breed.\n",
    "- if __neither__ is detected in the image, provide output that indicates an error.\n",
    "\n",
    "You are welcome to write your own functions for detecting humans and dogs in images, but feel free to use the `face_detector` and `dog_detector` functions developed above.  You are __required__ to use your CNN from Step 5 to predict dog breed.  \n",
    "\n",
    "Some sample output for our algorithm is provided below, but feel free to design your own user experience!\n",
    "\n",
    "![Sample Human Output](images/sample_human_output.png)\n",
    "\n",
    "\n",
    "### (IMPLEMENTATION) Write your Algorithm"
   ]
  },
  {
   "cell_type": "code",
   "execution_count": 267,
   "metadata": {},
   "outputs": [
    {
     "name": "stdout",
     "output_type": "stream",
     "text": [
      "The dog breed is Australian_cattle_dog\n"
     ]
    }
   ],
   "source": [
    "### TODO: Write your algorithm.\n",
    "### Feel free to use as many code cells as needed.\n",
    "def classify_image(img_path):\n",
    "    img = cv2.imread(img_path)\n",
    "    gray = cv2.cvtColor(img, cv2.COLOR_BGR2GRAY)\n",
    "    faces = face_cascade.detectMultiScale(gray)\n",
    "    if len(faces) > 0:\n",
    "        breed=Resnet50_predict_breed(img_path)\n",
    "        return print(\"The image is human and resembling dog breed is {}\".format(breed))\n",
    "    elif dog_detector(img_path) == True:\n",
    "        breed=Resnet50_predict_breed(img_path)\n",
    "        return print(\"The dog breed is {}\".format(breed))\n",
    "    else:\n",
    "        print(\"Error: The image is neither dog nor human\")\n",
    "        \n",
    "classify_image('dogImages/test/011.Australian_cattle_dog/Australian_cattle_dog_00727.jpg')"
   ]
  },
  {
   "cell_type": "markdown",
   "metadata": {},
   "source": [
    "---\n",
    "<a id='step7'></a>\n",
    "## Step 7: Test Your Algorithm\n",
    "\n",
    "In this section, you will take your new algorithm for a spin!  What kind of dog does the algorithm think that __you__ look like?  If you have a dog, does it predict your dog's breed accurately?  If you have a cat, does it mistakenly think that your cat is a dog?\n",
    "\n",
    "### (IMPLEMENTATION) Test Your Algorithm on Sample Images!\n",
    "\n",
    "Test your algorithm at least six images on your computer.  Feel free to use any images you like.  Use at least two human and two dog images.  \n",
    "\n",
    "__Question 6:__ Is the output better than you expected :) ?  Or worse :( ?  Provide at least three possible points of improvement for your algorithm.\n",
    "\n",
    "__Answer:__ \n",
    "The algorithm perfectly detected human and dog faces. I am surprised it even differentiated wolf image (the features are nearly same as dog) by not classifing it as dog."
   ]
  },
  {
   "cell_type": "code",
   "execution_count": 268,
   "metadata": {},
   "outputs": [
    {
     "name": "stdout",
     "output_type": "stream",
     "text": [
      "Error: The image is neither dog nor human\n",
      "The dog breed is Beagle\n",
      "The image is human and resembling dog breed is Chihuahua\n",
      "Error: The image is neither dog nor human\n",
      "Error: The image is neither dog nor human\n",
      "The image is human and resembling dog breed is Beagle\n"
     ]
    }
   ],
   "source": [
    "## TODO: Execute your algorithm from Step 6 on\n",
    "## at least 6 images on your computer.\n",
    "## Feel free to use as many code cells as needed.\n",
    "classify_image('mytest/cat.jpg')\n",
    "classify_image('mytest/dog.jpg')\n",
    "classify_image('mytest/me.jpg')\n",
    "classify_image('mytest/pizza.jpg')\n",
    "classify_image('mytest/wolf.jpg')\n",
    "classify_image('mytest/human.jpg')"
   ]
  },
  {
   "cell_type": "code",
   "execution_count": null,
   "metadata": {
    "collapsed": true
   },
   "outputs": [],
   "source": []
  }
 ],
 "metadata": {
  "anaconda-cloud": {},
  "kernelspec": {
   "display_name": "Python 3",
   "language": "python",
   "name": "python3"
  },
  "language_info": {
   "codemirror_mode": {
    "name": "ipython",
    "version": 3
   },
   "file_extension": ".py",
   "mimetype": "text/x-python",
   "name": "python",
   "nbconvert_exporter": "python",
   "pygments_lexer": "ipython3",
   "version": "3.6.3"
  }
 },
 "nbformat": 4,
 "nbformat_minor": 1
}
